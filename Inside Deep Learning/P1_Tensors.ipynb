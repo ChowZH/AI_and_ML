{
 "cells": [
  {
   "cell_type": "code",
   "execution_count": 1,
   "id": "8fc0caae",
   "metadata": {},
   "outputs": [],
   "source": [
    "# This practice sheet is done following the processes described in the book:\n",
    "# Chapter 1: Foundational Methods"
   ]
  },
  {
   "cell_type": "code",
   "execution_count": 2,
   "id": "2cc15c20",
   "metadata": {},
   "outputs": [],
   "source": [
    "import matplotlib.pyplot as plt\n",
    "import numpy as np\n",
    "import tqdm\n",
    "import pandas as pd\n",
    "import torch\n",
    "import seaborn as sns"
   ]
  },
  {
   "cell_type": "code",
   "execution_count": 3,
   "id": "daac29a8",
   "metadata": {},
   "outputs": [],
   "source": [
    "torch_scalar = torch.tensor(3)\n",
    "torch_vector = torch.tensor([1, 2, 3])\n",
    "torch_matrix = torch.tensor([\n",
    "                             [1,2,3],\n",
    "                             [1,2,3],\n",
    "                             [1,2,3]\n",
    "                             ])\n",
    "torch_tensor3d = torch.tensor([\n",
    "                               [\n",
    "                                [1,1],\n",
    "                                [1,2]\n",
    "                               ],\n",
    "                               [\n",
    "                                [2,1],\n",
    "                                [2,2]\n",
    "                               ],\n",
    "                               [\n",
    "                                [3,1],\n",
    "                                [3,2]\n",
    "                               ]\n",
    "                              ])"
   ]
  },
  {
   "cell_type": "code",
   "execution_count": 4,
   "id": "bba46d0b",
   "metadata": {},
   "outputs": [
    {
     "name": "stdout",
     "output_type": "stream",
     "text": [
      "Scalar shape: torch.Size([])\n",
      "Vector shape: torch.Size([3])\n",
      "Matrix shape: torch.Size([3, 3])\n",
      "Volume shape: torch.Size([3, 2, 2])\n"
     ]
    }
   ],
   "source": [
    "print (f\"Scalar shape: {torch_scalar.shape}\")\n",
    "print (f\"Vector shape: {torch_vector.shape}\")\n",
    "print (f\"Matrix shape: {torch_matrix.shape}\")\n",
    "print (f\"Volume shape: {torch_tensor3d.shape}\")"
   ]
  },
  {
   "cell_type": "code",
   "execution_count": 5,
   "id": "dfbe99f0",
   "metadata": {},
   "outputs": [
    {
     "name": "stdout",
     "output_type": "stream",
     "text": [
      "[[0.54424519 0.06644643 0.90920375 0.90083389]\n",
      " [0.92546043 0.81910563 0.83979825 0.15647739]\n",
      " [0.67789805 0.56067067 0.44024372 0.49120373]\n",
      " [0.77862965 0.35473887 0.79967593 0.19991181]]\n"
     ]
    }
   ],
   "source": [
    "x_np = np.random.random((4,4))\n",
    "print (x_np)"
   ]
  },
  {
   "cell_type": "code",
   "execution_count": 6,
   "id": "6f1c913a",
   "metadata": {},
   "outputs": [
    {
     "name": "stdout",
     "output_type": "stream",
     "text": [
      "tensor([[0.5442, 0.0664, 0.9092, 0.9008],\n",
      "        [0.9255, 0.8191, 0.8398, 0.1565],\n",
      "        [0.6779, 0.5607, 0.4402, 0.4912],\n",
      "        [0.7786, 0.3547, 0.7997, 0.1999]], dtype=torch.float64)\n"
     ]
    }
   ],
   "source": [
    "x_pt = torch.tensor(x_np)\n",
    "print (x_pt)"
   ]
  },
  {
   "cell_type": "code",
   "execution_count": 7,
   "id": "de3bdcd1",
   "metadata": {},
   "outputs": [
    {
     "name": "stdout",
     "output_type": "stream",
     "text": [
      "float64 torch.float64\n"
     ]
    }
   ],
   "source": [
    "print (x_np.dtype, x_pt.dtype)"
   ]
  },
  {
   "cell_type": "code",
   "execution_count": 8,
   "id": "49e0b32d",
   "metadata": {},
   "outputs": [
    {
     "name": "stdout",
     "output_type": "stream",
     "text": [
      "float32 torch.float32\n"
     ]
    }
   ],
   "source": [
    "x_np = np.asarray(x_np, dtype = np.float32)\n",
    "x_pt = torch.tensor(x_np, dtype = torch.float32)\n",
    "\n",
    "print (x_np.dtype, x_pt.dtype)"
   ]
  },
  {
   "cell_type": "code",
   "execution_count": 9,
   "id": "4dd89a87",
   "metadata": {},
   "outputs": [
    {
     "name": "stdout",
     "output_type": "stream",
     "text": [
      "[[ True False  True  True]\n",
      " [ True  True  True False]\n",
      " [ True  True False False]\n",
      " [ True False  True False]]\n",
      "bool\n"
     ]
    }
   ],
   "source": [
    "# Masks\n",
    "b_np = (x_np > 0.5)\n",
    "print (b_np)\n",
    "print (b_np.dtype)"
   ]
  },
  {
   "cell_type": "code",
   "execution_count": 10,
   "id": "ae02b9c2",
   "metadata": {},
   "outputs": [
    {
     "name": "stdout",
     "output_type": "stream",
     "text": [
      "tensor([[ True, False,  True,  True],\n",
      "        [ True,  True,  True, False],\n",
      "        [ True,  True, False, False],\n",
      "        [ True, False,  True, False]])\n",
      "torch.bool\n"
     ]
    }
   ],
   "source": [
    "b_pt = (x_pt > 0.5)\n",
    "print (b_pt)\n",
    "print (b_pt.dtype)"
   ]
  },
  {
   "cell_type": "code",
   "execution_count": 11,
   "id": "373d3d5f",
   "metadata": {},
   "outputs": [
    {
     "name": "stdout",
     "output_type": "stream",
     "text": [
      "9.464543\n",
      "tensor(9.4645)\n"
     ]
    }
   ],
   "source": [
    "print (np.sum(x_np))\n",
    "print (torch.sum(x_pt))"
   ]
  },
  {
   "cell_type": "code",
   "execution_count": 12,
   "id": "d6d8dbb2",
   "metadata": {},
   "outputs": [
    {
     "name": "stdout",
     "output_type": "stream",
     "text": [
      "[[0.5442452  0.92546046 0.67789805 0.77862966]\n",
      " [0.06644643 0.8191056  0.5606707  0.35473886]\n",
      " [0.90920377 0.8397983  0.44024372 0.79967594]\n",
      " [0.9008339  0.15647739 0.49120373 0.1999118 ]]\n",
      "tensor([[0.5442, 0.9255, 0.6779, 0.7786],\n",
      "        [0.0664, 0.8191, 0.5607, 0.3547],\n",
      "        [0.9092, 0.8398, 0.4402, 0.7997],\n",
      "        [0.9008, 0.1565, 0.4912, 0.1999]])\n"
     ]
    }
   ],
   "source": [
    "print (np.transpose(x_np))\n",
    "print (torch.transpose(x_pt,0,1))"
   ]
  },
  {
   "cell_type": "code",
   "execution_count": 13,
   "id": "2f1f7bcb",
   "metadata": {},
   "outputs": [],
   "source": [
    "# GPU acceleration\n",
    "\n",
    "import timeit\n",
    "x = torch.rand(2**11, 2**11)\n",
    "time_cpu = timeit.timeit(\"x@x\", globals=globals(), number=100)"
   ]
  },
  {
   "cell_type": "code",
   "execution_count": 14,
   "id": "0d5ef614",
   "metadata": {},
   "outputs": [
    {
     "name": "stdout",
     "output_type": "stream",
     "text": [
      "Is CUDA available? : True\n"
     ]
    }
   ],
   "source": [
    "print (\"Is CUDA available? :\", torch.cuda.is_available())\n",
    "device = torch.device(\"cuda\")"
   ]
  },
  {
   "cell_type": "code",
   "execution_count": 15,
   "id": "0c7945ca",
   "metadata": {},
   "outputs": [],
   "source": [
    "x = x.to(device)\n",
    "time_gpu = timeit.timeit(\"x@x\", globals=globals(), number = 100)"
   ]
  },
  {
   "cell_type": "code",
   "execution_count": 16,
   "id": "e89ebcea",
   "metadata": {},
   "outputs": [
    {
     "name": "stdout",
     "output_type": "stream",
     "text": [
      "CPU time is : 8.3117714.\n",
      "GPU time is : 1.8531834000000007.\n"
     ]
    }
   ],
   "source": [
    "print (f\"CPU time is : {time_cpu}.\")\n",
    "print (f\"GPU time is : {time_gpu}.\")"
   ]
  },
  {
   "cell_type": "code",
   "execution_count": 17,
   "id": "a437cf90",
   "metadata": {},
   "outputs": [
    {
     "name": "stdout",
     "output_type": "stream",
     "text": [
      "CPU times: total: 1.48 s\n",
      "Wall time: 1.91 s\n"
     ]
    }
   ],
   "source": [
    "%%time\n",
    "# NOTE: GPU acceleration on tensor calculation requires all tensors to be on GPU memory\n",
    "\n",
    "x = torch.rand(2**11,2**11).to(device)\n",
    "y = torch.rand(2**11,1).to(device)\n",
    "z = x*y"
   ]
  },
  {
   "cell_type": "code",
   "execution_count": 18,
   "id": "b87b5329",
   "metadata": {},
   "outputs": [
    {
     "name": "stdout",
     "output_type": "stream",
     "text": [
      "CPU times: total: 15.6 ms\n",
      "Wall time: 12.2 ms\n"
     ]
    }
   ],
   "source": [
    "%%time\n",
    "\n",
    "x = torch.rand(2**11,2**11)\n",
    "y = torch.rand(2**11,1)\n",
    "z = x*y"
   ]
  },
  {
   "cell_type": "code",
   "execution_count": 19,
   "id": "3befdbd6",
   "metadata": {},
   "outputs": [],
   "source": [
    "# Error: matrix in seperate memory\n",
    "\n",
    "# x = torch.rand(2**11,2**11).to(device)\n",
    "# y = torch.rand(2**11,1)\n",
    "# x*y"
   ]
  },
  {
   "cell_type": "code",
   "execution_count": 20,
   "id": "ebe413b0",
   "metadata": {},
   "outputs": [],
   "source": [
    "# Converting to NumPy array requires the matrix to be on host memory\n",
    "\n",
    "# Error: .numpy() needs the matrix to be on host memory\n",
    "\n",
    "# x = torch.rand(128,128).to(device)\n",
    "# x_np = x.numpy()"
   ]
  },
  {
   "cell_type": "code",
   "execution_count": 21,
   "id": "02cfa030",
   "metadata": {},
   "outputs": [
    {
     "name": "stdout",
     "output_type": "stream",
     "text": [
      "[[0.12592775 0.49781138 0.5913721  ... 0.20945299 0.09007263 0.7768526 ]\n",
      " [0.8740909  0.91183776 0.95156693 ... 0.24510199 0.7883028  0.9530341 ]\n",
      " [0.12025249 0.62923616 0.81091934 ... 0.15343767 0.01706022 0.37059253]\n",
      " ...\n",
      " [0.9660728  0.551318   0.4628064  ... 0.04094446 0.0725469  0.8659847 ]\n",
      " [0.6954642  0.74838847 0.4843853  ... 0.34312606 0.12768328 0.47784764]\n",
      " [0.8837443  0.22019732 0.38189095 ... 0.11124837 0.86343277 0.8887049 ]]\n"
     ]
    }
   ],
   "source": [
    "x_np = x.cpu().numpy()\n",
    "print (x_np)"
   ]
  },
  {
   "cell_type": "code",
   "execution_count": 22,
   "id": "4a55b6e5",
   "metadata": {},
   "outputs": [
    {
     "name": "stdout",
     "output_type": "stream",
     "text": [
      "[tensor(1), tensor(2)]\n",
      "[tensor(1, device='cuda:0'), tensor(2, device='cuda:0')]\n"
     ]
    }
   ],
   "source": [
    "def moveTo(obj, device):\n",
    "    if isinstance(obj, list):\n",
    "        return [moveTo(x, device) for x in obj]\n",
    "    \n",
    "    elif isinstance(obj, tuple):\n",
    "        return tuple(moveTo(list(obj), device))\n",
    "    \n",
    "    elif isinstance(obj, set):\n",
    "        return set(moveTo(list(obj), device))\n",
    "    \n",
    "    elif isinstance(obj, dict):\n",
    "        to_ret = dict()\n",
    "        for key, value in obj.items():\n",
    "            to_ret[moveTo(key, device)] = moveTo(value, device)\n",
    "        \n",
    "        return to_ret\n",
    "    \n",
    "    elif hasattr(obj, \"to\"):\n",
    "        return obj.to(device)\n",
    "    \n",
    "    else:\n",
    "        return obj\n",
    "    \n",
    "some_tensor = [torch.tensor(1), torch.tensor(2)]\n",
    "\n",
    "print(some_tensor)\n",
    "print(moveTo(some_tensor, device))"
   ]
  },
  {
   "cell_type": "code",
   "execution_count": 23,
   "id": "63c8a2e2",
   "metadata": {},
   "outputs": [
    {
     "data": {
      "text/plain": [
       "<AxesSubplot:>"
      ]
     },
     "execution_count": 23,
     "metadata": {},
     "output_type": "execute_result"
    },
    {
     "data": {
      "image/png": "[encoded data removed]",
      "text/plain": [
       "<Figure size 432x288 with 1 Axes>"
      ]
     },
     "metadata": {
      "needs_background": "light"
     },
     "output_type": "display_data"
    }
   ],
   "source": [
    "## Auto-derivatives with Pytorch\n",
    "\n",
    "def f(x):\n",
    "    return torch.pow((x-2.0),2)\n",
    "\n",
    "x_axis_vals = np.linspace(-7,9,100)\n",
    "y_axis_vals = f(torch.tensor(x_axis_vals)).numpy()\n",
    "\n",
    "sns.lineplot(x=x_axis_vals, y=y_axis_vals, label='$f(x)=(x-2)^2$')"
   ]
  },
  {
   "cell_type": "code",
   "execution_count": 24,
   "id": "d0b11984",
   "metadata": {},
   "outputs": [
    {
     "data": {
      "text/plain": [
       "<AxesSubplot:>"
      ]
     },
     "execution_count": 24,
     "metadata": {},
     "output_type": "execute_result"
    },
    {
     "data": {
      "image/png": "[encoded data removed]",
      "text/plain": [
       "<Figure size 432x288 with 1 Axes>"
      ]
     },
     "metadata": {
      "needs_background": "light"
     },
     "output_type": "display_data"
    }
   ],
   "source": [
    "def fP(x):\n",
    "    return 2*x-4\n",
    "\n",
    "y_axis_vals_p = fP(torch.tensor(x_axis_vals)).numpy()\n",
    "\n",
    "sns.lineplot (x=x_axis_vals, y=[0.0]*len(x_axis_vals), label='0',color='black')\n",
    "sns.lineplot (x=x_axis_vals, y=y_axis_vals, label='Function to Minimize $f(x) = (x-2)^2$')\n",
    "sns.lineplot (x=x_axis_vals, y=y_axis_vals_p, label=\"Gradient of the function $f(x)=2 x - 4$\")"
   ]
  },
  {
   "cell_type": "code",
   "execution_count": 25,
   "id": "95d7b921",
   "metadata": {},
   "outputs": [
    {
     "name": "stdout",
     "output_type": "stream",
     "text": [
      "None\n"
     ]
    }
   ],
   "source": [
    "x = torch.tensor([-3.5], requires_grad=True)\n",
    "print (x.grad)"
   ]
  },
  {
   "cell_type": "code",
   "execution_count": 26,
   "id": "62d4dd8d",
   "metadata": {},
   "outputs": [
    {
     "name": "stdout",
     "output_type": "stream",
     "text": [
      "tensor([30.2500], grad_fn=<PowBackward0>)\n"
     ]
    }
   ],
   "source": [
    "value=f(x)\n",
    "print (value)"
   ]
  },
  {
   "cell_type": "code",
   "execution_count": 27,
   "id": "7fe5ec32",
   "metadata": {},
   "outputs": [
    {
     "name": "stdout",
     "output_type": "stream",
     "text": [
      "tensor([-11.])\n"
     ]
    }
   ],
   "source": [
    "value.backward()\n",
    "print(x.grad)"
   ]
  },
  {
   "cell_type": "code",
   "execution_count": 28,
   "id": "92d158d1",
   "metadata": {},
   "outputs": [
    {
     "name": "stdout",
     "output_type": "stream",
     "text": [
      "tensor([2.0000])\n"
     ]
    }
   ],
   "source": [
    "x = torch.tensor([-3.5], requires_grad=True)\n",
    "x_cur = x.clone()\n",
    "x_prev = x_cur*100\n",
    "\n",
    "epsilon = 1e-5\n",
    "eta = 0.1\n",
    "\n",
    "while torch.linalg.norm(x_cur-x_prev) > epsilon:\n",
    "    x_prev = x_cur.clone()\n",
    "    value = f(x)\n",
    "    value.backward()\n",
    "    x.data -= eta*x.grad\n",
    "    x.grad.zero_()\n",
    "    x_cur = x.data\n",
    "    \n",
    "print(x_cur)\n"
   ]
  },
  {
   "cell_type": "code",
   "execution_count": 29,
   "id": "1c0914c3",
   "metadata": {},
   "outputs": [],
   "source": [
    "x_param = torch.nn.Parameter(torch.tensor([-3.5], requires_grad = True))\n",
    "optimizer = torch.optim.SGD([x_param], lr=eta)"
   ]
  },
  {
   "cell_type": "code",
   "execution_count": 30,
   "id": "98261e06",
   "metadata": {},
   "outputs": [
    {
     "name": "stdout",
     "output_type": "stream",
     "text": [
      "tensor([2.0000])\n"
     ]
    }
   ],
   "source": [
    "for epoch in range(60):\n",
    "    optimizer.zero_grad()\n",
    "    loss_incurred = f(x_param)\n",
    "    loss_incurred.backward()\n",
    "    optimizer.step()\n",
    "\n",
    "print(x_param.data)"
   ]
  },
  {
   "cell_type": "code",
   "execution_count": 31,
   "id": "93345bd3",
   "metadata": {},
   "outputs": [],
   "source": [
    "from torch.utils.data import Dataset\n",
    "from sklearn.datasets import fetch_openml"
   ]
  },
  {
   "cell_type": "code",
   "execution_count": 32,
   "id": "039fb89f",
   "metadata": {},
   "outputs": [
    {
     "name": "stdout",
     "output_type": "stream",
     "text": [
      "(70000, 784)\n"
     ]
    }
   ],
   "source": [
    "X, y = fetch_openml ('mnist_784', version=1, return_X_y=True)\n",
    "print (X.shape)"
   ]
  },
  {
   "cell_type": "code",
   "execution_count": 33,
   "id": "0574352b",
   "metadata": {},
   "outputs": [],
   "source": [
    "class SimpleDataset(Dataset):\n",
    "    def __init__(self, X, y):\n",
    "        super().__init__()\n",
    "        self.X = X\n",
    "        self.y = y\n",
    "        \n",
    "    def __getitem__(self, index):\n",
    "        inputs = torch.tensor(self.X.loc[index,:], dtype=torch.float32)\n",
    "        targets = torch.tensor(int(self.y.loc[index]), dtype=torch.int64)\n",
    "        return inputs, targets\n",
    "    \n",
    "    def __len__(self):\n",
    "        return self.X.shape[0]"
   ]
  },
  {
   "cell_type": "code",
   "execution_count": 34,
   "id": "0ff6885e",
   "metadata": {},
   "outputs": [],
   "source": [
    "dataset = SimpleDataset(X,y)"
   ]
  },
  {
   "cell_type": "code",
   "execution_count": 35,
   "id": "917814f8",
   "metadata": {},
   "outputs": [
    {
     "name": "stdout",
     "output_type": "stream",
     "text": [
      "Length: 70000\n",
      "Features: torch.Size([784])\n",
      "Label of index 0: 5\n"
     ]
    }
   ],
   "source": [
    "print(f\"Length: {len(dataset)}\")\n",
    "example, label = dataset[0]\n",
    "print(f\"Features: {example.shape}\")\n",
    "print(f\"Label of index 0: {label}\")"
   ]
  },
  {
   "cell_type": "code",
   "execution_count": 36,
   "id": "b74b31d0",
   "metadata": {},
   "outputs": [
    {
     "data": {
      "text/plain": [
       "<matplotlib.image.AxesImage at 0x238b016cdf0>"
      ]
     },
     "execution_count": 36,
     "metadata": {},
     "output_type": "execute_result"
    },
    {
     "data": {
      "image/png": "[encoded data removed]",
      "text/plain": [
       "<Figure size 432x288 with 1 Axes>"
      ]
     },
     "metadata": {
      "needs_background": "light"
     },
     "output_type": "display_data"
    }
   ],
   "source": [
    "plt.imshow(example.reshape((28,28)))"
   ]
  },
  {
   "cell_type": "code",
   "execution_count": 37,
   "id": "2ed49bbb",
   "metadata": {},
   "outputs": [
    {
     "name": "stdout",
     "output_type": "stream",
     "text": [
      "Train set size: 49000.\n",
      "Test set size: 10500.\n",
      "Validation set size: 10500.\n"
     ]
    }
   ],
   "source": [
    "train_size = int(len(dataset)*0.7)\n",
    "test_size = int((len(dataset)-train_size)/2)\n",
    "val_size = test_size\n",
    "\n",
    "train_set, test_set, val_set = torch.utils.data.random_split(dataset, (train_size, test_size, val_size))\n",
    "\n",
    "print(f\"Train set size: {len(train_set)}.\")\n",
    "print(f\"Test set size: {len(test_set)}.\")\n",
    "print(f\"Validation set size: {len(val_set)}.\")"
   ]
  },
  {
   "cell_type": "code",
   "execution_count": null,
   "id": "405c1b46",
   "metadata": {},
   "outputs": [],
   "source": []
  }
 ],
 "metadata": {
  "kernelspec": {
   "display_name": "Python 3 (ipykernel)",
   "language": "python",
   "name": "python3"
  },
  "language_info": {
   "codemirror_mode": {
    "name": "ipython",
    "version": 3
   },
   "file_extension": ".py",
   "mimetype": "text/x-python",
   "name": "python",
   "nbconvert_exporter": "python",
   "pygments_lexer": "ipython3",
   "version": "3.9.12"
  }
 },
 "nbformat": 4,
 "nbformat_minor": 5
}
