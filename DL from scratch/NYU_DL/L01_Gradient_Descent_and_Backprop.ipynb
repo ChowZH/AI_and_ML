{
 "cells": [
  {
   "cell_type": "code",
   "execution_count": 1,
   "id": "936a1c51",
   "metadata": {},
   "outputs": [],
   "source": [
    "import torch\n",
    "import torch.nn as nn"
   ]
  },
  {
   "cell_type": "code",
   "execution_count": 2,
   "id": "397c8249",
   "metadata": {},
   "outputs": [],
   "source": [
    "# Example\n",
    "\n",
    "image = torch.randn(3,10,20)\n",
    "d0 = image.nelement()\n",
    "\n",
    "class mynet(nn.Module):\n",
    "    def __init__ (self, d0,d1,d2,d3):\n",
    "        super().__init__()\n",
    "        self.m0 = nn.Linear(d0,d1)\n",
    "        self.m1 = nn.Linear(d1,d2)\n",
    "        self.m2 = nn.Linear(d2,d3)\n",
    "        \n",
    "    def forward(self, x):\n",
    "        z0 = x.view(-1) ## Flatten input into tensor\n",
    "        s1 = self.m0(z0)\n",
    "        z1 = torch.relu(s1)\n",
    "        s2 = self.m1(z1)\n",
    "        z2 = torch.relu(s2)\n",
    "        s3 = self.m2(z2)\n",
    "        return s3\n",
    "    \n",
    "model = mynet(d0,60,40,10)\n",
    "out = model(image)"
   ]
  },
  {
   "cell_type": "code",
   "execution_count": null,
   "id": "d799f783",
   "metadata": {},
   "outputs": [],
   "source": []
  }
 ],
 "metadata": {
  "kernelspec": {
   "display_name": "Python 3 (ipykernel)",
   "language": "python",
   "name": "python3"
  },
  "language_info": {
   "codemirror_mode": {
    "name": "ipython",
    "version": 3
   },
   "file_extension": ".py",
   "mimetype": "text/x-python",
   "name": "python",
   "nbconvert_exporter": "python",
   "pygments_lexer": "ipython3",
   "version": "3.9.12"
  }
 },
 "nbformat": 4,
 "nbformat_minor": 5
}
