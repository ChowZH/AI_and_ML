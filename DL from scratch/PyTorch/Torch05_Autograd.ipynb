{
 "cells": [
  {
   "cell_type": "markdown",
   "id": "516cba4c",
   "metadata": {},
   "source": [
    "# Automatic Defferentiation with `Torch.Autograd`\n",
    "When training neural networks, the most frequently used algorithm is **back propagation**. Essentially, the adjustment of model parameters (weights and biases) using gradients of the loss function with respect to the given parameter.\n",
    "\n",
    "To compute the gradients, PyTorch has a built-in differentiation engine called `torch.autograd`. It supports automatic computation of gradient for any computational graph.\n",
    "\n",
    "Consider the simplest one-layer neural network, with input `x`, parameters `w` and `b`, and some loss function. It can be PyTorch in the following manner:"
   ]
  },
  {
   "cell_type": "code",
   "execution_count": 1,
   "id": "13011c75",
   "metadata": {},
   "outputs": [],
   "source": [
    "import torch\n",
    "import torch.nn.functional as F\n",
    "\n",
    "x = torch.ones(5)\n",
    "y = torch.zeros(3)\n",
    "w = torch.randn(5, 3, requires_grad=True)\n",
    "b = torch.randn(3, requires_grad=True)\n",
    "z = torch.matmul(x, w)+b\n",
    "loss = F.binary_cross_entropy_with_logits(z, y)"
   ]
  },
  {
   "cell_type": "markdown",
   "id": "5c20422d",
   "metadata": {},
   "source": [
    "## Tensors, Functions and Computational Graph\n",
    "This code defines the computational graph [here](https://pytorch.org/tutorials/beginner/basics/autogradqs_tutorial.html). In this network, `w` and `b` are the **parameters** which we need to optimize through back propagation. Thus, we need to be able to compute the gradients of the loss function with respect to those variables. In order to do that, we set the `requires_grad` property to the tensors.\n",
    "\n",
    "Note: `requires_grad` can be set during tensor creation, or later with `tensor.requires_grad_(True)`.\n",
    "\n",
    "A function that we apply to tensors to construct computational graphs is in fact an object of class `Function`. This object knows how to compute the function in the *forward* direction, and also how to compute its derivative in the *back propagation* step. A reference to the back prop function is stored in `grad_fn` property of a tensor. More information of `Function` is available in the [documentation](https://pytorch.org/docs/stable/autograd.html#function)."
   ]
  },
  {
   "cell_type": "code",
   "execution_count": 2,
   "id": "c0946c5c",
   "metadata": {},
   "outputs": [
    {
     "name": "stdout",
     "output_type": "stream",
     "text": [
      "Gradient function for z = <AddBackward0 object at 0x0000025EDA0EB8E0>\n",
      "Gradient function for loss = <BinaryCrossEntropyWithLogitsBackward0 object at 0x0000025EDA0EB400>\n"
     ]
    }
   ],
   "source": [
    "print (f\"Gradient function for z = {z.grad_fn}\")\n",
    "print (f\"Gradient function for loss = {loss.grad_fn}\")"
   ]
  },
  {
   "cell_type": "markdown",
   "id": "2fa12e59",
   "metadata": {},
   "source": [
    "## Computing Gradients\n",
    "To optimize weights of parameters in neural networks, we need to compare the derivatives of our loss function with respect to parameters, namely, we need ∂loss/∂w and ∂loss/∂b under some fixed values of `X` and `y`. To compute those derivatives, we call `loss.backward()`, and then retrieve the values from `w.grad` and `b.grad`."
   ]
  },
  {
   "cell_type": "code",
   "execution_count": 3,
   "id": "45ceb323",
   "metadata": {},
   "outputs": [
    {
     "name": "stdout",
     "output_type": "stream",
     "text": [
      "tensor([[0.2798, 0.0079, 0.2763],\n",
      "        [0.2798, 0.0079, 0.2763],\n",
      "        [0.2798, 0.0079, 0.2763],\n",
      "        [0.2798, 0.0079, 0.2763],\n",
      "        [0.2798, 0.0079, 0.2763]])\n",
      "tensor([0.2798, 0.0079, 0.2763])\n"
     ]
    }
   ],
   "source": [
    "loss.backward()\n",
    "print (w.grad)\n",
    "print (b.grad)"
   ]
  },
  {
   "cell_type": "markdown",
   "id": "53598a99",
   "metadata": {},
   "source": [
    "Note:\n",
    "- We can only obtain the `grad` properties for the leaf nodes of the computational graph, which have `requires_grad` property set to `True`. For all other nodes in our graph, gradients will not be available.\n",
    "- We can only perform gradient calculations using `backward` once on a given graph for performance reasons. If we need to do several `backward` calls on the same graph, we need to pass `retain_graph=True` to the `backward` call."
   ]
  },
  {
   "cell_type": "markdown",
   "id": "20bdca3a",
   "metadata": {},
   "source": [
    "## Disabling Gradient Tracking\n",
    "By default, all tensors with `requires_grad=True` are tracking their computational history and support gradient computation. However, there are some cases where we do not need to do that. For example, when we have trained the model, and just want to apply it to some input data, i.e. we only want to do *forward* computations through the network. We can stop tracking computations by surrounding our computation code with `torch.no_grad()` block:"
   ]
  },
  {
   "cell_type": "code",
   "execution_count": 5,
   "id": "2af2f745",
   "metadata": {},
   "outputs": [
    {
     "name": "stdout",
     "output_type": "stream",
     "text": [
      "True\n",
      "False\n"
     ]
    }
   ],
   "source": [
    "z = torch.matmul(x, w)+b\n",
    "print (z.requires_grad)\n",
    "\n",
    "with torch.no_grad():\n",
    "    z = torch.matmul(x, w)+b\n",
    "print (z.requires_grad)"
   ]
  },
  {
   "cell_type": "markdown",
   "id": "d7371a1b",
   "metadata": {},
   "source": [
    "Another way to achieve this is to use the `detach()` method on the tensor:"
   ]
  },
  {
   "cell_type": "code",
   "execution_count": 7,
   "id": "4dab0546",
   "metadata": {},
   "outputs": [
    {
     "name": "stdout",
     "output_type": "stream",
     "text": [
      "False\n"
     ]
    }
   ],
   "source": [
    "z = torch.matmul(x, w)+b\n",
    "z_det = z.detach()\n",
    "print (z_det.requires_grad)"
   ]
  },
  {
   "cell_type": "markdown",
   "id": "e0584b49",
   "metadata": {},
   "source": [
    "There are reasons to disable gradient tracking:\n",
    "- To mark some parameters in the neural network as **frozen parameters**. This is very common for [finetuning a pretrained network](https://pytorch.org/tutorials/beginner/finetuning_torchvision_models_tutorial.html).\n",
    "- To **speed up computation** when only doing forward pass. E.g. when running through test data."
   ]
  },
  {
   "cell_type": "markdown",
   "id": "300bd4f6",
   "metadata": {},
   "source": [
    "## More on Computational Graphs\n",
    "Conceptually, autograd keeps a record of data (tensors) and all executed operations (along with the resulting new tensors) in a directed acyclic graph (DAG) consisting of [Function](https://pytorch.org/docs/stable/autograd.html#torch.autograd.Function) objects. In this DAG, leaves are the input tensors, roots are the output tensors. By tracing this graph from roots to leaves, gradients can be automatically computed using the chain rule.\n",
    "\n",
    "In a forward pass, autograd does two thing simultaneously:\n",
    "- Run the requested operation to compute the resulting tensor\n",
    "- Maintain the operation's *gradient function* in the DAG\n",
    "\n",
    "The backward runs when the `.backward()` method is called on the DAG root. `autograd` then:\n",
    "- Computes the gradients from each `.grad_fn`\n",
    "- Accumulates them in the respective tensor's `.grad` attribute\n",
    "- Using chain rule, propagates all the way to the leaf tensors\n",
    "\n",
    "Note:\n",
    "**DAGs are dynamic in PyTorch**; it is important to note that the graph is recreated from scratch. After each `.backward()` call, autograd starts populating a new graph.This is exactly what allows the use of control flow statements in the model; allow for size, shape and operation changes at every iteration if needed."
   ]
  },
  {
   "cell_type": "markdown",
   "id": "65cddfc6",
   "metadata": {},
   "source": [
    "### Optional Reading: Tensor Gradients and Jacobian Products\n",
    "In many cases, we have a scalar loss function, and we need to compute the gradient with respect to some parameters. However, there are cases when the output function is an arbitrary tensor. In this case, PyTorch allows the computation of so-called [Jacobian Products](https://en.wikipedia.org/wiki/Jacobian_matrix_and_determinant), and not the actual gradient.\n",
    "\n",
    "Instead of computing the full **Jacobian Matrix** itself, PyTorch allows you to compute the **Jacobian Product** *v^T . J* for a given input vector, *v*. This is achieved by calling `backward` with *v* as an argument. The size of *v* is the same as the original tensor, with respect to which we want to compute the product."
   ]
  },
  {
   "cell_type": "code",
   "execution_count": 9,
   "id": "93f4d974",
   "metadata": {},
   "outputs": [
    {
     "name": "stdout",
     "output_type": "stream",
     "text": [
      "First call\n",
      "tensor([[4., 2., 2., 2., 2.],\n",
      "        [2., 4., 2., 2., 2.],\n",
      "        [2., 2., 4., 2., 2.],\n",
      "        [2., 2., 2., 4., 2.],\n",
      "        [2., 2., 2., 2., 4.]])\n",
      "Second call\n",
      "tensor([[8., 4., 4., 4., 4.],\n",
      "        [4., 8., 4., 4., 4.],\n",
      "        [4., 4., 8., 4., 4.],\n",
      "        [4., 4., 4., 8., 4.],\n",
      "        [4., 4., 4., 4., 8.]])\n",
      "Second call\n",
      "tensor([[4., 2., 2., 2., 2.],\n",
      "        [2., 4., 2., 2., 2.],\n",
      "        [2., 2., 4., 2., 2.],\n",
      "        [2., 2., 2., 4., 2.],\n",
      "        [2., 2., 2., 2., 4.]])\n"
     ]
    }
   ],
   "source": [
    "inp = torch.eye(5, requires_grad=True)\n",
    "out = (inp+1).pow(2)\n",
    "out.backward(torch.ones_like(inp), retain_graph=True)\n",
    "print (f\"First call\\n{inp.grad}\")\n",
    "out.backward(torch.ones_like(inp), retain_graph=True)\n",
    "print (f\"Second call\\n{inp.grad}\")\n",
    "inp.grad.zero_()\n",
    "out.backward(torch.ones_like(inp), retain_graph=True)\n",
    "print (f\"Second call\\n{inp.grad}\")"
   ]
  },
  {
   "cell_type": "markdown",
   "id": "2a9bfe6b",
   "metadata": {},
   "source": [
    "Notice that when we call `backward` for the second time with the same argument, the value of the gradient is different. This happens because we are doing *backward propagation*. PyTorch **accumulates the gradients**, i.e. the value of computed gradients is added to the `grad` property of all leaf nodes of the computational graph. If you want to compute the proper gradients, you need to zero out the `grad` property before. In real-life training an *optimizer* helps us to do this."
   ]
  },
  {
   "cell_type": "markdown",
   "id": "71563b83",
   "metadata": {},
   "source": [
    "Note:\n",
    "We previously call `backward()` function without parameters. This is essentially equivalent to calling `backward(torch.tensor(1.0))`, which is a useful way to compute the gradients in case of a scalar-valued function, such as loss during neural network training."
   ]
  }
 ],
 "metadata": {
  "kernelspec": {
   "display_name": "Python 3 (ipykernel)",
   "language": "python",
   "name": "python3"
  },
  "language_info": {
   "codemirror_mode": {
    "name": "ipython",
    "version": 3
   },
   "file_extension": ".py",
   "mimetype": "text/x-python",
   "name": "python",
   "nbconvert_exporter": "python",
   "pygments_lexer": "ipython3",
   "version": "3.9.12"
  }
 },
 "nbformat": 4,
 "nbformat_minor": 5
}
