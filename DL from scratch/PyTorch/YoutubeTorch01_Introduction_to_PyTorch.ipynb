{
 "cells": [
  {
   "cell_type": "markdown",
   "id": "e90f7d7f",
   "metadata": {},
   "source": [
    "# PyTorch Tensors\n",
    "\n",
    "First we will import pytorch."
   ]
  },
  {
   "cell_type": "code",
   "execution_count": 1,
   "id": "4a313575",
   "metadata": {},
   "outputs": [],
   "source": [
    "import torch"
   ]
  },
  {
   "cell_type": "markdown",
   "id": "5357dafd",
   "metadata": {},
   "source": [
    "Let's see a few basic tensor manipulations. First, just a few of the ways to create tensors:"
   ]
  },
  {
   "cell_type": "code",
   "execution_count": 2,
   "id": "86a26e88",
   "metadata": {},
   "outputs": [
    {
     "name": "stdout",
     "output_type": "stream",
     "text": [
      "tensor([[0., 0., 0.],\n",
      "        [0., 0., 0.],\n",
      "        [0., 0., 0.],\n",
      "        [0., 0., 0.],\n",
      "        [0., 0., 0.]])\n",
      "torch.float32\n"
     ]
    }
   ],
   "source": [
    "z = torch.zeros(5,3)\n",
    "print (z)\n",
    "print (z.dtype)"
   ]
  },
  {
   "cell_type": "markdown",
   "id": "e68662a1",
   "metadata": {},
   "source": [
    "Above, we created a 5x3 matrix filled with zeros, and query its datatype to find out that the zeros are 32-bit floating point numbers, which is the default in PyTorch.\n",
    "\n",
    "What if we wanted integers instead? We can always override the default:"
   ]
  },
  {
   "cell_type": "code",
   "execution_count": 3,
   "id": "8ef1a479",
   "metadata": {},
   "outputs": [
    {
     "name": "stdout",
     "output_type": "stream",
     "text": [
      "tensor([[1, 1, 1],\n",
      "        [1, 1, 1],\n",
      "        [1, 1, 1],\n",
      "        [1, 1, 1],\n",
      "        [1, 1, 1]], dtype=torch.int16)\n"
     ]
    }
   ],
   "source": [
    "i = torch.ones((5, 3), dtype=torch.int16)\n",
    "print (i)\n",
    "# If not default, print also shows dtype"
   ]
  },
  {
   "cell_type": "markdown",
   "id": "fc57957a",
   "metadata": {},
   "source": [
    "You can see that when we do change the default, the tensor helpfully reports this when printed.\n",
    "\n",
    "It's common to initialize learning weights randomly, often with a specific seed for the PRNG for reproducibility of results:"
   ]
  },
  {
   "cell_type": "code",
   "execution_count": 4,
   "id": "4434cbd3",
   "metadata": {},
   "outputs": [
    {
     "name": "stdout",
     "output_type": "stream",
     "text": [
      "A random tensor:\n",
      "tensor([[0.3126, 0.3791],\n",
      "        [0.3087, 0.0736]])\n",
      "Another random tensor:\n",
      "tensor([[0.4216, 0.0691],\n",
      "        [0.2332, 0.4047]])\n",
      "Random tensor with seed set to same as r1:\n",
      "tensor([[0.3126, 0.3791],\n",
      "        [0.3087, 0.0736]])\n"
     ]
    }
   ],
   "source": [
    "torch.manual_seed(1729)\n",
    "r1 = torch.rand(2,2)\n",
    "print ('A random tensor:')\n",
    "print (r1)\n",
    "\n",
    "r2 = torch.rand(2,2)\n",
    "print ('Another random tensor:')\n",
    "print (r2)\n",
    "\n",
    "torch.manual_seed(1729)\n",
    "r3 = torch.rand(2,2)\n",
    "print ('Random tensor with seed set to same as r1:')\n",
    "print (r3)"
   ]
  },
  {
   "cell_type": "markdown",
   "id": "fc1e31fb",
   "metadata": {},
   "source": [
    "PyTorch tensors perform arithmetric operations intuitively . Tensors of similar shapes may be added, multiplied, etc. Operations with scalars are distributed over the tensor:"
   ]
  },
  {
   "cell_type": "code",
   "execution_count": 5,
   "id": "0f398eb5",
   "metadata": {},
   "outputs": [
    {
     "name": "stdout",
     "output_type": "stream",
     "text": [
      "tensor([[1., 1., 1.],\n",
      "        [1., 1., 1.]])\n",
      "tensor([[2., 2., 2.],\n",
      "        [2., 2., 2.]])\n",
      "tensor([[3., 3., 3.],\n",
      "        [3., 3., 3.]])\n",
      "torch.Size([2, 3])\n",
      "tensor([[0.2269, 0.3783],\n",
      "        [0.3445, 0.7730]])\n",
      "torch.Size([2, 2])\n"
     ]
    }
   ],
   "source": [
    "ones = torch.ones(2, 3)\n",
    "print (ones)\n",
    "\n",
    "twos = torch.ones(2, 3)*2\n",
    "print (twos)\n",
    "\n",
    "threes = ones + twos\n",
    "print (threes)\n",
    "print (threes.shape)\n",
    "\n",
    "r1 = torch.rand(2, 3)\n",
    "r2 = torch.rand(3, 2)\n",
    "r3 = torch.matmul(r1,r2)\n",
    "print (r3)\n",
    "print (r3.shape)"
   ]
  },
  {
   "cell_type": "markdown",
   "id": "3c9e8e8a",
   "metadata": {},
   "source": [
    "Here is a small sample of mathematical operations available:"
   ]
  },
  {
   "cell_type": "code",
   "execution_count": 6,
   "id": "e8a4646c",
   "metadata": {},
   "outputs": [
    {
     "name": "stdout",
     "output_type": "stream",
     "text": [
      "A random matrix, r:\n",
      "tensor([[ 0.9956, -0.2232],\n",
      "        [ 0.3858, -0.6593]])\n",
      "\n",
      "The bsolute value of r:\n",
      "tensor([[0.9956, 0.2232],\n",
      "        [0.3858, 0.6593]])\n",
      "\n",
      "Inverse sin of r:\n",
      "tensor([[ 1.4775, -0.2251],\n",
      "        [ 0.3961, -0.7199]])\n",
      "\n",
      "Determinant of r:\n",
      "tensor(-0.5703)\n",
      "\n",
      "Single value decomposition of r:\n",
      "torch.return_types.svd(\n",
      "U=tensor([[-0.8353, -0.5497],\n",
      "        [-0.5497,  0.8353]]),\n",
      "S=tensor([1.1793, 0.4836]),\n",
      "V=tensor([[-0.8851, -0.4654],\n",
      "        [ 0.4654, -0.8851]]))\n",
      "\n",
      "Average and standard deviation of r:\n",
      "(tensor(0.7217), tensor(0.1247))\n",
      "\n",
      "Maximum value of r:\n",
      "tensor(0.9956)\n"
     ]
    }
   ],
   "source": [
    "r = (torch.rand(2,2) - 0.5)*2\n",
    "print (\"A random matrix, r:\")\n",
    "print (r)\n",
    "\n",
    "print (\"\\nThe bsolute value of r:\")\n",
    "print (torch.abs(r))\n",
    "\n",
    "print (\"\\nInverse sin of r:\")\n",
    "print (torch.asin(r))\n",
    "\n",
    "print (\"\\nDeterminant of r:\")\n",
    "print (torch.det(r))\n",
    "\n",
    "print (\"\\nSingle value decomposition of r:\")\n",
    "print (torch.svd(r))\n",
    "\n",
    "print (\"\\nAverage and standard deviation of r:\")\n",
    "print (torch.std_mean(r))\n",
    "\n",
    "print (\"\\nMaximum value of r:\")\n",
    "print (torch.max(r))"
   ]
  },
  {
   "cell_type": "markdown",
   "id": "4d084b1e",
   "metadata": {},
   "source": [
    "There is a good deal more to know about the power of PyTorch tensors, including how to set them up for parallel computations on GPU - we'll be going into more depth in other chapters."
   ]
  },
  {
   "cell_type": "markdown",
   "id": "779cb31c",
   "metadata": {},
   "source": [
    "# PyTorch Models\n",
    "Lets talk about how we express models in PyTorch."
   ]
  },
  {
   "cell_type": "code",
   "execution_count": 7,
   "id": "00b952b9",
   "metadata": {},
   "outputs": [],
   "source": [
    "import torch\n",
    "import torch.nn as nn\n",
    "import torch.nn.functional as F"
   ]
  },
  {
   "cell_type": "markdown",
   "id": "7238ec1e",
   "metadata": {},
   "source": [
    "One of the earliest convolutional neural nets is the LeNet-5 model. (A diagram is available [here](https://pytorch.org/tutorials/beginner/introyt/introyt1_tutorial.html)). It was built to read small images of handwritten numbers, and correctly classify the digit of the number it was.\n",
    "\n",
    "An abridged version of how it works:\n",
    "- Layer C1 is a convolutional layer, by running segments of the complete picture through feature filters. The activation maps are downsampled into Layer S2.\n",
    "- Layer S2 is passed through another convolutional layer C3, that further extracts features of features from the downsampled activation map.\n",
    "- A laymen's explanation would be each layer gives a more complex explanation to relationships between identified parts of the image as a whole, and the last few fully connected layers decide the classification output of the initial input image.\n",
    "\n",
    "How do we express this network in code?"
   ]
  },
  {
   "cell_type": "code",
   "execution_count": 8,
   "id": "9c54dfe3",
   "metadata": {},
   "outputs": [],
   "source": [
    "class LeNet(nn.Module):\n",
    "    def __init__(self):\n",
    "        super().__init__()\n",
    "        self.conv1 = nn.Conv2d(1, 6, 3)\n",
    "        self.conv2 = nn.Conv2d(6, 16, 3)\n",
    "        self.fc1 = nn.Linear(16 * 6 * 6, 120) # 6 * 6 from input image dimension\n",
    "        self.fc2 = nn.Linear(120, 84)\n",
    "        self.fc3 = nn.Linear(84, 10)\n",
    "        \n",
    "    def forward(self, x):\n",
    "        x = F.max_pool2d(F.relu(self.conv1(x)), (2,2))\n",
    "        x = F.max_pool2d(F.relu(self.conv2(x)), 2)\n",
    "        \n",
    "        x = x.view(-1, self.num_flat_features(x))\n",
    "        x = F.relu(self.fc1(x))\n",
    "        x = F.relu(self.fc2(x))\n",
    "        x = self.fc3(x)\n",
    "        \n",
    "        return x\n",
    "    \n",
    "    def num_flat_features(self, x):\n",
    "        size = x.size()[1:] # all dims except batch dim\n",
    "        num_features = 1\n",
    "        for s in size:\n",
    "            num_features *= s\n",
    "        return num_features"
   ]
  },
  {
   "cell_type": "markdown",
   "id": "0c4cb487",
   "metadata": {},
   "source": [
    "Looking at the code, we should be able to spot some structural similarities with the diagram mentioned above.\n",
    "\n",
    "This demonstrates the structure of a typical PyTorch model:\n",
    "- It inherits from `torch.nn.Module` - modules may be nested - in fact, even the `Conv2d` and `Linear`layer classes inherit from `torch.nn.Module`.\n",
    "- A model will have an `__init__()` function, where it instantiates its layers, and loads any data artifacts it might need (e.g. an NLP model might load a vocabulary).\n",
    "- A model will have a `forward()` function. This is where the actual computation happens: An input is passed through the various network layers and functions to generate the output.\n",
    "- Other than that, we can build our model class like any Python class, adding whatever properties and methods we need to support the model's computation.\n",
    "\n",
    "Let's instantiate this object and run a sample input through it."
   ]
  },
  {
   "cell_type": "code",
   "execution_count": 9,
   "id": "cb4521cf",
   "metadata": {},
   "outputs": [
    {
     "name": "stdout",
     "output_type": "stream",
     "text": [
      "LeNet(\n",
      "  (conv1): Conv2d(1, 6, kernel_size=(3, 3), stride=(1, 1))\n",
      "  (conv2): Conv2d(6, 16, kernel_size=(3, 3), stride=(1, 1))\n",
      "  (fc1): Linear(in_features=576, out_features=120, bias=True)\n",
      "  (fc2): Linear(in_features=120, out_features=84, bias=True)\n",
      "  (fc3): Linear(in_features=84, out_features=10, bias=True)\n",
      ")\n",
      "\n",
      "Image batch shape:\n",
      "torch.Size([1, 1, 32, 32])\n",
      "\n",
      "Raw output:\n",
      "tensor([[ 0.0372, -0.0170, -0.0243, -0.0084, -0.0150, -0.0408, -0.1253,  0.0647,\n",
      "          0.0078,  0.0023]], grad_fn=<AddmmBackward0>)\n",
      "torch.Size([1, 10])\n"
     ]
    }
   ],
   "source": [
    "net = LeNet()\n",
    "print (net)\n",
    "\n",
    "input  = torch.randn(1, 1, 32, 32)\n",
    "print (\"\\nImage batch shape:\")\n",
    "print (input.shape)\n",
    "\n",
    "output = net(input)\n",
    "print (\"\\nRaw output:\")\n",
    "print (output)\n",
    "print (output.shape)"
   ]
  },
  {
   "cell_type": "markdown",
   "id": "450ed1e8",
   "metadata": {},
   "source": [
    "There are a few important things happening above:\n",
    "\n",
    "First, we instantiate the `LeNet` class, and we print the `net` object. A subclass of `torch.nn.Module` will report the layers it has created and their shape and parameters. This can provide a handy overview of a model if we want to get the gist of the processing.\n",
    "\n",
    "Below that, we created one dummy input of a 32x32 grayscale image, (one dummy image (1) X grayscale (1) X size (32 X 32)). With a normal image file, we would load the image, then use `torchvision.transforms` to convert them to a tensor.\n",
    "\n",
    "The 4 dimensions of our dummy data represents the batch, channels, and input dimensions. For a batch of 16 images, the input shape would look like: 16 x 1 x 32 x 32. Then a batch of 16 coloured images would look like: 16 X 3 X 32 X 32.\n",
    "\n",
    "We ask the model for an inference by calling it like a function: `net(input)`. From the `forward()` method, the input is fed through the network layers. An output is produced and, in the case of training, the deltas of all parameters are backpropagated through the network for learning. Looking at the shape of the `output`, we can see that it also has a batch dimension along with the actual output dimension. This batch dimension should always match the input batch dimension."
   ]
  },
  {
   "cell_type": "markdown",
   "id": "3e33e984",
   "metadata": {},
   "source": [
    "# Datasets and DataLoaders\n",
    "\n",
    "Here, we demonstrate using ready-to-download, open-access datasets from `TorchVision`, how to transform input data for consumption by the model, and use `DataLoader` to feed batches of data to the model.\n",
    "\n",
    "The first thing we need to do is to obtain the data. The data downloaded from TorchVision and other open-access datasets are generally considered toy datasets, mainly used for prototyping models and benchmarking performance. Real world data often require much more processing to be usable.\n",
    "\n",
    "Next, we transform our imcoming images into a PyTorch tensor."
   ]
  },
  {
   "cell_type": "code",
   "execution_count": 10,
   "id": "f334c55c",
   "metadata": {},
   "outputs": [],
   "source": [
    "import torch\n",
    "import torchvision\n",
    "import torchvision.transforms as transforms\n",
    "\n",
    "transform = transforms.Compose(\n",
    "    [transforms.ToTensor(),\n",
    "    transforms.Normalize((0.5,0.5,0.5), (0.5,0.5,0.5))]\n",
    ")"
   ]
  },
  {
   "cell_type": "markdown",
   "id": "53873d76",
   "metadata": {},
   "source": [
    "We specify two transformations for the later inputs:\n",
    "- `transforms.ToTensor()` converts the pixel values loaded by Pillow into PyTorch tensors.\n",
    "- `transforms.Normalize()` adjusts the values of the tensors so that the average is zero and the standard deviation is 0.5. Most activation functions have their strongest gradients around x = 0, so centering our data there can speed up learning.\n",
    "\n",
    "There are many more `transforms` available. A more detailed documentation can be found [here](https://pytorch.org/vision/stable/transforms.html).\n",
    "\n",
    "Next, we will create an instance of the CIFAR10 dataset. This is a set of 32x32 coloured image tiles representing 10 classes of objects: 6 of animals (bird, cat, deer, dog, frog, horse) and 4 of vehicles (airplane, automobile, ship, truck):"
   ]
  },
  {
   "cell_type": "code",
   "execution_count": 11,
   "id": "3b4628fa",
   "metadata": {},
   "outputs": [
    {
     "name": "stdout",
     "output_type": "stream",
     "text": [
      "Files already downloaded and verified\n"
     ]
    }
   ],
   "source": [
    "trainset = torchvision.datasets.CIFAR10(root = '../data',\n",
    "                                        train=True,\n",
    "                                        download=True,\n",
    "                                        transform=transform,\n",
    "                                       )"
   ]
  },
  {
   "cell_type": "markdown",
   "id": "31fa3157",
   "metadata": {},
   "source": [
    "This is an example of loading a dataset object in PyTorch. Downloadable datasets (like CIFAR10 above) are subclasses of `torch.utils.data.Datasets`. `Dataset` classes in PyTorch include the downloadable datasets in TorchVision, TorchText, and TorchAudio, as well as utility dataset classes such as `torchvision.datasets.ImageFolder`, which will read a folder of labeled images. With this, we can create custom `Dataset` subclasses.\n",
    "\n",
    "When we instantiate our datasets, we need to declare a few things:\n",
    "- The filesystem path to where we want the data to go, or where to find an already downloaded copy.\n",
    "- Whether or not we are using this dataset for training; most datasets will be split into training and test subsets.\n",
    "- Whether we would like to download the dataset if it isn't in the filesystem path.\n",
    "- The transformations to apply.\n",
    "\n",
    "Once the dataset is ready, we then pass it through the `DataLoader`:"
   ]
  },
  {
   "cell_type": "code",
   "execution_count": 12,
   "id": "a6908a8c",
   "metadata": {},
   "outputs": [],
   "source": [
    "trainloader = torch.utils.data.DataLoader(trainset,\n",
    "                                          batch_size = 4,\n",
    "                                          shuffle = True,\n",
    "                                          num_workers=2,\n",
    "                                         )"
   ]
  },
  {
   "cell_type": "markdown",
   "id": "dbe3b94d",
   "metadata": {},
   "source": [
    "A `Dataset` subclass wraps access to the data, and is specialized to the type of data it's serving. The `DataLoader` knows _nothing_ about the data, but organizes the input tensors served by the `Dataset` into batches with the parameters specified.\n",
    "\n",
    "In the example above, we've asked a `DataLoader` to give us batches of 4 images from `trainset`, randomizing their order with `shuffle=True`, and to spin up two workers to load the data from disk.\n",
    "\n",
    "It's good practice to visualize the batches your `DataLoader` serves:"
   ]
  },
  {
   "cell_type": "code",
   "execution_count": 13,
   "id": "d9a647bd",
   "metadata": {},
   "outputs": [
    {
     "name": "stdout",
     "output_type": "stream",
     "text": [
      " ship truck   cat  bird\n"
     ]
    },
    {
     "data": {
      "image/png": "[encoded data removed]",
      "text/plain": [
       "<Figure size 432x288 with 1 Axes>"
      ]
     },
     "metadata": {
      "needs_background": "light"
     },
     "output_type": "display_data"
    }
   ],
   "source": [
    "import matplotlib.pyplot as plt\n",
    "import numpy as np\n",
    "\n",
    "classes  = ('plane', 'car', 'bird', 'cat', 'deer',\n",
    "            'dog', 'frog', 'horse', 'ship', 'truck')\n",
    "\n",
    "def imshow(img):\n",
    "    img = img/2 + 0.5 # unnormalize\n",
    "    npimg = img.numpy()\n",
    "    plt.imshow(np.transpose(npimg, (1, 2, 0)))\n",
    "\n",
    "# Get some random training samples\n",
    "dataiter = iter(trainloader)\n",
    "images, labels = dataiter.next()\n",
    "\n",
    "# show images\n",
    "imshow(torchvision.utils.make_grid(images))\n",
    "# print labels\n",
    "print (' '.join('%5s'%classes[labels[j]] for j in range(4)))"
   ]
  },
  {
   "cell_type": "markdown",
   "id": "ce2566a8",
   "metadata": {},
   "source": [
    "Running the above cell gives us 4 images, and the corresponding labels."
   ]
  },
  {
   "cell_type": "markdown",
   "id": "86361148",
   "metadata": {},
   "source": [
    "# Training the PyTorch Model\n",
    "\n",
    "Let's put all the pieces together and train a model:"
   ]
  },
  {
   "cell_type": "code",
   "execution_count": 14,
   "id": "b3ee0ccb",
   "metadata": {},
   "outputs": [],
   "source": [
    "# We start with the imports\n",
    "\n",
    "import torch\n",
    "import torch.nn as nn\n",
    "import torch.nn.functional as F\n",
    "import torch.optim as optim\n",
    "\n",
    "import torchvision\n",
    "import torchvision.transforms as transforms\n",
    "\n",
    "import matplotlib.pyplot as plt\n",
    "import numpy as np"
   ]
  },
  {
   "cell_type": "markdown",
   "id": "7c40d0bd",
   "metadata": {},
   "source": [
    "First, we'll need the data as training and test sets. Whether or not the data is already on our drive, running the following code will download it (or verify the download if it's already available)."
   ]
  },
  {
   "cell_type": "code",
   "execution_count": 15,
   "id": "9dd98dd0",
   "metadata": {},
   "outputs": [
    {
     "name": "stdout",
     "output_type": "stream",
     "text": [
      "Files already downloaded and verified\n",
      "Files already downloaded and verified\n"
     ]
    }
   ],
   "source": [
    "transform = transforms.Compose(\n",
    "    [transforms.ToTensor(),\n",
    "     transforms.Normalize((0.5,0.5,0.5),(0.5,0.5,0.5))]\n",
    ")\n",
    "\n",
    "trainset = torchvision.datasets.CIFAR10(root='../data',\n",
    "                                       train=True,\n",
    "                                       download=True,\n",
    "                                       transform=transform)\n",
    "trainloader = torch.utils.data.DataLoader(trainset,\n",
    "                                         batch_size = 4,\n",
    "                                         shuffle=True,\n",
    "                                         num_workers = 2)\n",
    "\n",
    "testset = torchvision.datasets.CIFAR10(root='../data',\n",
    "                                       train=False,\n",
    "                                       download=True,\n",
    "                                       transform=transform)\n",
    "testloader = torch.utils.data.DataLoader(testset,\n",
    "                                         batch_size = 4,\n",
    "                                         shuffle=True,\n",
    "                                         num_workers = 2)\n",
    "\n",
    "classes = ('plane', 'car', 'bird', 'cat', 'deer',\n",
    "            'dog', 'frog', 'horse', 'ship', 'truck')"
   ]
  },
  {
   "cell_type": "markdown",
   "id": "131986c9",
   "metadata": {},
   "source": [
    "Next, as stated previously, we run a sanity check on the outputs of `DataLoader`:"
   ]
  },
  {
   "cell_type": "code",
   "execution_count": 16,
   "id": "a88347ef",
   "metadata": {},
   "outputs": [
    {
     "name": "stdout",
     "output_type": "stream",
     "text": [
      " bird,plane,horse,  car\n"
     ]
    },
    {
     "data": {
      "image/png": "[encoded data removed]",
      "text/plain": [
       "<Figure size 432x288 with 1 Axes>"
      ]
     },
     "metadata": {
      "needs_background": "light"
     },
     "output_type": "display_data"
    }
   ],
   "source": [
    "def imshow(img):\n",
    "    img = img/2 + 0.5\n",
    "    npimg = img.numpy()\n",
    "    plt.imshow(np.transpose(npimg, (1, 2, 0)))\n",
    "    \n",
    "dataiter = iter(trainloader)\n",
    "images, labels = dataiter.next()\n",
    "\n",
    "imshow(torchvision.utils.make_grid(images))\n",
    "print (','.join('%5s'%classes[labels[j]] for j in range(4)))"
   ]
  },
  {
   "cell_type": "markdown",
   "id": "6efe5696",
   "metadata": {},
   "source": [
    "After the datasets, we define and instantiate the model. Instead of the modified `LeNet` version from the tutorial, I define my own ConvNet for this task:"
   ]
  },
  {
   "cell_type": "code",
   "execution_count": 17,
   "id": "fee6e8c1",
   "metadata": {},
   "outputs": [],
   "source": [
    "class CNN(nn.Module):\n",
    "    def __init__(self):\n",
    "        super().__init__()\n",
    "        self.conv1 = nn.Conv2d(3, 16, 5)\n",
    "        self.conv2 = nn.Conv2d(16, 64, 5)\n",
    "        self.pool = nn.MaxPool2d(2)\n",
    "        self.fc1 = nn.Linear(64*5*5, 120)\n",
    "        self.fc2 = nn.Linear(120, 64)\n",
    "        self.fc3 = nn.Linear(64, 10)\n",
    "        \n",
    "    def forward(self, x):\n",
    "        x = self.pool(F.relu(self.conv1(x)))\n",
    "        x = self.pool(F.relu(self.conv2(x)))\n",
    "        x = torch.flatten(x,1)\n",
    "        x = F.relu(self.fc1(x))\n",
    "        x = F.relu(self.fc2(x))\n",
    "        x = self.fc3(x)\n",
    "        \n",
    "        return x\n",
    "\n",
    "net = CNN()"
   ]
  },
  {
   "cell_type": "markdown",
   "id": "a0458d80",
   "metadata": {},
   "source": [
    "We also need to declare the optimizers and loss functions for the model:"
   ]
  },
  {
   "cell_type": "code",
   "execution_count": 18,
   "id": "bb5570a6",
   "metadata": {},
   "outputs": [],
   "source": [
    "criterion = nn.CrossEntropyLoss()\n",
    "optimizer = optim.SGD(net.parameters(), lr = 0.001, momentum=0.9)"
   ]
  },
  {
   "cell_type": "markdown",
   "id": "dbda45de",
   "metadata": {},
   "source": [
    "The loss function, as discussed in an earlier document, measures how far from the ideal is the model's prediction. Cross entropy loss is a typical loss function to measure multi-class tasks.\n",
    "\n",
    "The __optimizer__ is what drives learning. Here we create an optimizer that implements _stochastic gradient descent_, one of the more straightforward optimization algorithms. Besides parameters of the algorithm, like learning rate (`lr`) and momentum, we also pass in the network parameters (`net.parameters`), which are stored in the tensors for each layer.\n",
    "\n",
    "Finally, we assemble everything into training and testing loops:"
   ]
  },
  {
   "cell_type": "code",
   "execution_count": 19,
   "id": "41763aa3",
   "metadata": {},
   "outputs": [
    {
     "name": "stdout",
     "output_type": "stream",
     "text": [
      "[1,  3998] loss: 2.106\n",
      "[1,  7998] loss: 1.757\n",
      "[1, 11998] loss: 1.570\n",
      "[1, 15998] loss: 1.468\n",
      "[1, 19998] loss: 1.396\n",
      "[1, 23998] loss: 1.323\n",
      "[2,  3998] loss: 1.220\n",
      "[2,  7998] loss: 1.172\n",
      "[2, 11998] loss: 1.146\n",
      "[2, 15998] loss: 1.120\n",
      "[2, 19998] loss: 1.093\n",
      "[2, 23998] loss: 1.061\n",
      "Finished training.\n"
     ]
    }
   ],
   "source": [
    "EPOCHS = 2\n",
    "\n",
    "for epoch in range(EPOCHS):\n",
    "    running_loss = 0\n",
    "    for i, data in enumerate(trainloader,0):\n",
    "        inputs, labels = data\n",
    "        \n",
    "        optimizer.zero_grad()\n",
    "        \n",
    "        outputs = net(inputs)\n",
    "        loss = criterion(outputs, labels)\n",
    "        loss.backward()\n",
    "        optimizer.step()\n",
    "        \n",
    "        running_loss += loss.item()\n",
    "        if i % 2000 == 1999:\n",
    "            print ('[%d, %5d] loss: %.3f' %\n",
    "                  (epoch + 1, i + i, running_loss/2000))\n",
    "            running_loss = 0\n",
    "\n",
    "print (\"Finished training.\")"
   ]
  },
  {
   "cell_type": "markdown",
   "id": "7176e3f0",
   "metadata": {},
   "source": [
    "Here we did 2 training epochs; two passes over the training set. Each pass has an inner loop that iterates over the training data, serving batches of 4 of transformed images and their correct labels to the model.\n",
    "\n",
    "PyTorch stores the gradients in each batch and accumulates them by default. It is important to zero the gradients with `optimizer.zero_grad()`. We then ask the model for a prediction `output` and compare it with the labels. The loss is quantified with SGD, and backpropagated with `loss.backward()`.\n",
    "\n",
    "Note:\n",
    "Loss is monotonically descending, indicating that our model is indeed imrpving its performance on the dataset.\n",
    "\n",
    "As a final step, we should check that the model is actually _learning_, and not simply \"memorising\" the dataset (overfitting). Overfitting usually occurs when the dataset is too small, of if the model has gone through too many passes on the same dataset. To test the generality of the model, we test it on a separate training set that the model was not trained on:"
   ]
  },
  {
   "cell_type": "code",
   "execution_count": 21,
   "id": "6083ef11",
   "metadata": {},
   "outputs": [
    {
     "name": "stdout",
     "output_type": "stream",
     "text": [
      "Accuracy on 10000 samples: 63.33%\n"
     ]
    }
   ],
   "source": [
    "correct = 0\n",
    "total = 0\n",
    "with torch.no_grad():\n",
    "    for data in testloader:\n",
    "        images, labels = data\n",
    "        outputs = net(images)\n",
    "        \n",
    "        _, predicted = torch.max(outputs.data, 1)\n",
    "        total += labels.size(0)\n",
    "        correct += (predicted == labels).sum().item()\n",
    "        \n",
    "print (f\"Accuracy on {total} samples: {(100*correct/total):.2f}%\")"
   ]
  },
  {
   "cell_type": "markdown",
   "id": "34dd9009",
   "metadata": {},
   "source": [
    "A random choice output would give an accuracy of 10%. Our model provided better predictions than randomly selecting labels for given images."
   ]
  }
 ],
 "metadata": {
  "kernelspec": {
   "display_name": "Python 3 (ipykernel)",
   "language": "python",
   "name": "python3"
  },
  "language_info": {
   "codemirror_mode": {
    "name": "ipython",
    "version": 3
   },
   "file_extension": ".py",
   "mimetype": "text/x-python",
   "name": "python",
   "nbconvert_exporter": "python",
   "pygments_lexer": "ipython3",
   "version": "3.9.12"
  }
 },
 "nbformat": 4,
 "nbformat_minor": 5
}
