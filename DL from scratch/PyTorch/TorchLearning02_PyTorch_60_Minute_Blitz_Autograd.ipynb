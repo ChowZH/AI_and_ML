{
 "cells": [
  {
   "cell_type": "markdown",
   "id": "f129622c",
   "metadata": {},
   "source": [
    "# A Gentle Introduction to `torch.autograd`\n",
    "\n",
    "`torch.autograd` is PyTorch's automatic differentiation engine that powers neural network training. In this section, I will get a conceptual understanding of how autograd helps a neural network train.\n",
    "\n",
    "## Background\n",
    "Neural networks (NNs) are a collection of nested functions that are executed on some input data. These functions are defined by _parameters_ (consisting of weights and biases), which is PyTorch are stored in tensors.\n",
    "\n",
    "Training a NN happens in two steps:\n",
    "\n",
    "### Forward Propagation:\n",
    "In forward prop, the NN makes its best guess about the correct output. It runs the input data through each of its functions to make this guess.\n",
    "\n",
    "### Backward Propagation:\n",
    "In backprop, the NN adjusts its parameters proportionate to the error in its guess. It does this by traversing backwards from the output, collecting the derivatives of the error with respect to the parameters of the functions (_gradients_), and optimizing the parameters using gradient descent. For a more detailed walkthrough of packprop, check out this [video by 3Blue1Brown](https://www.youtube.com/watch?v=tIeHLnjs5U8).\n",
    "\n",
    "## Usage in PyTorch\n",
    "Let's take a look at a single training step. For this example, we load a pretrained resnet18 model from `torchvision`. We create a random data tensor to represent a single image with 3 channels, and height & width of 64, and its corresponding `label` initialized to some random values. Label in pretrained models has shape (1,1000).\n",
    "\n",
    "Note:\n",
    "This tutorial work only on CPU and will not work on GPU (even if tensor are moved to CUDA)"
   ]
  },
  {
   "cell_type": "code",
   "execution_count": 1,
   "id": "2f074ad3",
   "metadata": {},
   "outputs": [],
   "source": [
    "import torch\n",
    "from torchvision.models import resnet18, ResNet18_Weights\n",
    "model = resnet18(weights=ResNet18_Weights.DEFAULT)\n",
    "data = torch.rand(1, 3, 64, 64)\n",
    "labels = torch.rand(1, 1000)"
   ]
  },
  {
   "cell_type": "markdown",
   "id": "31abb3d4",
   "metadata": {},
   "source": [
    "Next, we run the input data through the model through each of its layers to make a prediction. This is the **forward pass**."
   ]
  },
  {
   "cell_type": "code",
   "execution_count": 2,
   "id": "f531fe6f",
   "metadata": {},
   "outputs": [],
   "source": [
    "prediction = model(data) # foward pass"
   ]
  },
  {
   "cell_type": "markdown",
   "id": "3c6491c2",
   "metadata": {},
   "source": [
    "We use the model's prediction and the corresponding label to calculate the error (`loss`). The next step is to backpropagate this error through the network. Backward propagation is kicked off when we call `.backward()` on the error tensor. Autograd then calculates and stores the gradients for each model parameters in the parameter's `.grad` attribute."
   ]
  },
  {
   "cell_type": "code",
   "execution_count": 3,
   "id": "a01dda76",
   "metadata": {},
   "outputs": [],
   "source": [
    "loss = (prediction - labels).sum()\n",
    "loss.backward() # backward pass"
   ]
  },
  {
   "cell_type": "markdown",
   "id": "2edbb82b",
   "metadata": {},
   "source": [
    "Next, we load an optimizer, in this case SGD with a learning rate of 0.01 and [momentum](https://towardsdatascience.com/stochastic-gradient-descent-with-momentum-a84097641a5d) of 0.9. We register all the parameters of the model in the optimizer."
   ]
  },
  {
   "cell_type": "code",
   "execution_count": 4,
   "id": "2c9c59a3",
   "metadata": {},
   "outputs": [],
   "source": [
    "optim = torch.optim.SGD(model.parameters(), lr=1e-2, momentum=0.9)"
   ]
  },
  {
   "cell_type": "markdown",
   "id": "c5ff95d7",
   "metadata": {},
   "source": [
    "Finally, we call `.step()` to initiate gradient descent. The optimizer adjusts each parameter by its gradient stored in `.grad`."
   ]
  },
  {
   "cell_type": "code",
   "execution_count": 5,
   "id": "bbf5e0ec",
   "metadata": {},
   "outputs": [],
   "source": [
    "optim.step() # gradient descent"
   ]
  },
  {
   "cell_type": "markdown",
   "id": "f852d888",
   "metadata": {},
   "source": [
    "At this point, we have everything we need to train your neural network. The below sections detail the workings of autograd."
   ]
  },
  {
   "cell_type": "markdown",
   "id": "bd08316a",
   "metadata": {},
   "source": [
    "## Differentiation in Autograd\n",
    "let's take a look at how `autograd` collects gradients. We create two tensors `a` and `b` with `requires_grad=True`. This signals to `autograd` that every operation on them should be tracked."
   ]
  },
  {
   "cell_type": "code",
   "execution_count": 6,
   "id": "764d632e",
   "metadata": {},
   "outputs": [],
   "source": [
    "import torch\n",
    "\n",
    "a = torch.tensor([2., 3.], requires_grad=True)\n",
    "b = torch.tensor([6., 4.], requires_grad=True)"
   ]
  },
  {
   "cell_type": "markdown",
   "id": "2e101057",
   "metadata": {},
   "source": [
    "We create another tensor `Q` from `a` and `b`.\n",
    "\n",
    "$Q = 3a^3 - b^2$"
   ]
  },
  {
   "cell_type": "code",
   "execution_count": 7,
   "id": "9ed6c9cf",
   "metadata": {},
   "outputs": [],
   "source": [
    "Q = 3* a**3 - b**2"
   ]
  },
  {
   "cell_type": "markdown",
   "id": "6d99f986",
   "metadata": {},
   "source": [
    "Let's assume `a` and `b` to be parameters of a NN, and `Q` to be the error. In NN training, we want gradients of the error w.r.t. parameters, i.e.\n",
    "\n",
    "$ \\frac{\\delta{Q}}{\\delta{a}}=9a^2$\n",
    "\n",
    "$ \\frac{\\delta{Q}}{\\delta{b}}=-2b$\n",
    "\n",
    "When we call `.backward()` on `Q`, autograd calculates these gradients and stores them in the respective tensors' `.grad()` attribute.\n",
    "\n",
    "We need to explicitly pass a `gradient` argument in `Q.backward()` because it is a vector. `.gradient` is a tensor of the same shape as `Q`, and it represents the gradient of Q w.r.t. itself, i.e.\n",
    "\n",
    "$ \\frac{\\delta{Q}}{\\delta{Q}}=1$ \n",
    "\n",
    "Equivalently, we can also aggregate Q into a scalar and call backward inplicitly, like `Q.sum().backward()`."
   ]
  },
  {
   "cell_type": "code",
   "execution_count": 8,
   "id": "c4d84a66",
   "metadata": {},
   "outputs": [],
   "source": [
    "external_grad = torch.tensor([1., 1.])\n",
    "Q.backward(gradient=external_grad)"
   ]
  },
  {
   "cell_type": "markdown",
   "id": "5db52140",
   "metadata": {},
   "source": [
    "Gradients are now deposited in `a.grad` and `b.grad`"
   ]
  },
  {
   "cell_type": "code",
   "execution_count": 9,
   "id": "ba590255",
   "metadata": {},
   "outputs": [
    {
     "name": "stdout",
     "output_type": "stream",
     "text": [
      "tensor([True, True])\n",
      "tensor([True, True])\n"
     ]
    }
   ],
   "source": [
    "# Check if collected gradients are correct\n",
    "print (9*a**2 == a.grad)\n",
    "print (-2*b == b.grad)"
   ]
  },
  {
   "cell_type": "markdown",
   "id": "6cd9d609",
   "metadata": {},
   "source": [
    "## Optional Reading - Vector Calculus using `autograd`\n",
    "\n",
    "Mathematically, if we have a vector valued function $\\vec{y} = f(\\vec{x})$, then the gradient of $\\vec{y}$ with respect to $\\vec{x}$ is a Jacobian matrix $J$.\n",
    "\n",
    "Generally speaking, `torch.autograd` is an engine for computing vector-Jacobian product. That is, given any vector $\\vec{v}$, compute the product $J^T.\\vec(v)$\n",
    "\n",
    "if $\\vec{v}$ happens to be the gradient of a scalar function $l = g(\\vec{y})$, then by the chain rule, the vector-Jacobian product would be the gradient of $l$ w.r.t. $\\vec{x}$.\n",
    "\n",
    "This characteristic of vector-Jacobian product is what we use in the above example; `external_grad` represents $\\vec{v}$."
   ]
  },
  {
   "cell_type": "markdown",
   "id": "987000a8",
   "metadata": {},
   "source": [
    "## Computational Graph\n",
    "\n",
    "Concentually, autograd keeps a record of data (tensors) & all executed eporations (along with the resulting new tensors) in a directed acyclic graph (DAG) consisting of [Function](https://pytorch.org/docs/stable/autograd.html#torch.autograd.Function) objects.In this DAG, leaves are the input tensors, roots are the output tesnsors. By tracing this graph from roots to leaves, we can automatically compute the gradients using the chain rule.\n",
    "\n",
    "In a forward pass, autograd does two things simultaneously:\n",
    "- run the requested operation to compute a resulting tensor\n",
    "- maintain the operation's _gradient function_ in the DAG\n",
    "\n",
    "The backward pass kicks off when `.backward()` is called on the DAG root. `autograd` then:\n",
    "- computes the gradients from each `.grad_fn`\n",
    "- accumulates them in the respective tensor's `.grad` attribute\n",
    "- using the chain rule, propagates all the way to the leaf tensors.\n",
    "\n",
    "Below is a visual representation of the DAG in our example. In the graph, the arrows are in the direction of teh forward pass. The nodes represent the backward functions of each operation in the forward pass. The leaf nodes in blue represent our leaf tensors `a` and `b`.\n",
    "\n",
    "![](https://pytorch.org/tutorials/_images/dag_autograd.png)\n",
    "\n",
    "Note:\n",
    "**DAGs are dynamic in PyTorch**. An important thing to note is that the graph is recreated from scratch; after each `.backwad()` call, autograd starts populating a new graph. This is exactly what allows us to use control flow statements in our models; we can change the shape, size and operations at every iteration if needed."
   ]
  },
  {
   "cell_type": "markdown",
   "id": "ec107745",
   "metadata": {},
   "source": [
    "## Exclusion from the DAG\n",
    "`torch.autograd` tracks operations on all tensors which have their `requires_grad` flag set to `True`. For tensors that don't require gradients, setting this attribute to `False` excludes it from the gradient computation DAG.\n",
    "\n",
    "The output tensor of an operation will require gradients even if only a single input tensor has `requires_grad=True`."
   ]
  },
  {
   "cell_type": "code",
   "execution_count": 10,
   "id": "7c936713",
   "metadata": {},
   "outputs": [
    {
     "name": "stdout",
     "output_type": "stream",
     "text": [
      "Does `a` require gradients? : False\n",
      "Does `b` require gradients?: True\n"
     ]
    }
   ],
   "source": [
    "x = torch.rand(5, 5)\n",
    "y = torch.rand(5, 5)\n",
    "z = torch.rand((5, 5), requires_grad=True)\n",
    "\n",
    "a = x + y\n",
    "print(f\"Does `a` require gradients? : {a.requires_grad}\")\n",
    "b = x + z\n",
    "print(f\"Does `b` require gradients?: {b.requires_grad}\")"
   ]
  },
  {
   "cell_type": "markdown",
   "id": "236433e3",
   "metadata": {},
   "source": [
    "In a NN, parameters that don't compute gradients are usually called **frozen parameters**. It is useful to \"freeze\" part of our model if we know in advance that we won't need the gradients of those parameters (this offers some performance benefits by reducing autograd computations).\n",
    "\n",
    "Another common usecase where exclusion from the DAG is important is for [finetuning a pretrained network](https://pytorch.org/tutorials/beginner/finetuning_torchvision_models_tutorial.html).\n",
    "\n",
    "In finetuning, we freeze most of the model and typically only modify the classifier layers to make predictions on new labels. Let's walk through a small example to demonstrate this. As before, we load a pretrained resnet18 model, and freeze all the parameters."
   ]
  },
  {
   "cell_type": "code",
   "execution_count": 11,
   "id": "b792afb9",
   "metadata": {},
   "outputs": [],
   "source": [
    "from torch import nn, optim\n",
    "\n",
    "model = resnet18(weights=ResNet18_Weights.DEFAULT)\n",
    "\n",
    "# Freeze all the parameters in the network\n",
    "for param in model.parameters():\n",
    "    param.requires_grad = False"
   ]
  },
  {
   "cell_type": "markdown",
   "id": "b44a10a3",
   "metadata": {},
   "source": [
    "Let's say we want to finetune the model on a new dataset with 10 labels. In resnet, the classifier is the last linear layer `model.fc`. We can simply replace it with a new linear layer (unfozen by default) that acts as our classifier."
   ]
  },
  {
   "cell_type": "code",
   "execution_count": 12,
   "id": "26fc7152",
   "metadata": {},
   "outputs": [],
   "source": [
    "# unfreeze final layer by replacing with default.\n",
    "model.fc = nn.Linear(512, 10)"
   ]
  },
  {
   "cell_type": "markdown",
   "id": "6cd6a388",
   "metadata": {},
   "source": [
    "Now all parameters in the model, except the parameters of `model.fc`, are frozen. The only parameters that compute gradients are the weights and biases of `model.fc`."
   ]
  },
  {
   "cell_type": "code",
   "execution_count": 13,
   "id": "8753ac86",
   "metadata": {},
   "outputs": [],
   "source": [
    "# Optimize only the classifier\n",
    "optimizer = optim.SGD(model.parameters(), lr = 1e-2, momentum=0.9)"
   ]
  },
  {
   "cell_type": "markdown",
   "id": "76e987a5",
   "metadata": {},
   "source": [
    "Notice although we register all the parameters in the optimizer, the only parameters that are computing gradients (and hence updated in gradient descent) are the weights and biases of the classifier.\n",
    "\n",
    "The same exclusionary functionality is available as a context manager in [torch.no_grad()](https://pytorch.org/docs/stable/generated/torch.no_grad.html)."
   ]
  }
 ],
 "metadata": {
  "kernelspec": {
   "display_name": "Python 3 (ipykernel)",
   "language": "python",
   "name": "python3"
  },
  "language_info": {
   "codemirror_mode": {
    "name": "ipython",
    "version": 3
   },
   "file_extension": ".py",
   "mimetype": "text/x-python",
   "name": "python",
   "nbconvert_exporter": "python",
   "pygments_lexer": "ipython3",
   "version": "3.9.12"
  }
 },
 "nbformat": 4,
 "nbformat_minor": 5
}
