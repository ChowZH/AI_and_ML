{
 "cells": [
  {
   "cell_type": "markdown",
   "id": "75517542",
   "metadata": {},
   "source": [
    "# PyTorch TensorBoard Support\n",
    "## Before We Start\n",
    "Necessary packages include:\n",
    "- PyTorch\n",
    "- TorchVision\n",
    "- Matplotlib\n",
    "- tensorboard"
   ]
  },
  {
   "cell_type": "markdown",
   "id": "ab9b7b24",
   "metadata": {},
   "source": [
    "## Introduction\n",
    "\n",
    "In this notebook, we'll be training a variant of LeNet-5 against the Fashion-MNIST dataset. Fashion-MNIST is a set of image tiles depicting various garments, with ten class labels indicating the type of garment depicted."
   ]
  },
  {
   "cell_type": "code",
   "execution_count": 1,
   "id": "ae4bd4be",
   "metadata": {},
   "outputs": [],
   "source": [
    "import torch\n",
    "import torch.nn as nn\n",
    "import torch.nn.functional as F\n",
    "import torch.optim as optim\n",
    "\n",
    "import torchvision\n",
    "import torchvision.transforms as transforms\n",
    "\n",
    "import matplotlib.pyplot as plt\n",
    "import numpy as np\n",
    "\n",
    "from torch.utils.tensorboard import SummaryWriter"
   ]
  },
  {
   "cell_type": "markdown",
   "id": "237debb4",
   "metadata": {},
   "source": [
    "## Showing Images in TensorBoard\n",
    "\n",
    "Let's start by adding sample images from our dataset to TensorBoard:"
   ]
  },
  {
   "cell_type": "code",
   "execution_count": 2,
   "id": "41fb3a0b",
   "metadata": {},
   "outputs": [
    {
     "data": {
      "image/png": "[encoded data removed]",
      "text/plain": [
       "<Figure size 432x288 with 1 Axes>"
      ]
     },
     "metadata": {
      "needs_background": "light"
     },
     "output_type": "display_data"
    }
   ],
   "source": [
    "transform = transforms.Compose(\n",
    "    [transforms.ToTensor(),\n",
    "    transforms.Normalize((0.5), (0.5))])\n",
    "\n",
    "training_set = torchvision.datasets.FashionMNIST('../data',\n",
    "                                                download=True,\n",
    "                                                train=True,\n",
    "                                                transform=transform)\n",
    "\n",
    "validation_set = torchvision.datasets.FashionMNIST('../data',\n",
    "                                                   download=True,\n",
    "                                                   train=False,\n",
    "                                                   transform=transform)\n",
    "\n",
    "training_loader = torch.utils.data.DataLoader(training_set,\n",
    "                                             batch_size = 4,\n",
    "                                             shuffle=True,\n",
    "                                             num_workers = 2)\n",
    "\n",
    "validation_loader = torch.utils.data.DataLoader(validation_set,\n",
    "                                                batch_size = 4,\n",
    "                                                shuffle=False,\n",
    "                                                num_workers = 2)\n",
    "\n",
    "classes = ('T-shirt/top', 'Trouser', 'Pullover', 'Dress', 'Coat',\n",
    "        'Sandal', 'Shirt', 'Sneaker', 'Bag', 'Ankle Boot')\n",
    "\n",
    "def matplotlib_imshow(img, one_channel=False):\n",
    "    if one_channel:\n",
    "        img = img.mean(dim=0)\n",
    "        \n",
    "    img = img / 2 + 0.5\n",
    "    npimg = img.numpy()\n",
    "    if one_channel:\n",
    "        plt.imshow(npimg, cmap=\"Greys\")\n",
    "    else:\n",
    "        plt.imshow(np.transpose(npimg, (1, 2, 0)))\n",
    "        \n",
    "dataiter = iter(training_loader)\n",
    "images, labels = next(dataiter)\n",
    "\n",
    "img_grid = torchvision.utils.make_grid(images)\n",
    "matplotlib_imshow(img_grid, one_channel=True)"
   ]
  },
  {
   "cell_type": "markdown",
   "id": "61ea007f",
   "metadata": {},
   "source": [
    "Above, we used TOrchVision and Matplotlib to create a visual grid of a minibatch of our input data. Below, we use the `add_image()` call to `SummaryWriter` to log the image for consumption by TensorBoard, and we also call `flush()` to make sure it's written to disk right away."
   ]
  },
  {
   "cell_type": "code",
   "execution_count": 3,
   "id": "96a97c79",
   "metadata": {},
   "outputs": [],
   "source": [
    "# Default log_dir arrgument is \"runs\" - but it's good to be specific\n",
    "# torch.utils.tensorboard. SummaryWriter is imported above\n",
    "writer = SummaryWriter ('runs/fashion_mnist_experiment_1')\n",
    "\n",
    "# Write image data to TensorBoard log dir\n",
    "writer.add_image('Four Fashion-MNIST Images', img_grid)\n",
    "writer.flush()\n",
    "\n",
    "# To view, start TensorBoard on the command line with:\n",
    "# tenrosboard --logdir=runs\n",
    "# ...and open a browser tab to http://localhost:6006/"
   ]
  },
  {
   "cell_type": "markdown",
   "id": "e07a98e3",
   "metadata": {},
   "source": [
    "If we start TensorBoard at the command line and open it with a new browser tab (usually at [localhost:6006](localhost:6006), we should see the image grid under the IMAGES tab."
   ]
  },
  {
   "cell_type": "markdown",
   "id": "ab3d3ac8",
   "metadata": {},
   "source": [
    "## Graphing Scalars to Visualize Training\n",
    "\n",
    "TensorBoard is useful for tracking the progress and efficacy of our training. Below, we'll run a training loop, track some metrics, and save the data for TensorBoard's consumption.\n",
    "\n",
    "Let's define a model to categorize our image tiles, and an optimizer and loss function for training:"
   ]
  },
  {
   "cell_type": "code",
   "execution_count": 4,
   "id": "2afbe801",
   "metadata": {},
   "outputs": [],
   "source": [
    "class Net(nn.Module):\n",
    "    def __init__(self):\n",
    "        super().__init__()\n",
    "        self.conv1 = nn.Conv2d(1, 6, 5)\n",
    "        self.pool = nn.MaxPool2d(2, 2)\n",
    "        self.conv2 = nn.Conv2d(6, 16, 5)\n",
    "        self.fc1 = nn.Linear(16*4*4, 120)\n",
    "        self.fc2 = nn.Linear(120, 84)\n",
    "        self.fc3 = nn.Linear(84, 10)\n",
    "        \n",
    "    def forward(self, x):\n",
    "        x = self.pool(F.relu(self.conv1(x)))\n",
    "        x = self.pool(F.relu(self.conv2(x)))\n",
    "        x = x.view(-1, 16* 4 * 4)\n",
    "        x = F.relu(self.fc1(x))\n",
    "        x = F.relu(self.fc2(x))\n",
    "        x = self.fc3(x)\n",
    "        return x\n",
    "    \n",
    "net = Net()\n",
    "criterion = nn.CrossEntropyLoss()\n",
    "optimizer = optim.SGD(net.parameters(), lr=0.001, momentum=0.9)"
   ]
  },
  {
   "cell_type": "markdown",
   "id": "24809eeb",
   "metadata": {},
   "source": [
    "Now let's train a single epoch, and evaluate the training vs valdation set losses every 1000 batches:"
   ]
  },
  {
   "cell_type": "code",
   "execution_count": 5,
   "id": "2cd03722",
   "metadata": {},
   "outputs": [
    {
     "name": "stdout",
     "output_type": "stream",
     "text": [
      "2500\n",
      "Batch 1000.\n",
      "Batch 2000.\n",
      "Batch 3000.\n",
      "Batch 4000.\n",
      "Batch 5000.\n",
      "Batch 6000.\n",
      "Batch 7000.\n",
      "Batch 8000.\n",
      "Batch 9000.\n",
      "Batch 10000.\n",
      "Batch 11000.\n",
      "Batch 12000.\n",
      "Batch 13000.\n",
      "Batch 14000.\n",
      "Batch 15000.\n",
      "Finished Training\n"
     ]
    }
   ],
   "source": [
    "print (len(validation_loader))\n",
    "\n",
    "for epoch in range(1):\n",
    "    running_loss = 0.0\n",
    "    \n",
    "    for i, data in enumerate(training_loader, 0):\n",
    "        # basic training loop\n",
    "        inputs, labels = data\n",
    "        optimizer.zero_grad()\n",
    "        outputs = net(inputs)\n",
    "        loss = criterion (outputs, labels)\n",
    "        loss.backward()\n",
    "        optimizer.step()\n",
    "        \n",
    "        running_loss += loss.item()\n",
    "        if i % 1000 == 999:\n",
    "            print (f'Batch {i+1}.')\n",
    "            # Checking against validation set\n",
    "            running_vloss = 0.0\n",
    "            \n",
    "            net.train(False)\n",
    "            for j, vdata in enumerate(validation_loader, 0):\n",
    "                vinputs, vlabels = vdata\n",
    "                voutputs = net(vinputs)\n",
    "                vloss = criterion(voutputs, vlabels)\n",
    "                running_vloss += vloss.item()\n",
    "            net.train(True)\n",
    "            \n",
    "            avg_loss = running_loss/1000\n",
    "            avg_vloss = running_vloss/len(validation_loader)\n",
    "            \n",
    "            # Log the running loss averaged per batch\n",
    "            writer.add_scalars('Training vs Validation Loss',\n",
    "                              {'Training': avg_loss, 'Validation': avg_vloss},\n",
    "                              epoch * len(training_loader) + i)\n",
    "            running_loss = 0.0\n",
    "            \n",
    "    print ('Finished Training')\n",
    "    writer.flush()"
   ]
  },
  {
   "cell_type": "markdown",
   "id": "acd66dc2",
   "metadata": {},
   "source": [
    "## Visualizing the Model\n",
    "TensorBoard can also be used to examine the data flow within our model. To do this, call the `add_graph()` method with a model and sample input."
   ]
  },
  {
   "cell_type": "code",
   "execution_count": 6,
   "id": "ecaa1aa2",
   "metadata": {},
   "outputs": [],
   "source": [
    "# Again, grad a single mini-batch of images\n",
    "dataiter = iter(training_loader)\n",
    "images, labels = next(dataiter)\n",
    "\n",
    "# add_graph() will trace the sample input through our model,\n",
    "# and render it as a graph\n",
    "writer.add_graph(net, images)\n",
    "writer.flush()"
   ]
  },
  {
   "cell_type": "markdown",
   "id": "5e631bc8",
   "metadata": {},
   "source": [
    "When we switch over to TensorBoard, we should see a GRAPHS tab, Double-click the \"NET\" node to see the layers and data flow within our model."
   ]
  },
  {
   "cell_type": "markdown",
   "id": "0add473e",
   "metadata": {},
   "source": [
    "## Visualizing the Dataset with Embeddings\n",
    "The 28-by-28 image tiles we're using can be modeled as 784-dimensional vectors. Ic can be instructive to project this to a lower-dimensional representation. The `add_embedding()` method will project a set of data onto the three dimensions with highest variance, and display them as an interactive 3D chart. The `add_embedding()` method does this automatically by projecting to the three dimensions with highest variance.\n",
    "\n",
    "Below, we'll take a sample of our data, and generate such an embedding:"
   ]
  },
  {
   "cell_type": "code",
   "execution_count": 7,
   "id": "c3d0b259",
   "metadata": {},
   "outputs": [
    {
     "ename": "AttributeError",
     "evalue": "module 'tensorflow._api.v2.io.gfile' has no attribute 'get_filesystem'",
     "output_type": "error",
     "traceback": [
      "\u001b[1;31m---------------------------------------------------------------------------\u001b[0m",
      "\u001b[1;31mAttributeError\u001b[0m                            Traceback (most recent call last)",
      "Input \u001b[1;32mIn [7]\u001b[0m, in \u001b[0;36m<cell line: 16>\u001b[1;34m()\u001b[0m\n\u001b[0;32m     14\u001b[0m \u001b[38;5;66;03m# log embeddings\u001b[39;00m\n\u001b[0;32m     15\u001b[0m features \u001b[38;5;241m=\u001b[39m images\u001b[38;5;241m.\u001b[39mview(\u001b[38;5;241m-\u001b[39m\u001b[38;5;241m1\u001b[39m, \u001b[38;5;241m28\u001b[39m \u001b[38;5;241m*\u001b[39m \u001b[38;5;241m28\u001b[39m)\n\u001b[1;32m---> 16\u001b[0m \u001b[43mwriter\u001b[49m\u001b[38;5;241;43m.\u001b[39;49m\u001b[43madd_embedding\u001b[49m\u001b[43m(\u001b[49m\u001b[43mfeatures\u001b[49m\u001b[43m,\u001b[49m\n\u001b[0;32m     17\u001b[0m \u001b[43m                    \u001b[49m\u001b[43mmetadata\u001b[49m\u001b[43m \u001b[49m\u001b[38;5;241;43m=\u001b[39;49m\u001b[43m \u001b[49m\u001b[43mclass_labels\u001b[49m\u001b[43m,\u001b[49m\n\u001b[0;32m     18\u001b[0m \u001b[43m                    \u001b[49m\u001b[43mlabel_img\u001b[49m\u001b[38;5;241;43m=\u001b[39;49m\u001b[43mimages\u001b[49m\u001b[38;5;241;43m.\u001b[39;49m\u001b[43munsqueeze\u001b[49m\u001b[43m(\u001b[49m\u001b[38;5;241;43m1\u001b[39;49m\u001b[43m)\u001b[49m\u001b[43m)\u001b[49m\n\u001b[0;32m     20\u001b[0m writer\u001b[38;5;241m.\u001b[39mflush()\n\u001b[0;32m     21\u001b[0m writer\u001b[38;5;241m.\u001b[39mclose()\n",
      "File \u001b[1;32m~\\.conda\\envs\\AI\\lib\\site-packages\\torch\\utils\\tensorboard\\writer.py:925\u001b[0m, in \u001b[0;36mSummaryWriter.add_embedding\u001b[1;34m(self, mat, metadata, label_img, global_step, tag, metadata_header)\u001b[0m\n\u001b[0;32m    922\u001b[0m subdir \u001b[38;5;241m=\u001b[39m \u001b[38;5;124m\"\u001b[39m\u001b[38;5;132;01m%s\u001b[39;00m\u001b[38;5;124m/\u001b[39m\u001b[38;5;132;01m%s\u001b[39;00m\u001b[38;5;124m\"\u001b[39m \u001b[38;5;241m%\u001b[39m (\u001b[38;5;28mstr\u001b[39m(global_step)\u001b[38;5;241m.\u001b[39mzfill(\u001b[38;5;241m5\u001b[39m), \u001b[38;5;28mself\u001b[39m\u001b[38;5;241m.\u001b[39m_encode(tag))\n\u001b[0;32m    923\u001b[0m save_path \u001b[38;5;241m=\u001b[39m os\u001b[38;5;241m.\u001b[39mpath\u001b[38;5;241m.\u001b[39mjoin(\u001b[38;5;28mself\u001b[39m\u001b[38;5;241m.\u001b[39m_get_file_writer()\u001b[38;5;241m.\u001b[39mget_logdir(), subdir)\n\u001b[1;32m--> 925\u001b[0m fs \u001b[38;5;241m=\u001b[39m \u001b[43mtf\u001b[49m\u001b[38;5;241;43m.\u001b[39;49m\u001b[43mio\u001b[49m\u001b[38;5;241;43m.\u001b[39;49m\u001b[43mgfile\u001b[49m\u001b[38;5;241;43m.\u001b[39;49m\u001b[43mget_filesystem\u001b[49m(save_path)\n\u001b[0;32m    926\u001b[0m \u001b[38;5;28;01mif\u001b[39;00m fs\u001b[38;5;241m.\u001b[39mexists(save_path):\n\u001b[0;32m    927\u001b[0m     \u001b[38;5;28;01mif\u001b[39;00m fs\u001b[38;5;241m.\u001b[39misdir(save_path):\n",
      "\u001b[1;31mAttributeError\u001b[0m: module 'tensorflow._api.v2.io.gfile' has no attribute 'get_filesystem'"
     ]
    }
   ],
   "source": [
    "# Select a random subset of data and corresponding labels\n",
    "def select_n_random(data, labels, n=100):\n",
    "    assert len(data) == len(labels)\n",
    "    \n",
    "    perm = torch.randperm(len(data))\n",
    "    return data[perm][:n], labels[perm][:n]\n",
    "\n",
    "# Extract a random subset of data\n",
    "images, labels = select_n_random(training_set.data, training_set.targets)\n",
    "\n",
    "# get the class labels of each image\n",
    "class_labels = [classes[label] for label in labels]\n",
    "\n",
    "# log embeddings\n",
    "features = images.view(-1, 28 * 28)\n",
    "writer.add_embedding(features,\n",
    "                    metadata = class_labels,\n",
    "                    label_img=images.unsqueeze(1))\n",
    "\n",
    "writer.flush()\n",
    "writer.close()"
   ]
  },
  {
   "cell_type": "markdown",
   "id": "db784fa4",
   "metadata": {},
   "source": [
    "Now if we switch to TensorBoard and seect the PROJECT tab, we should see a 3D representation of the projection. We can rotate and zoom the model. Examine it at larger and smaller scales, and see whether we can spot patterns in the projectd data and clustering of labels.\n",
    "\n",
    "For better visibility, it's recommended to:\n",
    "- Select \"label\" from the \"Colour by\" drop-down on the left\n",
    "- Toggle Night Mode along the top to place the light-coloured images on a dark background."
   ]
  },
  {
   "cell_type": "markdown",
   "id": "2b2c1e8e",
   "metadata": {},
   "source": [
    "## Other Resources\n",
    "For more information, have a look at:\n",
    "- PyTorch documentation on [torch.utils.tensorboard.SummaryWriter](https://pytorch.org/docs/stable/tensorboard.html?highlight=summarywriter)\n",
    "- Tensorboard tutorial content in the [PyTorch.org tutorials](https://pytorch.org/tutorials/)\n",
    "- For more information about TensorBoard, see the [TensorBoard documentation](https://www.tensorflow.org/tensorboard)"
   ]
  }
 ],
 "metadata": {
  "kernelspec": {
   "display_name": "Python 3 (ipykernel)",
   "language": "python",
   "name": "python3"
  },
  "language_info": {
   "codemirror_mode": {
    "name": "ipython",
    "version": 3
   },
   "file_extension": ".py",
   "mimetype": "text/x-python",
   "name": "python",
   "nbconvert_exporter": "python",
   "pygments_lexer": "ipython3",
   "version": "3.9.12"
  }
 },
 "nbformat": 4,
 "nbformat_minor": 5
}
