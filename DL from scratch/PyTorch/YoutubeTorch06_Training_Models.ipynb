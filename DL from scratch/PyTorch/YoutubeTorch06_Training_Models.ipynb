{
 "cells": [
  {
   "cell_type": "markdown",
   "id": "04da2a57",
   "metadata": {},
   "source": [
    "# Training with PyTorch\n",
    "## Introduction\n",
    "In the previous documents, we discussed and demonstrated:\n",
    "- BUilding models with neural network layers and functions of the torch.nn module\n",
    "- The mechanics of automated gradient computation, which is central to gradient-based model training\n",
    "- Using TensorBoard to visualize training progress and other activities\n",
    "\n",
    "Here, we'll be adding some new tools to our inventory:\n",
    "- Familiarize with the dataset and dataloader abstractions, and how they ease the process of feeding data to our model during a training loop.\n",
    "- Discuss specific loss functions and when to use them.\n",
    "- Look at PyTorch optimizers, which implement algorithms to adjust model weights based on the outcome of a loss function.\n",
    "\n",
    "Finally, we'll pull all these together and see a full PyTorch training loop in action."
   ]
  },
  {
   "cell_type": "markdown",
   "id": "cb86a7da",
   "metadata": {},
   "source": [
    "## Dataset and DataLoader\n",
    "The `Dataset` and `DataLoader` classes encapsulate the process of pulling our data from storage and exposing it to our training loop in batches.\n",
    "\n",
    "`Dataset` is responsible for accessing and processing single instances of data.\n",
    "\n",
    "`DataLoader` pulls instances of data from the `Dataset` (either automatically or with a sampler that we define), collects them in batches, and returns them from consumption by our training loop. `DataLoader` works with all kinds of datasets, regardless of teh type of data they contain.\n",
    "\n",
    "For this tutorial, we'll be using the Fashion-MNIST dataset provided by TorchVision. We use `torchvision.transforms.Normalize()` to zero-center and normalize the distribution of the image tile content, and download both training and validation data splits."
   ]
  },
  {
   "cell_type": "code",
   "execution_count": 1,
   "id": "f92f892b",
   "metadata": {},
   "outputs": [
    {
     "name": "stdout",
     "output_type": "stream",
     "text": [
      "Training set has 60000 instances.\n",
      "Validation set has 10000 instances.\n"
     ]
    }
   ],
   "source": [
    "import torch\n",
    "import torchvision\n",
    "import torchvision.transforms as transforms\n",
    "\n",
    "# PyTorch TensorBoard support\n",
    "from torch.utils.tensorboard import SummaryWriter\n",
    "from datetime import datetime\n",
    "\n",
    "transform = transforms.Compose(\n",
    "    [transforms.ToTensor(),\n",
    "    transforms.Normalize((0.5,),(0.5,))])\n",
    "\n",
    "# Create datasets for training & validation, download if necessary\n",
    "training_set = torchvision.datasets.FashionMNIST('../data', train=True,\n",
    "                                                transform = transform, \n",
    "                                                download=True)\n",
    "validation_set = torchvision.datasets.FashionMNIST('../data', train=False,\n",
    "                                                  transform = transform, \n",
    "                                                  download=True)\n",
    "\n",
    "# Create data loaders for our dtasets; shuffle for training, not for validation\n",
    "training_loader = torch.utils.data.DataLoader(training_set, batch_size=4,\n",
    "                                             shuffle=True, num_workers=2)\n",
    "validation_loader = torch.utils.data.DataLoader(validation_set, batch_size=4,\n",
    "                                               shuffle=False, num_workers=2)\n",
    "\n",
    "# Class labels\n",
    "classes = ('T-shirt/top', 'Trouser', 'Pullover', 'Dress', 'Coat',\n",
    "        'Sandal', 'Shirt', 'Sneaker', 'Bag', 'Ankle Boot')\n",
    "\n",
    "# Report split sizes\n",
    "print(f'Training set has {len(training_set)} instances.')\n",
    "print(f'Validation set has {len(validation_set)} instances.')"
   ]
  },
  {
   "cell_type": "markdown",
   "id": "eb812c41",
   "metadata": {},
   "source": [
    "As always, we visualize the data as a sanity check:"
   ]
  },
  {
   "cell_type": "code",
   "execution_count": 2,
   "id": "f176bd9f",
   "metadata": {},
   "outputs": [
    {
     "name": "stdout",
     "output_type": "stream",
     "text": [
      "Ankle Boot Trouser Shirt T-shirt/top\n"
     ]
    },
    {
     "data": {
      "image/png": "[encoded data removed]",
      "text/plain": [
       "<Figure size 432x288 with 1 Axes>"
      ]
     },
     "metadata": {
      "needs_background": "light"
     },
     "output_type": "display_data"
    }
   ],
   "source": [
    "import matplotlib.pyplot as plt\n",
    "import numpy as np\n",
    "\n",
    "# Helper function for inline image display\n",
    "def matplotlib_imshow(img, one_channel=False):\n",
    "    if one_channel:\n",
    "        img = img.mean(dim=0)\n",
    "    img = img/5 + 0.5 # unnormalize\n",
    "    npimg = img.numpy()\n",
    "    if one_channel:\n",
    "        plt.imshow(npimg, cmap=\"Greys\")\n",
    "    else:\n",
    "        plt.imshow(np.transpose(npimg, (1, 2, 0)))\n",
    "        \n",
    "dataiter = iter(training_loader)\n",
    "images, labels = dataiter.next()\n",
    "\n",
    "# Createa grid from the images and show them\n",
    "img_grid = torchvision.utils.make_grid(images)\n",
    "matplotlib_imshow(img_grid, one_channel=True)\n",
    "print (' '.join(classes[labels[j]] for j in range(4)))"
   ]
  },
  {
   "cell_type": "markdown",
   "id": "a1e63145",
   "metadata": {},
   "source": [
    "## The Model\n",
    "\n",
    "The model we'll use in this example is a variant of LeNet-5; it should be familiar from the previous documents."
   ]
  },
  {
   "cell_type": "code",
   "execution_count": 3,
   "id": "491b0b07",
   "metadata": {},
   "outputs": [],
   "source": [
    "import torch.nn as nn\n",
    "import torch.nn.functional as F\n",
    "\n",
    "class GarmentClassifier(nn.Module):\n",
    "    def __init__(self):\n",
    "        super().__init__()\n",
    "        self.conv1 = nn.Conv2d(1, 6, 5)\n",
    "        self.conv2 = nn.Conv2d(6, 16, 5)\n",
    "        self.pool = nn.MaxPool2d(2, 2)\n",
    "        self.fc1 = nn.Linear(16*4*4, 120)\n",
    "        self.fc2 = nn.Linear(120, 84)\n",
    "        self.fc3 = nn.Linear(84, 10)\n",
    "        \n",
    "    def forward(self, x):\n",
    "        x = self.pool(F.relu(self.conv1(x)))\n",
    "        x = self.pool(F.relu(self.conv2(x)))\n",
    "        x = x.view(-1, 16*4*4)\n",
    "        x = F.relu(self.fc1(x))\n",
    "        x = F.relu(self.fc2(x))\n",
    "        x = self.fc3(x)\n",
    "        return x\n",
    "    \n",
    "model = GarmentClassifier()"
   ]
  },
  {
   "cell_type": "markdown",
   "id": "3edf868e",
   "metadata": {},
   "source": [
    "## Loss Function\n",
    "\n",
    "For this example, we will be using cross-entropy loss. For demonstration purposes, we'll create batches of dummy output and label values, run them through the loss function, and examine the result."
   ]
  },
  {
   "cell_type": "code",
   "execution_count": 4,
   "id": "318cc4a2",
   "metadata": {},
   "outputs": [
    {
     "name": "stdout",
     "output_type": "stream",
     "text": [
      "tensor([[0.2028, 0.3672, 0.1010, 0.6789, 0.1013, 0.0746, 0.6381, 0.2481, 0.8753,\n",
      "         0.3173],\n",
      "        [0.5296, 0.1604, 0.2068, 0.4442, 0.2526, 0.3055, 0.8042, 0.2964, 0.6330,\n",
      "         0.1849],\n",
      "        [0.4142, 0.5272, 0.3232, 0.8841, 0.3843, 0.2362, 0.9543, 0.8558, 0.9772,\n",
      "         0.9626],\n",
      "        [0.3068, 0.7888, 0.6082, 0.5023, 0.7409, 0.0149, 0.6088, 0.0374, 0.4735,\n",
      "         0.7219]])\n",
      "tensor([1, 5, 3, 7])\n",
      "Total loss for this batch: 2.405418634414673\n"
     ]
    }
   ],
   "source": [
    "loss_fn = torch.nn.CrossEntropyLoss()\n",
    "\n",
    "# NB: Loss functions expect data in batches, so we're creating batched of 4\n",
    "# Represents the model's confidence in each of the 10 classes for a given input\n",
    "dummy_outputs = torch.rand(4, 10)\n",
    "# Represents teh correct class among the 10 being tested\n",
    "dummy_labels = torch.tensor([1, 5, 3, 7])\n",
    "\n",
    "print (dummy_outputs)\n",
    "print (dummy_labels)\n",
    "\n",
    "loss = loss_fn(dummy_outputs, dummy_labels)\n",
    "print (f'Total loss for this batch: {loss.item()}')"
   ]
  },
  {
   "cell_type": "markdown",
   "id": "bde4a845",
   "metadata": {},
   "source": [
    "## Optimizer\n",
    "For this example, we'll be using the simple [stochastic gradient descent](https://pytorch.org/docs/stable/optim.html) with momentum.\n",
    "\n",
    "It can be instructive to try some variations on this optimization scheme:\n",
    "- Learning rate determines the size of the steps the optimizer takes. What does a different learning rate do to training results, interms of accuracy and convergence time?\n",
    "- Momentum nudges the optimizer in the direction of strongest gradient over multiple steps. What does changing this value do to the results?\n",
    "- Try some different optimization algorithms, such as averaged SGD, Adagrad, or Adam. How do the results differ?"
   ]
  },
  {
   "cell_type": "code",
   "execution_count": 5,
   "id": "6c772157",
   "metadata": {},
   "outputs": [],
   "source": [
    "# Optimizers specified in the torch.optim package\n",
    "optimizer = torch.optim.SGD(model.parameters(), lr=0.001, momentum=0.9)"
   ]
  },
  {
   "cell_type": "markdown",
   "id": "1299a327",
   "metadata": {},
   "source": [
    "## Training\n",
    "Below, we have a function that performs one training epoch. It enumerates data from the DataLoader, and on each pass of the loop does the following:\n",
    "- Gets a batch of training data from the DataLoader\n",
    "- Zeros the optimizer's gradients\n",
    "- Performs an inference; make a prediction by passing the inputs through the model\n",
    "- Calculates the loss of that set of predictions vs the labels on the dataset\n",
    "- Calculates the backward gradients over the learning weights\n",
    "- Tells the optimizer to perform one learning step; adjusting the model's weights based on the observed gradients for this batch, according to the optimization algorithm we chose.\n",
    "- Reports on the loss for every 1000 batches.\n",
    "- Finally, it reports the average per-batch loss for the last 1000 batches, for comparison with a validation run"
   ]
  },
  {
   "cell_type": "code",
   "execution_count": 6,
   "id": "ba8420e8",
   "metadata": {},
   "outputs": [],
   "source": [
    "def train_one_epoch(epoch_index, tb_writer):\n",
    "    running_loss = 0\n",
    "    last_loss = 0\n",
    "    \n",
    "    # Here, we use enumerate(training_loader) instear of iter(training_loader)\n",
    "    # so that we can track the batch index and do some intra-epoch reporting\n",
    "    for i, data in enumerate(training_loader):\n",
    "        # Every data instance is an input + label pair\n",
    "        inputs, labels = data\n",
    "        \n",
    "        # Zero gradients\n",
    "        optimizer.zero_grad()\n",
    "        \n",
    "        # Make predictions for this batch\n",
    "        outputs = model(inputs)\n",
    "        \n",
    "        # Compute the loss and its gradients\n",
    "        loss = loss_fn(outputs, labels)\n",
    "        loss.backward()\n",
    "        \n",
    "        # Adjust learning weights\n",
    "        optimizer.step()\n",
    "        \n",
    "        # Gather data and report\n",
    "        running_loss += loss.item()\n",
    "        if i % 1000 == 999:\n",
    "            last_loss = running_loss/1000 # loss per batch\n",
    "            print (f' Batch {i + 1} loss: {last_loss}.')\n",
    "            tb_x = epoch_index * len(training_loader) + i + 1\n",
    "            tb_writer.add_scalar('Loss/train', last_loss, tb_x)\n",
    "            running_loss = 0\n",
    "            \n",
    "    return last_loss\n"
   ]
  },
  {
   "cell_type": "markdown",
   "id": "b5bf1739",
   "metadata": {},
   "source": [
    "## Per-Epoch Activity\n",
    "There are a couple of things we'll want to do once per epoch:\n",
    "- Perform validation by checking our relative loss on a set of data that was not used for training, and report this\n",
    "- Save a copy of the model\n",
    "\n",
    "Here, we'll do our reporting in TemsorBoard. This will require going to the command line to start TensorBoard, and opening it in another browser tab."
   ]
  },
  {
   "cell_type": "code",
   "execution_count": 7,
   "id": "0881869b",
   "metadata": {},
   "outputs": [
    {
     "name": "stdout",
     "output_type": "stream",
     "text": [
      "EPOCH 1:\n",
      " Batch 1000 loss: 1.7718542886972428.\n",
      " Batch 2000 loss: 0.8410577019155026.\n",
      " Batch 3000 loss: 0.6695425150608644.\n",
      " Batch 4000 loss: 0.6460088050272316.\n",
      " Batch 5000 loss: 0.5672090725635645.\n",
      " Batch 6000 loss: 0.5424852577676065.\n",
      " Batch 7000 loss: 0.5048063411563635.\n",
      " Batch 8000 loss: 0.5008821553466841.\n",
      " Batch 9000 loss: 0.5145927807218396.\n",
      " Batch 10000 loss: 0.48170222150845804.\n",
      " Batch 11000 loss: 0.472310052156914.\n",
      " Batch 12000 loss: 0.4239868944065529.\n",
      " Batch 13000 loss: 0.4331573379948095.\n",
      " Batch 14000 loss: 0.4221757805654488.\n",
      " Batch 15000 loss: 0.4021545706291654.\n",
      "LOSS train 0.4021545706291654 valid 2.405418634414673\n",
      "EPOCH 2:\n",
      " Batch 1000 loss: 0.3808577788567782.\n",
      " Batch 2000 loss: 0.3843543064353871.\n",
      " Batch 3000 loss: 0.3752621689451189.\n",
      " Batch 4000 loss: 0.3966358294911915.\n",
      " Batch 5000 loss: 0.3540650935532758.\n",
      " Batch 6000 loss: 0.3391021918329934.\n",
      " Batch 7000 loss: 0.37665931126184293.\n",
      " Batch 8000 loss: 0.3628558882194193.\n",
      " Batch 9000 loss: 0.35443209272267995.\n",
      " Batch 10000 loss: 0.34850413206446684.\n",
      " Batch 11000 loss: 0.3374111213960423.\n",
      " Batch 12000 loss: 0.3607333320995385.\n",
      " Batch 13000 loss: 0.335074782842159.\n",
      " Batch 14000 loss: 0.3360355099333974.\n",
      " Batch 15000 loss: 0.36482640152293605.\n",
      "LOSS train 0.36482640152293605 valid 2.405418634414673\n",
      "EPOCH 3:\n",
      " Batch 1000 loss: 0.31720986553895636.\n",
      " Batch 2000 loss: 0.3245433443366201.\n",
      " Batch 3000 loss: 0.32388471670111174.\n",
      " Batch 4000 loss: 0.293579232385895.\n",
      " Batch 5000 loss: 0.316641527594853.\n",
      " Batch 6000 loss: 0.31977818772770117.\n",
      " Batch 7000 loss: 0.316410230788897.\n",
      " Batch 8000 loss: 0.30356957177000005.\n",
      " Batch 9000 loss: 0.3105221163302194.\n",
      " Batch 10000 loss: 0.32337966475260327.\n",
      " Batch 11000 loss: 0.3015325551097194.\n",
      " Batch 12000 loss: 0.3155869748173209.\n",
      " Batch 13000 loss: 0.31218747676757086.\n",
      " Batch 14000 loss: 0.317973741301772.\n",
      " Batch 15000 loss: 0.30418076013673634.\n",
      "LOSS train 0.30418076013673634 valid 2.405418634414673\n",
      "EPOCH 4:\n",
      " Batch 1000 loss: 0.2860231276237755.\n",
      " Batch 2000 loss: 0.285404621302252.\n",
      " Batch 3000 loss: 0.28129589415838563.\n",
      " Batch 4000 loss: 0.2934951396553224.\n",
      " Batch 5000 loss: 0.2913278341079131.\n",
      " Batch 6000 loss: 0.30134710175309737.\n",
      " Batch 7000 loss: 0.2853027721288963.\n",
      " Batch 8000 loss: 0.2866136360666787.\n",
      " Batch 9000 loss: 0.2841623907122703.\n",
      " Batch 10000 loss: 0.300817307272373.\n",
      " Batch 11000 loss: 0.29736944644598773.\n",
      " Batch 12000 loss: 0.28596560442782354.\n",
      " Batch 13000 loss: 0.2843320426661012.\n",
      " Batch 14000 loss: 0.28717506096028955.\n",
      " Batch 15000 loss: 0.28405570295731014.\n",
      "LOSS train 0.28405570295731014 valid 2.405418634414673\n",
      "EPOCH 5:\n",
      " Batch 1000 loss: 0.2616896634300065.\n",
      " Batch 2000 loss: 0.28326108770849534.\n",
      " Batch 3000 loss: 0.27559822899496067.\n",
      " Batch 4000 loss: 0.2899871237921034.\n",
      " Batch 5000 loss: 0.2612661648221656.\n",
      " Batch 6000 loss: 0.26039216863885306.\n",
      " Batch 7000 loss: 0.27007497556062665.\n",
      " Batch 8000 loss: 0.26114095235129936.\n",
      " Batch 9000 loss: 0.28573863385952425.\n",
      " Batch 10000 loss: 0.28453748591531214.\n",
      " Batch 11000 loss: 0.2619911642543102.\n",
      " Batch 12000 loss: 0.2784807793034288.\n",
      " Batch 13000 loss: 0.27131371860984654.\n",
      " Batch 14000 loss: 0.2624831395352012.\n",
      " Batch 15000 loss: 0.25056902591864855.\n",
      "LOSS train 0.25056902591864855 valid 2.405418634414673\n"
     ]
    }
   ],
   "source": [
    "# Initializing in a seperate cell so we can easily add more epochs to the\n",
    "# same run\n",
    "timestamp = datetime.now().strftime('%Y%m%d_%H%M%S')\n",
    "writer = SummaryWriter(f'runs/fashion_trainer_{timestamp}')\n",
    "epoch_number = 0\n",
    "\n",
    "EPOCHS = 5\n",
    "\n",
    "best_vloss = 1_000_000\n",
    "\n",
    "for epoch in range(EPOCHS):\n",
    "    print (f'EPOCH {epoch_number + 1}:')\n",
    "    \n",
    "    # Make sure gradent tracking is on, and do a pass over the data\n",
    "    model.train(True)\n",
    "    avg_loss = train_one_epoch(epoch_number, writer)\n",
    "    \n",
    "    model.train(False)\n",
    "    \n",
    "    running_vloss = 0.0\n",
    "    for i, vdata in enumerate(validation_loader):\n",
    "        vinputs, vlabels = vdata\n",
    "        voutputs = model(vinputs)\n",
    "        vloss = loss_fn(voutputs, vlabels)\n",
    "        running_vloss += loss.item()\n",
    "        \n",
    "    avg_vloss = running_vloss / (i+1)\n",
    "    print (f'LOSS train {avg_loss} valid {avg_vloss}')\n",
    "    \n",
    "    # Lof the running loss averaged per batch for both training and validation\n",
    "    writer.add_scalars('Training vs Validation Loss', \n",
    "                      {'Training': avg_loss, 'Validation': avg_vloss},\n",
    "                      epoch_number + 1)\n",
    "    writer.flush()\n",
    "    \n",
    "    # Track best performance, and save the model's state\n",
    "    if avg_vloss < best_vloss:\n",
    "        best_vloss = avg_vloss\n",
    "        model_path = f'model_{timestamp}_{epoch_number}'\n",
    "        torch.save(model.state_dict(), model_path)\n",
    "        \n",
    "    epoch_number += 1"
   ]
  },
  {
   "cell_type": "markdown",
   "id": "2331ba40",
   "metadata": {},
   "source": [
    "To load a saved version of the model:"
   ]
  },
  {
   "cell_type": "code",
   "execution_count": 8,
   "id": "6bcc3b8c",
   "metadata": {},
   "outputs": [
    {
     "ename": "NameError",
     "evalue": "name 'PATH' is not defined",
     "output_type": "error",
     "traceback": [
      "\u001b[1;31m---------------------------------------------------------------------------\u001b[0m",
      "\u001b[1;31mNameError\u001b[0m                                 Traceback (most recent call last)",
      "Input \u001b[1;32mIn [8]\u001b[0m, in \u001b[0;36m<cell line: 2>\u001b[1;34m()\u001b[0m\n\u001b[0;32m      1\u001b[0m saved_model \u001b[38;5;241m=\u001b[39m GarmentClassifier()\n\u001b[1;32m----> 2\u001b[0m saved_model\u001b[38;5;241m.\u001b[39mload_state_dict(torch\u001b[38;5;241m.\u001b[39mload(\u001b[43mPATH\u001b[49m))\n",
      "\u001b[1;31mNameError\u001b[0m: name 'PATH' is not defined"
     ]
    }
   ],
   "source": [
    "saved_model = GarmentClassifier()\n",
    "# Note: PATH not set. Next line throws an error.\n",
    "saved_model.load_state_dict(torch.load(PATH))"
   ]
  },
  {
   "cell_type": "markdown",
   "id": "4a8652af",
   "metadata": {},
   "source": [
    "Once the model is loaded, it's ready for whatever we need it for, be it training, inference or analysis.\n",
    "\n",
    "Note that if the model has constructor parameters that affect model structure, we'll need to provide them and configure the model identically to the state in which it was saved."
   ]
  },
  {
   "cell_type": "markdown",
   "id": "4d034ebd",
   "metadata": {},
   "source": [
    "## Other Resources:\n",
    "- Docs on the [data utilities](https://pytorch.org/docs/stable/data.html), including Dataset and DataLoader, at pytorch.org\n",
    "- A [note](https://pytorch.org/docs/stable/notes/cuda.html#cuda-memory-pinning) on the use of pinned memory for GPU training\n",
    "- Documentation onthe datasets available in [TorchVision](https://pytorch.org/vision/stable/datasets.html), [Torch Text](https://pytorch.org/text/stable/datasets.html), and [TorchAudio](https://pytorch.org/audio/stable/datasets.html)\n",
    "- Documentation on the [loss functions](https://pytorch.org/docs/stable/nn.html#loss-functions) available in PyTorch\n",
    "- Documentation on the [torch.optim](https://pytorch.org/docs/stable/optim.html) package, which includes optimizers and related tools, such as learning rate scheduling.\n",
    "- A [tutorial](https://pytorch.org/tutorials/beginner/saving_loading_models.html) on saving and loading models.\n",
    "- The [tutorial](https://pytorch.org/tutorials/) section of pytorch.org contains tutorials on a broad variety of training tasks, including classification in different domains, generative adversarial networks, reinforcement learning, and more."
   ]
  }
 ],
 "metadata": {
  "kernelspec": {
   "display_name": "Python 3 (ipykernel)",
   "language": "python",
   "name": "python3"
  },
  "language_info": {
   "codemirror_mode": {
    "name": "ipython",
    "version": 3
   },
   "file_extension": ".py",
   "mimetype": "text/x-python",
   "name": "python",
   "nbconvert_exporter": "python",
   "pygments_lexer": "ipython3",
   "version": "3.9.12"
  }
 },
 "nbformat": 4,
 "nbformat_minor": 5
}
