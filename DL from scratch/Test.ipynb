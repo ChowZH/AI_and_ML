{
 "cells": [
  {
   "cell_type": "code",
   "execution_count": 2,
   "id": "15bfdf93",
   "metadata": {},
   "outputs": [
    {
     "name": "stderr",
     "output_type": "stream",
     "text": [
      "C:\\Users\\Toffee\\AppData\\Local\\Temp\\ipykernel_8680\\3858921476.py:4: TqdmWarning: IProgress not found. Please update jupyter and ipywidgets. See https://ipywidgets.readthedocs.io/en/stable/user_install.html\n",
      "  import tqdm.autonotebook\n"
     ]
    }
   ],
   "source": [
    "import seaborn as sns\n",
    "import matplotlib.pyplot as plt\n",
    "import numpy as np\n",
    "import tqdm.autonotebook\n",
    "import tqdm\n",
    "import pandas as pd"
   ]
  },
  {
   "cell_type": "code",
   "execution_count": 4,
   "id": "d2b64aba",
   "metadata": {},
   "outputs": [],
   "source": [
    "import torch"
   ]
  },
  {
   "cell_type": "code",
   "execution_count": 8,
   "id": "62524efe",
   "metadata": {},
   "outputs": [],
   "source": [
    "torch_scalar = torch.tensor(3.14)\n",
    "torch_vector = torch.tensor([1,2,3,4,5])\n",
    "torch_matrix = torch.tensor([[11,12,13],\n",
    "                           [21,22,23],\n",
    "                           [31,32,33]])\n",
    "torch_tensor3d = torch.tensor([[[11,12],\n",
    "                                [21,22]\n",
    "                                ],\n",
    "                                [[31,32],\n",
    "                                [41,42]]])"
   ]
  },
  {
   "cell_type": "code",
   "execution_count": 9,
   "id": "18ab45e5",
   "metadata": {},
   "outputs": [
    {
     "name": "stdout",
     "output_type": "stream",
     "text": [
      "torch.Size([])\n",
      "torch.Size([5])\n",
      "torch.Size([3, 3])\n",
      "torch.Size([2, 2, 2])\n"
     ]
    }
   ],
   "source": [
    "print(torch_scalar.shape)\n",
    "print(torch_vector.shape)\n",
    "print(torch_matrix.shape)\n",
    "print(torch_tensor3d.shape)"
   ]
  },
  {
   "cell_type": "code",
   "execution_count": 10,
   "id": "7ed59c97",
   "metadata": {},
   "outputs": [],
   "source": [
    "import timeit\n",
    "x = torch.rand(2**11, 2**11)\n",
    "time_cpu = timeit.timeit(\"x@x\", globals = globals(), number = 100)"
   ]
  },
  {
   "cell_type": "code",
   "execution_count": 12,
   "id": "b533201a",
   "metadata": {},
   "outputs": [
    {
     "name": "stdout",
     "output_type": "stream",
     "text": [
      "Is CUDA available? : True\n"
     ]
    }
   ],
   "source": [
    "print (\"Is CUDA available? :\", torch.cuda.is_available())\n",
    "device = torch.device(\"cuda\")"
   ]
  },
  {
   "cell_type": "code",
   "execution_count": 13,
   "id": "4c9b9c74",
   "metadata": {},
   "outputs": [],
   "source": [
    "x = x.to(device)\n",
    "time_gpu = timeit.timeit(\"x@x\", globals = globals(), number = 100)"
   ]
  },
  {
   "cell_type": "code",
   "execution_count": 14,
   "id": "fcb85bd9",
   "metadata": {},
   "outputs": [
    {
     "name": "stdout",
     "output_type": "stream",
     "text": [
      "4.4769628999999895\n",
      "1.4408339999999953\n"
     ]
    }
   ],
   "source": [
    "print (time_cpu)\n",
    "print (time_gpu)"
   ]
  },
  {
   "cell_type": "code",
   "execution_count": 16,
   "id": "741a85b1",
   "metadata": {},
   "outputs": [
    {
     "data": {
      "text/plain": [
       "tensor([[0.2198, 0.0550, 0.1187,  ..., 0.2857, 0.7262, 0.0765],\n",
       "        [0.0048, 0.0877, 0.1630,  ..., 0.2056, 0.4197, 0.1732],\n",
       "        [0.5459, 0.3704, 0.0726,  ..., 0.8269, 0.2997, 0.3228],\n",
       "        ...,\n",
       "        [0.2611, 0.0094, 0.4929,  ..., 0.5687, 0.1053, 0.0524],\n",
       "        [0.0257, 0.1165, 0.1502,  ..., 0.5121, 0.0091, 0.1259],\n",
       "        [0.6861, 0.1842, 0.1257,  ..., 0.6080, 0.6797, 0.3375]],\n",
       "       device='cuda:0')"
      ]
     },
     "execution_count": 16,
     "metadata": {},
     "output_type": "execute_result"
    }
   ],
   "source": [
    "x = torch.rand(128, 128).to(device)\n",
    "y = torch.rand(128, 128).to(device)\n",
    "\n",
    "x*y"
   ]
  },
  {
   "cell_type": "code",
   "execution_count": null,
   "id": "20e26d09",
   "metadata": {},
   "outputs": [],
   "source": []
  }
 ],
 "metadata": {
  "kernelspec": {
   "display_name": "Python 3 (ipykernel)",
   "language": "python",
   "name": "python3"
  },
  "language_info": {
   "codemirror_mode": {
    "name": "ipython",
    "version": 3
   },
   "file_extension": ".py",
   "mimetype": "text/x-python",
   "name": "python",
   "nbconvert_exporter": "python",
   "pygments_lexer": "ipython3",
   "version": "3.9.12"
  }
 },
 "nbformat": 4,
 "nbformat_minor": 5
}
