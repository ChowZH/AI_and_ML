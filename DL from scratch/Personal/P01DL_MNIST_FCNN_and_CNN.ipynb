{
 "cells": [
  {
   "cell_type": "code",
   "execution_count": 1,
   "id": "8cececcf",
   "metadata": {},
   "outputs": [],
   "source": [
    "## First practice code working with the MNIST dataset\n",
    "# MNIST has 28*28 size images of hand-written digits 0-9t\n",
    "\n",
    "import torch\n",
    "import torch.nn as nn\n",
    "import torch.nn.functional as F\n",
    "import torch.optim as optim\n",
    "import matplotlib.pyplot as plt\n",
    "import numpy as np\n",
    "\n",
    "from torchvision import transforms, datasets"
   ]
  },
  {
   "cell_type": "code",
   "execution_count": 2,
   "id": "22933fa3",
   "metadata": {},
   "outputs": [
    {
     "data": {
      "text/plain": [
       "device(type='cuda')"
      ]
     },
     "execution_count": 2,
     "metadata": {},
     "output_type": "execute_result"
    }
   ],
   "source": [
    "device = torch.device('cuda' if torch.cuda.is_available() else 'cpu')\n",
    "device"
   ]
  },
  {
   "cell_type": "code",
   "execution_count": 3,
   "id": "d2befae8",
   "metadata": {},
   "outputs": [],
   "source": [
    "## Preparing the data:\n",
    "# The train_loader and test_loader is a calling of the Dataloader function to import the datasets from MNIST\n",
    "# Each train call pulls a batch of 32 sets\n",
    "# Each test call pulls a batch of 1024 sets\n",
    "# The loaders also shuffle the data for better training\n",
    "\n",
    "input_size = 28*28\n",
    "output_size = 10\n",
    "\n",
    "train_loader = torch.utils.data.DataLoader(\n",
    "    datasets.MNIST('../data', train=True, download=False, transform=transforms.Compose([\n",
    "        transforms.ToTensor()\n",
    "    ])),\n",
    "    batch_size=32, shuffle=True\n",
    ")\n",
    "\n",
    "test_loader = torch.utils.data.DataLoader(\n",
    "    datasets.MNIST('../data', train=False, download=False, transform=transforms.Compose([\n",
    "        transforms.ToTensor()\n",
    "    ])),\n",
    "    batch_size=1_024, shuffle=True\n",
    ")"
   ]
  },
  {
   "cell_type": "code",
   "execution_count": 4,
   "id": "86847401",
   "metadata": {},
   "outputs": [
    {
     "data": {
      "image/png": "[encoded data removed]",
      "text/plain": [
       "<Figure size 1152x432 with 10 Axes>"
      ]
     },
     "metadata": {
      "needs_background": "light"
     },
     "output_type": "display_data"
    }
   ],
   "source": [
    "# To show that the data is imported\n",
    "\n",
    "plt.figure(figsize=(16,6))\n",
    "for i in range(10):\n",
    "    plt.subplot(2,5,i+1)\n",
    "    image, target = train_loader.dataset.__getitem__(i)\n",
    "    plt.imshow(image.squeeze().numpy()) # Turns the tensor of (1,28,28) to (28, 28), then to a numpy (28, 28)\n",
    "    plt.axis('off')"
   ]
  },
  {
   "cell_type": "code",
   "execution_count": 5,
   "id": "893d1c80",
   "metadata": {},
   "outputs": [],
   "source": [
    "## Building a simple NN class\n",
    "\n",
    "class SimpleNN(nn.Module):\n",
    "    def __init__(self, input_size, n_hidden, output_size):\n",
    "        super().__init__()\n",
    "        self.input_size = input_size\n",
    "        self.network = nn.Sequential(\n",
    "            nn.Linear(input_size, n_hidden),\n",
    "            nn.ReLU(),\n",
    "            nn.Linear(n_hidden, n_hidden),\n",
    "            nn.ReLU(),\n",
    "            nn.Linear(n_hidden, n_hidden),\n",
    "            nn.ReLU(),\n",
    "            nn.Linear(n_hidden, output_size),\n",
    "            nn.LogSoftmax(dim=1)\n",
    "        )\n",
    "\n",
    "    def forward(self, x):\n",
    "        x = x.view(-1, self.input_size)\n",
    "        return self.network(x)"
   ]
  },
  {
   "cell_type": "code",
   "execution_count": 6,
   "id": "f4a2564c",
   "metadata": {},
   "outputs": [],
   "source": [
    "## Specifying the training and testing loops\n",
    "accuracy_list = []\n",
    "def train(epoch, model, perm=torch.arange(0,28*28).long()):\n",
    "    model.train()\n",
    "    for batch_idx, (image, target) in enumerate(train_loader):\n",
    "        image, target = image.to(device), target.to(device)\n",
    "        \n",
    "        image = image.view(-1, 28*28)\n",
    "        image = image[:,perm]\n",
    "        image = image.view(-1,1,28,28)\n",
    "        \n",
    "        optimizer.zero_grad()\n",
    "        output = model(image)\n",
    "        loss = F.nll_loss(output, target)\n",
    "        loss.backward()\n",
    "        optimizer.step()\n",
    "        if batch_idx % 100 == 0:\n",
    "            print (\n",
    "f'''Train Epoch: {epoch} [{batch_idx*len(image)}]/{len(train_loader.dataset)} ({100*batch_idx/len(train_loader)}%) \n",
    "Loss: {loss.item():.6f}'''\n",
    "            )\n",
    "        \n",
    "def test(model, perm=torch.arange(0,28*28).long()):\n",
    "    model.eval()\n",
    "    test_loss = 0\n",
    "    correct = 0\n",
    "    for image, target in test_loader:\n",
    "        image, target = image.to(device), target.to(device)\n",
    "        \n",
    "        image = image.view(-1, 28*28)\n",
    "        image = image[:,perm]\n",
    "        image = image.view(-1,1,28,28)\n",
    "        \n",
    "        output = model(image)\n",
    "        test_loss += F.nll_loss(output, target, reduction='sum').item()\n",
    "        pred = output.data.max(1, keepdim=True)[1]\n",
    "        correct += pred.eq(target.data.view_as(pred)).cpu().sum().item()\n",
    "    \n",
    "    test_loss /= len(test_loader.dataset)\n",
    "    accuracy = 100* correct/len(test_loader.dataset)\n",
    "    accuracy_list.append(accuracy)    \n",
    "    print (\n",
    "f'''Test set ==> Average Loss: {test_loss:.4f}, Accuracy: {correct}/{len(test_loader.dataset)} ({accuracy:.0f}%)'''\n",
    "    )"
   ]
  },
  {
   "cell_type": "code",
   "execution_count": 7,
   "id": "2693937f",
   "metadata": {},
   "outputs": [
    {
     "name": "stdout",
     "output_type": "stream",
     "text": [
      "Train Epoch: 0 [0]/60000 (0.0%) \n",
      "Loss: 2.290486\n",
      "Train Epoch: 0 [3200]/60000 (5.333333333333333%) \n",
      "Loss: 2.213741\n",
      "Train Epoch: 0 [6400]/60000 (10.666666666666666%) \n",
      "Loss: 2.084939\n",
      "Train Epoch: 0 [9600]/60000 (16.0%) \n",
      "Loss: 1.845395\n",
      "Train Epoch: 0 [12800]/60000 (21.333333333333332%) \n",
      "Loss: 1.609648\n",
      "Train Epoch: 0 [16000]/60000 (26.666666666666668%) \n",
      "Loss: 1.781407\n",
      "Train Epoch: 0 [19200]/60000 (32.0%) \n",
      "Loss: 1.718667\n",
      "Train Epoch: 0 [22400]/60000 (37.333333333333336%) \n",
      "Loss: 1.189290\n",
      "Train Epoch: 0 [25600]/60000 (42.666666666666664%) \n",
      "Loss: 1.595059\n",
      "Train Epoch: 0 [28800]/60000 (48.0%) \n",
      "Loss: 1.370640\n",
      "Train Epoch: 0 [32000]/60000 (53.333333333333336%) \n",
      "Loss: 1.386675\n",
      "Train Epoch: 0 [35200]/60000 (58.666666666666664%) \n",
      "Loss: 1.187595\n",
      "Train Epoch: 0 [38400]/60000 (64.0%) \n",
      "Loss: 1.133189\n",
      "Train Epoch: 0 [41600]/60000 (69.33333333333333%) \n",
      "Loss: 1.141517\n",
      "Train Epoch: 0 [44800]/60000 (74.66666666666667%) \n",
      "Loss: 1.348974\n",
      "Train Epoch: 0 [48000]/60000 (80.0%) \n",
      "Loss: 1.015029\n",
      "Train Epoch: 0 [51200]/60000 (85.33333333333333%) \n",
      "Loss: 0.865862\n",
      "Train Epoch: 0 [54400]/60000 (90.66666666666667%) \n",
      "Loss: 1.077382\n",
      "Train Epoch: 0 [57600]/60000 (96.0%) \n",
      "Loss: 0.780521\n",
      "Test set ==> Average Loss: 0.9799, Accuracy: 7419/10000 (74%)\n"
     ]
    }
   ],
   "source": [
    "n_hidden = 5\n",
    "model = SimpleNN(input_size, n_hidden, output_size).to(device)\n",
    "optimizer = optim.Adam(model.parameters(), lr = 0.001)\n",
    "\n",
    "for epoch in range(0,1):\n",
    "    train(epoch, model)\n",
    "    test(model)"
   ]
  },
  {
   "cell_type": "code",
   "execution_count": 8,
   "id": "dcbdef54",
   "metadata": {},
   "outputs": [
    {
     "data": {
      "image/png": "[encoded data removed]",
      "text/plain": [
       "<Figure size 1152x432 with 10 Axes>"
      ]
     },
     "metadata": {
      "needs_background": "light"
     },
     "output_type": "display_data"
    }
   ],
   "source": [
    "# Changing the assumptions: inputs no-longer heirarchical\n",
    "\n",
    "perm = torch.randperm(784)\n",
    "plt.figure(figsize=(16, 6))\n",
    "for i in range(5):\n",
    "    image, _ = train_loader.dataset.__getitem__(i)\n",
    "    # permute pixels\n",
    "    image_perm = image.view(-1, 28*28).clone()\n",
    "    image_perm = image_perm[:, perm]\n",
    "    image_perm = image_perm.view(-1, 1, 28, 28)\n",
    "    plt.subplot(2, 5, i + 1)\n",
    "    plt.imshow(image.squeeze().numpy())\n",
    "    plt.axis('off')\n",
    "    plt.subplot(2, 5, i + 6)\n",
    "    plt.imshow(image_perm.squeeze().numpy())\n",
    "    plt.axis('off')"
   ]
  },
  {
   "cell_type": "code",
   "execution_count": 9,
   "id": "0792b340",
   "metadata": {},
   "outputs": [
    {
     "name": "stdout",
     "output_type": "stream",
     "text": [
      "Train Epoch: 0 [0]/60000 (0.0%) \n",
      "Loss: 2.320267\n",
      "Train Epoch: 0 [3200]/60000 (5.333333333333333%) \n",
      "Loss: 2.056875\n",
      "Train Epoch: 0 [6400]/60000 (10.666666666666666%) \n",
      "Loss: 1.847278\n",
      "Train Epoch: 0 [9600]/60000 (16.0%) \n",
      "Loss: 2.126316\n",
      "Train Epoch: 0 [12800]/60000 (21.333333333333332%) \n",
      "Loss: 1.721177\n",
      "Train Epoch: 0 [16000]/60000 (26.666666666666668%) \n",
      "Loss: 1.746212\n",
      "Train Epoch: 0 [19200]/60000 (32.0%) \n",
      "Loss: 1.556806\n",
      "Train Epoch: 0 [22400]/60000 (37.333333333333336%) \n",
      "Loss: 1.470807\n",
      "Train Epoch: 0 [25600]/60000 (42.666666666666664%) \n",
      "Loss: 1.416820\n",
      "Train Epoch: 0 [28800]/60000 (48.0%) \n",
      "Loss: 1.365167\n",
      "Train Epoch: 0 [32000]/60000 (53.333333333333336%) \n",
      "Loss: 1.151954\n",
      "Train Epoch: 0 [35200]/60000 (58.666666666666664%) \n",
      "Loss: 1.215339\n",
      "Train Epoch: 0 [38400]/60000 (64.0%) \n",
      "Loss: 1.147006\n",
      "Train Epoch: 0 [41600]/60000 (69.33333333333333%) \n",
      "Loss: 1.283737\n",
      "Train Epoch: 0 [44800]/60000 (74.66666666666667%) \n",
      "Loss: 1.046357\n",
      "Train Epoch: 0 [48000]/60000 (80.0%) \n",
      "Loss: 0.929658\n",
      "Train Epoch: 0 [51200]/60000 (85.33333333333333%) \n",
      "Loss: 0.962592\n",
      "Train Epoch: 0 [54400]/60000 (90.66666666666667%) \n",
      "Loss: 1.165316\n",
      "Train Epoch: 0 [57600]/60000 (96.0%) \n",
      "Loss: 1.193335\n",
      "Test set ==> Average Loss: 1.0316, Accuracy: 6459/10000 (65%)\n"
     ]
    }
   ],
   "source": [
    "n_hidden = 5\n",
    "model = SimpleNN(input_size, n_hidden, output_size).to(device)\n",
    "optimizer = optim.Adam(model.parameters(), lr = 0.001)\n",
    "\n",
    "for epoch in range(0,1):\n",
    "    train(epoch, model, perm)\n",
    "    test(model, perm)"
   ]
  },
  {
   "cell_type": "code",
   "execution_count": 14,
   "id": "8a459707",
   "metadata": {},
   "outputs": [],
   "source": [
    "## Writing a simple CNN model\n",
    "\n",
    "class SimpleCNN(nn.Module):\n",
    "    def __init__(self, input_size, n_feature, output_size):\n",
    "        super().__init__()\n",
    "        self.n_feature = n_feature\n",
    "        self.conv1 = nn.Conv2d(in_channels = 1, out_channels=n_feature, kernel_size = 5)\n",
    "        self.conv2 = nn.Conv2d(n_feature, n_feature, kernel_size=5)\n",
    "        self.fc1 = nn.Linear(n_feature*4*4, 50)\n",
    "        self.fc2 = nn.Linear(50,10)\n",
    "        \n",
    "    def forward(self, x, verbose=False):\n",
    "        x = self.conv1(x)\n",
    "        x = F.relu(x)\n",
    "        x = F.max_pool2d(x, kernel_size=2)\n",
    "        x = self.conv2(x)\n",
    "        x = F.relu(x)\n",
    "        x = F.max_pool2d(x, kernel_size=2)\n",
    "        x = x.view(-1, self.n_feature*4*4)\n",
    "        x = self.fc1(x)\n",
    "        x = F.relu(x)\n",
    "        x = self.fc2(x)\n",
    "        x = F.log_softmax(x, dim=1)\n",
    "        return x"
   ]
  },
  {
   "cell_type": "code",
   "execution_count": 15,
   "id": "3ddbee0d",
   "metadata": {},
   "outputs": [
    {
     "name": "stdout",
     "output_type": "stream",
     "text": [
      "Train Epoch: 0 [0]/60000 (0.0%) \n",
      "Loss: 2.309351\n",
      "Train Epoch: 0 [3200]/60000 (5.333333333333333%) \n",
      "Loss: 2.296651\n",
      "Train Epoch: 0 [6400]/60000 (10.666666666666666%) \n",
      "Loss: 2.293534\n",
      "Train Epoch: 0 [9600]/60000 (16.0%) \n",
      "Loss: 2.239133\n",
      "Train Epoch: 0 [12800]/60000 (21.333333333333332%) \n",
      "Loss: 2.023612\n",
      "Train Epoch: 0 [16000]/60000 (26.666666666666668%) \n",
      "Loss: 0.990585\n",
      "Train Epoch: 0 [19200]/60000 (32.0%) \n",
      "Loss: 0.437810\n",
      "Train Epoch: 0 [22400]/60000 (37.333333333333336%) \n",
      "Loss: 0.461768\n",
      "Train Epoch: 0 [25600]/60000 (42.666666666666664%) \n",
      "Loss: 0.290014\n",
      "Train Epoch: 0 [28800]/60000 (48.0%) \n",
      "Loss: 0.418240\n",
      "Train Epoch: 0 [32000]/60000 (53.333333333333336%) \n",
      "Loss: 0.776511\n",
      "Train Epoch: 0 [35200]/60000 (58.666666666666664%) \n",
      "Loss: 0.286791\n",
      "Train Epoch: 0 [38400]/60000 (64.0%) \n",
      "Loss: 0.283988\n",
      "Train Epoch: 0 [41600]/60000 (69.33333333333333%) \n",
      "Loss: 0.152688\n",
      "Train Epoch: 0 [44800]/60000 (74.66666666666667%) \n",
      "Loss: 0.200984\n",
      "Train Epoch: 0 [48000]/60000 (80.0%) \n",
      "Loss: 0.210661\n",
      "Train Epoch: 0 [51200]/60000 (85.33333333333333%) \n",
      "Loss: 0.125060\n",
      "Train Epoch: 0 [54400]/60000 (90.66666666666667%) \n",
      "Loss: 0.070842\n",
      "Train Epoch: 0 [57600]/60000 (96.0%) \n",
      "Loss: 0.397497\n",
      "Test set ==> Average Loss: 0.1993, Accuracy: 9358/10000 (94%)\n"
     ]
    }
   ],
   "source": [
    "## Training the ConvNet\n",
    "\n",
    "n_features = 6\n",
    "\n",
    "model_cnn = SimpleCNN(input_size, n_features, output_size)\n",
    "model_cnn.to(device)\n",
    "optimizer = optim.SGD(model_cnn.parameters(),lr = 0.01, momentum = 0.5)\n",
    "\n",
    "for epoch in range(0,1):\n",
    "    train (epoch, model_cnn)\n",
    "    test (model_cnn)"
   ]
  },
  {
   "cell_type": "code",
   "execution_count": 16,
   "id": "841f666e",
   "metadata": {},
   "outputs": [
    {
     "name": "stdout",
     "output_type": "stream",
     "text": [
      "Train Epoch: 0 [0]/60000 (0.0%) \n",
      "Loss: 2.326030\n",
      "Train Epoch: 0 [3200]/60000 (5.333333333333333%) \n",
      "Loss: 2.308249\n",
      "Train Epoch: 0 [6400]/60000 (10.666666666666666%) \n",
      "Loss: 2.306680\n",
      "Train Epoch: 0 [9600]/60000 (16.0%) \n",
      "Loss: 2.329271\n",
      "Train Epoch: 0 [12800]/60000 (21.333333333333332%) \n",
      "Loss: 2.321843\n",
      "Train Epoch: 0 [16000]/60000 (26.666666666666668%) \n",
      "Loss: 2.299640\n",
      "Train Epoch: 0 [19200]/60000 (32.0%) \n",
      "Loss: 2.302744\n",
      "Train Epoch: 0 [22400]/60000 (37.333333333333336%) \n",
      "Loss: 2.294937\n",
      "Train Epoch: 0 [25600]/60000 (42.666666666666664%) \n",
      "Loss: 2.308866\n",
      "Train Epoch: 0 [28800]/60000 (48.0%) \n",
      "Loss: 2.311596\n",
      "Train Epoch: 0 [32000]/60000 (53.333333333333336%) \n",
      "Loss: 2.264684\n",
      "Train Epoch: 0 [35200]/60000 (58.666666666666664%) \n",
      "Loss: 2.331222\n",
      "Train Epoch: 0 [38400]/60000 (64.0%) \n",
      "Loss: 2.306852\n",
      "Train Epoch: 0 [41600]/60000 (69.33333333333333%) \n",
      "Loss: 2.294676\n",
      "Train Epoch: 0 [44800]/60000 (74.66666666666667%) \n",
      "Loss: 2.310144\n",
      "Train Epoch: 0 [48000]/60000 (80.0%) \n",
      "Loss: 2.313772\n",
      "Train Epoch: 0 [51200]/60000 (85.33333333333333%) \n",
      "Loss: 2.279439\n",
      "Train Epoch: 0 [54400]/60000 (90.66666666666667%) \n",
      "Loss: 2.303855\n",
      "Train Epoch: 0 [57600]/60000 (96.0%) \n",
      "Loss: 2.289733\n",
      "Test set ==> Average Loss: 2.3069, Accuracy: 1030/10000 (10%)\n"
     ]
    }
   ],
   "source": [
    "n_hidden = 5\n",
    "n_features = 6\n",
    "model = SimpleCNN(input_size, n_features, output_size).to(device)\n",
    "optimizer = optim.SGD(model_cnn.parameters(),lr = 0.01, momentum = 0.5)\n",
    "\n",
    "for epoch in range(0,1):\n",
    "    train(epoch, model, perm)\n",
    "    test(model, perm)"
   ]
  },
  {
   "cell_type": "code",
   "execution_count": null,
   "id": "72cccdc0",
   "metadata": {},
   "outputs": [],
   "source": []
  }
 ],
 "metadata": {
  "kernelspec": {
   "display_name": "Python 3 (ipykernel)",
   "language": "python",
   "name": "python3"
  },
  "language_info": {
   "codemirror_mode": {
    "name": "ipython",
    "version": 3
   },
   "file_extension": ".py",
   "mimetype": "text/x-python",
   "name": "python",
   "nbconvert_exporter": "python",
   "pygments_lexer": "ipython3",
   "version": "3.9.12"
  }
 },
 "nbformat": 4,
 "nbformat_minor": 5
}
