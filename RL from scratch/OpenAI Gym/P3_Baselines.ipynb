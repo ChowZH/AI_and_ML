{
 "cells": [
  {
   "cell_type": "code",
   "execution_count": 1,
   "id": "462f1887",
   "metadata": {},
   "outputs": [],
   "source": [
    "import gym\n",
    "from baselines.common.vec_env.subproc_vec_env import SubprocVecEnv\n",
    "\n",
    "# SubprocVecEnv wrapper runs all environments asynchronously."
   ]
  },
  {
   "cell_type": "code",
   "execution_count": 2,
   "id": "c9041498",
   "metadata": {},
   "outputs": [],
   "source": [
    "num_envs = 3\n",
    "envs = [lambda: gym.make(\"BreakoutNoFrameskip-v4\") for i in range(num_envs)]\n",
    "\n",
    "envs = SubprocVecEnv(envs)\n",
    "\n",
    "# envs is an array of env from the previous practice sheet"
   ]
  },
  {
   "cell_type": "code",
   "execution_count": 5,
   "id": "9fa5b60f",
   "metadata": {},
   "outputs": [
    {
     "name": "stdout",
     "output_type": "stream",
     "text": [
      "Number of Envs: 3\n",
      "Shape of one Env: (210, 160, 3)\n"
     ]
    }
   ],
   "source": [
    "init_obs = envs.reset()\n",
    "print (f\"Number of Envs: {len(init_obs)}\")\n",
    "\n",
    "one_obs = init_obs[0]\n",
    "print (f\"Shape of one Env: {one_obs.shape}\")\n",
    "\n",
    "action = [0,1,2]\n",
    "obs = envs.step(action)"
   ]
  },
  {
   "cell_type": "code",
   "execution_count": 7,
   "id": "64c408cf",
   "metadata": {},
   "outputs": [],
   "source": [
    "# Calling the render function on vectorized envs\n",
    "\n",
    "import time\n",
    "\n",
    "# List of envs\n",
    "num_envs = 4\n",
    "envs = [lambda: gym.make(\"BreakoutNoFrameskip-v4\") for i in range(num_envs)]\n",
    "\n",
    "# Vec Env\n",
    "envs = SubprocVecEnv(envs)\n",
    "\n",
    "init_obs = envs.reset()\n",
    "\n",
    "for i in range(1000):\n",
    "    actions = [envs.action_space.sample() for i in range(num_envs)]\n",
    "    envs.step(actions)\n",
    "    envs.render()\n",
    "    time.sleep(0.001)\n",
    "    \n",
    "envs.close()\n"
   ]
  },
  {
   "cell_type": "code",
   "execution_count": null,
   "id": "b326f45b",
   "metadata": {},
   "outputs": [],
   "source": []
  }
 ],
 "metadata": {
  "kernelspec": {
   "display_name": "Python 3 (ipykernel)",
   "language": "python",
   "name": "python3"
  },
  "language_info": {
   "codemirror_mode": {
    "name": "ipython",
    "version": 3
   },
   "file_extension": ".py",
   "mimetype": "text/x-python",
   "name": "python",
   "nbconvert_exporter": "python",
   "pygments_lexer": "ipython3",
   "version": "3.9.12"
  }
 },
 "nbformat": 4,
 "nbformat_minor": 5
}
