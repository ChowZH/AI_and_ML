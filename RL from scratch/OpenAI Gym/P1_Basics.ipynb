{
 "cells": [
  {
   "cell_type": "code",
   "execution_count": 1,
   "id": "14ce01ec",
   "metadata": {},
   "outputs": [
    {
     "data": {
      "text/plain": [
       "'\\nThis is a practce sheet for running OpenAI Gym environments and training RL agents\\n'"
      ]
     },
     "execution_count": 1,
     "metadata": {},
     "output_type": "execute_result"
    }
   ],
   "source": [
    "'''\n",
    "This is a practce sheet for running OpenAI Gym environments and training RL agents\n",
    "'''"
   ]
  },
  {
   "cell_type": "code",
   "execution_count": 2,
   "id": "1b73efac",
   "metadata": {},
   "outputs": [],
   "source": [
    "import gym"
   ]
  },
  {
   "cell_type": "code",
   "execution_count": 3,
   "id": "51df26b3",
   "metadata": {},
   "outputs": [],
   "source": [
    "env = gym.make(\"MountainCar-v0\")"
   ]
  },
  {
   "cell_type": "code",
   "execution_count": 4,
   "id": "51d4fad0",
   "metadata": {},
   "outputs": [
    {
     "name": "stdout",
     "output_type": "stream",
     "text": [
      "Observation Space: Box([-1.2  -0.07], [0.6  0.07], (2,), float32)\n",
      "Action Space : Discrete(3)\n"
     ]
    }
   ],
   "source": [
    "obs_space = env.observation_space\n",
    "act_space = env.action_space\n",
    "\n",
    "print (f\"Observation Space: {obs_space}\")\n",
    "print (f\"Action Space : {act_space}\")"
   ]
  },
  {
   "cell_type": "code",
   "execution_count": 5,
   "id": "8ef0121c",
   "metadata": {},
   "outputs": [],
   "source": [
    "## Env class functions\n",
    "\n",
    "# reset:\n",
    "# resets the environment to it's initial state and returns the observation corresponding to the initial state\n",
    "\n",
    "# step:\n",
    "# takes actionas input and applies it to the environment, transitioning to a new state.\n",
    "\n",
    "# The reset function returns 4 things:\n",
    "# 1. observation\n",
    "# 2. reward\n",
    "# 3. done\n",
    "# 4. info"
   ]
  },
  {
   "cell_type": "code",
   "execution_count": 6,
   "id": "80f0ff41",
   "metadata": {},
   "outputs": [],
   "source": [
    "import matplotlib.pyplot as plt"
   ]
  },
  {
   "cell_type": "code",
   "execution_count": 7,
   "id": "968ea547",
   "metadata": {},
   "outputs": [
    {
     "name": "stdout",
     "output_type": "stream",
     "text": [
      "The initial observation is [-0.58732399  0.        ].\n"
     ]
    }
   ],
   "source": [
    "obs = env.reset()\n",
    "print (f\"The initial observation is {obs}.\")"
   ]
  },
  {
   "cell_type": "code",
   "execution_count": 8,
   "id": "f6a28a3b",
   "metadata": {},
   "outputs": [
    {
     "name": "stdout",
     "output_type": "stream",
     "text": [
      "The new observation is [-0.58584895  0.00147503].\n"
     ]
    }
   ],
   "source": [
    "random_action = env.action_space.sample()\n",
    "\n",
    "new_obs, reward, done, info = env.step(random_action)\n",
    "print (f\"The new observation is {new_obs}.\")"
   ]
  },
  {
   "cell_type": "code",
   "execution_count": 9,
   "id": "6fa1cbd0",
   "metadata": {},
   "outputs": [
    {
     "data": {
      "text/plain": [
       "True"
      ]
     },
     "execution_count": 9,
     "metadata": {},
     "output_type": "execute_result"
    }
   ],
   "source": [
    "env.render(mode=\"human\")"
   ]
  },
  {
   "cell_type": "code",
   "execution_count": 10,
   "id": "a62e5844",
   "metadata": {},
   "outputs": [],
   "source": [
    "env.close()"
   ]
  },
  {
   "cell_type": "code",
   "execution_count": 11,
   "id": "e884df1f",
   "metadata": {},
   "outputs": [
    {
     "name": "stderr",
     "output_type": "stream",
     "text": [
      "C:\\Users\\Toffee\\.conda\\envs\\Reinforcement_Learning\\lib\\site-packages\\pyglet\\image\\codecs\\wic.py:289: UserWarning: [WinError -2147417850] Cannot change thread mode after it is set\n",
      "  warnings.warn(str(err))\n"
     ]
    },
    {
     "data": {
      "text/plain": [
       "<matplotlib.image.AxesImage at 0x24a74a59a30>"
      ]
     },
     "execution_count": 11,
     "metadata": {},
     "output_type": "execute_result"
    },
    {
     "data": {
      "image/png": "[encoded data removed]",
      "text/plain": [
       "<Figure size 432x288 with 1 Axes>"
      ]
     },
     "metadata": {
      "needs_background": "light"
     },
     "output_type": "display_data"
    }
   ],
   "source": [
    "# for a screenshot of the game\n",
    "\n",
    "env_screen = env.render(mode = 'rgb_array')\n",
    "env.close()\n",
    "\n",
    "plt.imshow(env_screen)"
   ]
  },
  {
   "cell_type": "code",
   "execution_count": 12,
   "id": "dfa50e3e",
   "metadata": {},
   "outputs": [],
   "source": [
    "import time\n",
    "\n",
    "num_steps = 1500\n",
    "\n",
    "obs = env.reset()\n",
    "\n",
    "for step in range(num_steps):\n",
    "    # take a random action\n",
    "    action = env.action_space.sample()\n",
    "    # Or feed intelligent action = policy(obs)\n",
    "    \n",
    "    # apply action\n",
    "    obs, reward, done, info = env.step(action)\n",
    "    \n",
    "    # render the environment\n",
    "    env.render()\n",
    "    \n",
    "    # slow for next state\n",
    "    time.sleep(0.001)\n",
    "    \n",
    "    if done:\n",
    "        env.reset()\n",
    "        \n",
    "env.close()"
   ]
  },
  {
   "cell_type": "code",
   "execution_count": 13,
   "id": "94e501d9",
   "metadata": {},
   "outputs": [
    {
     "data": {
      "text/plain": [
       "gym.spaces.box.Box"
      ]
     },
     "execution_count": 13,
     "metadata": {},
     "output_type": "execute_result"
    }
   ],
   "source": [
    "type(env.observation_space)"
   ]
  },
  {
   "cell_type": "code",
   "execution_count": 14,
   "id": "9870f64a",
   "metadata": {},
   "outputs": [
    {
     "name": "stdout",
     "output_type": "stream",
     "text": [
      "Upper Bound for Env Observation: [0.6  0.07]. \n",
      "Lower Bound for Env Observation: [-1.2  -0.07]. \n"
     ]
    }
   ],
   "source": [
    "print (f\"Upper Bound for Env Observation: {env.observation_space.high}. \")\n",
    "print (f\"Lower Bound for Env Observation: {env.observation_space.low}. \")"
   ]
  },
  {
   "cell_type": "code",
   "execution_count": 15,
   "id": "089db40c",
   "metadata": {},
   "outputs": [
    {
     "name": "stdout",
     "output_type": "stream",
     "text": [
      "Observation space: Box([[[0 0 0]\n",
      "  [0 0 0]\n",
      "  [0 0 0]\n",
      "  ...\n",
      "  [0 0 0]\n",
      "  [0 0 0]\n",
      "  [0 0 0]]\n",
      "\n",
      " [[0 0 0]\n",
      "  [0 0 0]\n",
      "  [0 0 0]\n",
      "  ...\n",
      "  [0 0 0]\n",
      "  [0 0 0]\n",
      "  [0 0 0]]\n",
      "\n",
      " [[0 0 0]\n",
      "  [0 0 0]\n",
      "  [0 0 0]\n",
      "  ...\n",
      "  [0 0 0]\n",
      "  [0 0 0]\n",
      "  [0 0 0]]\n",
      "\n",
      " ...\n",
      "\n",
      " [[0 0 0]\n",
      "  [0 0 0]\n",
      "  [0 0 0]\n",
      "  ...\n",
      "  [0 0 0]\n",
      "  [0 0 0]\n",
      "  [0 0 0]]\n",
      "\n",
      " [[0 0 0]\n",
      "  [0 0 0]\n",
      "  [0 0 0]\n",
      "  ...\n",
      "  [0 0 0]\n",
      "  [0 0 0]\n",
      "  [0 0 0]]\n",
      "\n",
      " [[0 0 0]\n",
      "  [0 0 0]\n",
      "  [0 0 0]\n",
      "  ...\n",
      "  [0 0 0]\n",
      "  [0 0 0]\n",
      "  [0 0 0]]], [[[255 255 255]\n",
      "  [255 255 255]\n",
      "  [255 255 255]\n",
      "  ...\n",
      "  [255 255 255]\n",
      "  [255 255 255]\n",
      "  [255 255 255]]\n",
      "\n",
      " [[255 255 255]\n",
      "  [255 255 255]\n",
      "  [255 255 255]\n",
      "  ...\n",
      "  [255 255 255]\n",
      "  [255 255 255]\n",
      "  [255 255 255]]\n",
      "\n",
      " [[255 255 255]\n",
      "  [255 255 255]\n",
      "  [255 255 255]\n",
      "  ...\n",
      "  [255 255 255]\n",
      "  [255 255 255]\n",
      "  [255 255 255]]\n",
      "\n",
      " ...\n",
      "\n",
      " [[255 255 255]\n",
      "  [255 255 255]\n",
      "  [255 255 255]\n",
      "  ...\n",
      "  [255 255 255]\n",
      "  [255 255 255]\n",
      "  [255 255 255]]\n",
      "\n",
      " [[255 255 255]\n",
      "  [255 255 255]\n",
      "  [255 255 255]\n",
      "  ...\n",
      "  [255 255 255]\n",
      "  [255 255 255]\n",
      "  [255 255 255]]\n",
      "\n",
      " [[255 255 255]\n",
      "  [255 255 255]\n",
      "  [255 255 255]\n",
      "  ...\n",
      "  [255 255 255]\n",
      "  [255 255 255]\n",
      "  [255 255 255]]], (210, 160, 3), uint8).\n",
      "Action space: Discrete(4).\n"
     ]
    }
   ],
   "source": [
    "# Atari environments\n",
    "\n",
    "env = gym.make(\"BreakoutNoFrameskip-v4\")\n",
    "\n",
    "print (f\"Observation space: {env.observation_space}.\")\n",
    "print (f\"Action space: {env.action_space}.\")"
   ]
  },
  {
   "cell_type": "code",
   "execution_count": 17,
   "id": "8a6f468f",
   "metadata": {},
   "outputs": [],
   "source": [
    "obs = env.reset()\n",
    "\n",
    "for _ in range(1000):\n",
    "    action = env.action_space.sample()\n",
    "    obs, reward, done, info = env.step(action)\n",
    "    env.render()\n",
    "    time.sleep(0.001)\n",
    "\n",
    "env.close()"
   ]
  }
 ],
 "metadata": {
  "kernelspec": {
   "display_name": "Python 3 (ipykernel)",
   "language": "python",
   "name": "python3"
  },
  "language_info": {
   "codemirror_mode": {
    "name": "ipython",
    "version": 3
   },
   "file_extension": ".py",
   "mimetype": "text/x-python",
   "name": "python",
   "nbconvert_exporter": "python",
   "pygments_lexer": "ipython3",
   "version": "3.9.12"
  }
 },
 "nbformat": 4,
 "nbformat_minor": 5
}
