{
 "cells": [
  {
   "cell_type": "code",
   "execution_count": 1,
   "id": "c48d20d7",
   "metadata": {},
   "outputs": [],
   "source": [
    "# Tutorial 2: Building my own environment\n",
    "\n",
    "# Building a simple environment to train a QL agent to understand\n",
    "# the general concepts of building environments suitable for training\n",
    "# an agent."
   ]
  },
  {
   "cell_type": "code",
   "execution_count": 2,
   "id": "18017bbc",
   "metadata": {},
   "outputs": [],
   "source": [
    "import numpy as np\n",
    "from PIL import Image\n",
    "import cv2\n",
    "import matplotlib.pyplot as plt\n",
    "import pickle\n",
    "from matplotlib import style\n",
    "import time"
   ]
  },
  {
   "cell_type": "code",
   "execution_count": 3,
   "id": "2659d90e",
   "metadata": {},
   "outputs": [],
   "source": [
    "style.use (\"ggplot\")"
   ]
  },
  {
   "cell_type": "code",
   "execution_count": 4,
   "id": "9fece8e3",
   "metadata": {},
   "outputs": [],
   "source": [
    "SIZE = 10\n",
    "HM_EPISODES = 25000\n",
    "MOVE_PENALTY = 1\n",
    "ENEMY_PENALTY = 3000\n",
    "FOOD_REWARD = 25\n",
    "epsilon = 0.9\n",
    "EPS_DECAY = 0.9998\n",
    "SHOW_EVERY = 3000\n",
    "\n",
    "start_q_table = None # None OR filename (if already done previously)\n",
    "\n",
    "LEARNING_RATE = 0.1\n",
    "DISCOUNT = 0.95\n",
    "\n",
    "PLAYER_ID = 1\n",
    "FOOD_ID = 2\n",
    "ENEMY_ID = 3\n",
    "\n",
    "d = {1: (255, 175, 0),\n",
    "     2: (0, 255, 0),\n",
    "     3: (0, 0, 255)}"
   ]
  },
  {
   "cell_type": "code",
   "execution_count": 5,
   "id": "02413e89",
   "metadata": {},
   "outputs": [],
   "source": [
    "class Blob:\n",
    "    def __init__(self):\n",
    "        self.x = np.random.randint(0, SIZE)\n",
    "        self.y = np.random.randint(0, SIZE)\n",
    "    \n",
    "    def __str__(self):\n",
    "        return f\"{self.x, {self.y}}\"\n",
    "    \n",
    "    def __sub__(self, other):\n",
    "        return (self.x - other.x, self.y - other.y)\n",
    "    \n",
    "    def action(self, choice):\n",
    "        if choice == 0: # Move up\n",
    "            self.move(x = 1, y = 0)\n",
    "        elif choice == 1: # Move down\n",
    "            self.move(x = -1, y = 0)\n",
    "        elif choice == 2: # Move right\n",
    "            self.move(x = 0, y = 1)\n",
    "        elif choice == 3: # Move left\n",
    "            self.move(x = 0, y = -1)\n",
    "        elif choice == 4: # Move up-right\n",
    "            self.move(x = 1, y = 1)\n",
    "        elif choice == 5: # Move up-left\n",
    "            self.move(x = 1, y = -1)\n",
    "        elif choice == 6: # Move down-right\n",
    "            self.move(x = -1, y = 1)\n",
    "        elif choice == 7: # Move down-left\n",
    "            self.move(x = -1, y = -1)\n",
    "    \n",
    "    def move(self, x=False, y=False):\n",
    "        if not x:\n",
    "            self.x += np.random.randint(-1,2)\n",
    "        else:\n",
    "            self.x += x\n",
    "            \n",
    "        if not y:\n",
    "            self.y += np.random.randint(-1,2)\n",
    "        else:\n",
    "            self.y += y\n",
    "    \n",
    "        if self.x < 0:\n",
    "            self.x = 0\n",
    "        elif self.x > SIZE-1:\n",
    "            self.x = SIZE-1\n",
    "            \n",
    "        if self.y < 0:\n",
    "            self.y = 0\n",
    "        elif self.y > SIZE-1:\n",
    "            self.y = SIZE-1"
   ]
  },
  {
   "cell_type": "code",
   "execution_count": 6,
   "id": "9a2790d6",
   "metadata": {},
   "outputs": [],
   "source": [
    "if start_q_table == None:\n",
    "    q_table = {}\n",
    "    for x1 in range(-SIZE+1, SIZE):\n",
    "        for x2 in range(-SIZE+1, SIZE):\n",
    "            for y1 in range(-SIZE+1, SIZE):\n",
    "                for y2 in range(-SIZE+1, SIZE):\n",
    "                    q_table[((x1, x2), (y1, y2))] = [np.random.uniform(-5, 0) for i in range(8)]\n",
    "else:\n",
    "    with open(start_q_table, \"rb\") as f:\n",
    "        q_table = pickle.load(f)"
   ]
  },
  {
   "cell_type": "code",
   "execution_count": 7,
   "id": "a289d9d0",
   "metadata": {},
   "outputs": [
    {
     "name": "stdout",
     "output_type": "stream",
     "text": [
      "on # 0, epsilon: 0.9\n",
      "3000 ep mean:nan\n"
     ]
    },
    {
     "name": "stderr",
     "output_type": "stream",
     "text": [
      "C:\\Users\\Toffee\\.conda\\envs\\Reinforcement_Learning\\lib\\site-packages\\numpy\\core\\fromnumeric.py:3474: RuntimeWarning: Mean of empty slice.\n",
      "  return _methods._mean(a, axis=axis, dtype=dtype,\n",
      "C:\\Users\\Toffee\\.conda\\envs\\Reinforcement_Learning\\lib\\site-packages\\numpy\\core\\_methods.py:189: RuntimeWarning: invalid value encountered in double_scalars\n",
      "  ret = ret.dtype.type(ret / rcount)\n"
     ]
    },
    {
     "name": "stdout",
     "output_type": "stream",
     "text": [
      "on # 3000, epsilon: 0.49390083359356435\n",
      "3000 ep mean:-1179.7726666666667\n",
      "on # 6000, epsilon: 0.27104225936046566\n",
      "3000 ep mean:-706.578\n",
      "on # 9000, epsilon: 0.14874221981913022\n",
      "3000 ep mean:-477.8306666666667\n",
      "on # 12000, epsilon: 0.08162656262136181\n",
      "3000 ep mean:-286.926\n",
      "on # 15000, epsilon: 0.044794919246742226\n",
      "3000 ep mean:-189.44033333333334\n",
      "on # 18000, epsilon: 0.024582497729691496\n",
      "3000 ep mean:-152.91166666666666\n",
      "on # 21000, epsilon: 0.01349035124500733\n",
      "3000 ep mean:-101.71466666666667\n",
      "on # 24000, epsilon: 0.0074032174726434705\n",
      "3000 ep mean:-98.73633333333333\n"
     ]
    },
    {
     "data": {
      "image/png": "[encoded data removed]",
      "text/plain": [
       "<Figure size 432x288 with 1 Axes>"
      ]
     },
     "metadata": {
      "needs_background": "light"
     },
     "output_type": "display_data"
    }
   ],
   "source": [
    "episode_rewards = []\n",
    "for episode in range(HM_EPISODES):\n",
    "    player = Blob()\n",
    "    food = Blob()\n",
    "    enemy = Blob()\n",
    "    \n",
    "    if not episode % SHOW_EVERY:\n",
    "        print (f\"on # {episode}, epsilon: {epsilon}\")\n",
    "        print (f\"{SHOW_EVERY} ep mean:{np.mean(episode_rewards[-SHOW_EVERY:])}\")\n",
    "        show = True\n",
    "    else:\n",
    "        show = False\n",
    "        \n",
    "    episode_reward = 0\n",
    "    for i in range(200):\n",
    "        obs = (player-food), (player-enemy)\n",
    "        if np.random.random() > epsilon:\n",
    "            action = np.argmax(q_table[obs])\n",
    "        else:\n",
    "            action = np.random.randint(0,8)\n",
    "            \n",
    "        player.action(action)\n",
    "        \n",
    "        #enemy.move()\n",
    "        #food.move()\n",
    "        \n",
    "        if player.x == enemy.x and player.y == enemy.y:\n",
    "            reward = -ENEMY_PENALTY\n",
    "        elif player.x == food.x and player.y == food.y:\n",
    "            reward = FOOD_REWARD\n",
    "        else:\n",
    "            reward = -MOVE_PENALTY\n",
    "            \n",
    "        new_obs = (player-food, player-enemy)\n",
    "        max_future_q = np.max(q_table[new_obs])\n",
    "        current_q = q_table[obs][action]\n",
    "        \n",
    "        if reward == FOOD_REWARD:\n",
    "            new_q = FOOD_REWARD\n",
    "        elif reward == -ENEMY_PENALTY:\n",
    "            new_q = -ENEMY_PENALTY\n",
    "        else:\n",
    "            new_q = (1-LEARNING_RATE)*current_q + (LEARNING_RATE*(reward + DISCOUNT*max_future_q))\n",
    "            \n",
    "        q_table[obs][action] = new_q\n",
    "        \n",
    "        if show:\n",
    "            env = np.zeros((SIZE, SIZE, 3), dtype=np.uint8)\n",
    "            env[food.y][food.x] = d[FOOD_ID]\n",
    "            env[player.y][player.x] = d[PLAYER_ID]\n",
    "            env[enemy.y][enemy.x] = d[ENEMY_ID]\n",
    "            \n",
    "            img = Image.fromarray(env, \"RGB\")\n",
    "            img = img.resize((300, 300))\n",
    "            cv2.imshow(\"\", np.array(img))\n",
    "            if reward == FOOD_REWARD or reward == -ENEMY_PENALTY:\n",
    "                if cv2.waitKey(500) & 0xFF == ord(\"q\"):\n",
    "                    break\n",
    "            else:\n",
    "                if cv2.waitKey(1) & 0xFF == ord(\"q\"):\n",
    "                    break\n",
    "            \n",
    "        episode_reward += reward\n",
    "        if reward == FOOD_REWARD or reward == -ENEMY_PENALTY:\n",
    "            break\n",
    "                \n",
    "    episode_rewards.append(episode_reward)\n",
    "    epsilon *= EPS_DECAY\n",
    "        \n",
    "moving_avg = np.convolve(episode_rewards, np.ones((SHOW_EVERY,)) / SHOW_EVERY, mode=\"valid\")\n",
    "\n",
    "    \n",
    "plt.plot([i for i in range(len(moving_avg))], moving_avg)\n",
    "plt.ylabel(f\"reward {SHOW_EVERY}ma\")\n",
    "plt.xlabel(\"episode #\")\n",
    "plt.show\n",
    "    \n",
    "with open(f\"qtable-{int(time.time())}.pickle\",\"wb\") as f:\n",
    "    pickle.dump(q_table, f)"
   ]
  }
 ],
 "metadata": {
  "kernelspec": {
   "display_name": "Python 3 (ipykernel)",
   "language": "python",
   "name": "python3"
  },
  "language_info": {
   "codemirror_mode": {
    "name": "ipython",
    "version": 3
   },
   "file_extension": ".py",
   "mimetype": "text/x-python",
   "name": "python",
   "nbconvert_exporter": "python",
   "pygments_lexer": "ipython3",
   "version": "3.9.12"
  }
 },
 "nbformat": 4,
 "nbformat_minor": 5
}
