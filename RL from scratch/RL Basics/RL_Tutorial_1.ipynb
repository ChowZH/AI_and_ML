{
 "cells": [
  {
   "cell_type": "code",
   "execution_count": 1,
   "id": "1aef3ca0",
   "metadata": {},
   "outputs": [],
   "source": [
    "# Tutorial 1: Simple implementation of QL agent\n",
    "\n",
    "# Using MountainCar environment in openAI gym, a simple Q-learning agent is\n",
    "# trained to complete the task. "
   ]
  },
  {
   "cell_type": "code",
   "execution_count": 2,
   "id": "419f341a",
   "metadata": {},
   "outputs": [],
   "source": [
    "import gym\n",
    "import numpy as np"
   ]
  },
  {
   "cell_type": "code",
   "execution_count": 3,
   "id": "9ce08200",
   "metadata": {},
   "outputs": [],
   "source": [
    "env = gym.make(\"MountainCar-v0\")\n",
    "\n",
    "LEARNING_RATE = 0.1 # Alpha\n",
    "DISCOUNT = 0.95 # Gamma\n",
    "EPISODES = 20000\n",
    "SHOW_EVERY = 2000\n",
    "\n",
    "DISCRETE_OS_SIZE = [20]*len(env.observation_space.high)\n",
    "discrete_os_win_size = (env.observation_space.high-env.observation_space.low)/DISCRETE_OS_SIZE\n",
    "\n",
    "epsilon = 0.1\n",
    "START_EPSILON_DECAY = 1\n",
    "END_EPSILON_DECAY = EPISODES//2\n",
    "\n",
    "epsilon_decay_value = epsilon/(END_EPSILON_DECAY-START_EPSILON_DECAY)\n",
    "\n",
    "q_table = np.random.uniform(low=-2, high=0, size = (DISCRETE_OS_SIZE+[env.action_space.n]))\n",
    "\n",
    "def get_discrete_state(state):\n",
    "    discrete_state = (state-env.observation_space.low)/discrete_os_win_size\n",
    "    return tuple(discrete_state.astype(np.int))"
   ]
  },
  {
   "cell_type": "code",
   "execution_count": 4,
   "id": "07b3bf05",
   "metadata": {},
   "outputs": [
    {
     "name": "stderr",
     "output_type": "stream",
     "text": [
      "C:\\Users\\Toffee\\AppData\\Local\\Temp\\ipykernel_14196\\249826517.py:21: DeprecationWarning: `np.int` is a deprecated alias for the builtin `int`. To silence this warning, use `int` by itself. Doing this will not modify any behavior and is safe. When replacing `np.int`, you may wish to use e.g. `np.int64` or `np.int32` to specify the precision. If you wish to review your current use, check the release note link for additional information.\n",
      "Deprecated in NumPy 1.20; for more details and guidance: https://numpy.org/devdocs/release/1.20.0-notes.html#deprecations\n",
      "  return tuple(discrete_state.astype(np.int))\n"
     ]
    },
    {
     "name": "stdout",
     "output_type": "stream",
     "text": [
      "Episode: 0, Avg: -200.0, Min: -200.0, Max: -200.0.\n",
      "Episode: 2000, Avg: -194.715, Min: -200.0, Max: -141.0.\n",
      "Episode: 4000, Avg: -179.4955, Min: -200.0, Max: -115.0.\n",
      "Episode: 6000, Avg: -166.639, Min: -200.0, Max: -110.0.\n",
      "Episode: 8000, Avg: -164.569, Min: -200.0, Max: -113.0.\n",
      "Episode: 10000, Avg: -147.9575, Min: -200.0, Max: -90.0.\n",
      "Episode: 12000, Avg: -136.8025, Min: -174.0, Max: -90.0.\n",
      "Episode: 14000, Avg: -138.947, Min: -200.0, Max: -90.0.\n",
      "Episode: 16000, Avg: -148.482, Min: -200.0, Max: -114.0.\n",
      "Episode: 18000, Avg: -142.6105, Min: -196.0, Max: -116.0.\n"
     ]
    }
   ],
   "source": [
    "# For metric measuring\n",
    "first_ = 0\n",
    "count_ = 0\n",
    "ep_rewards = []\n",
    "aggr_ep_rewards = {'ep':[], 'avg':[], 'min':[], 'max':[]}\n",
    "\n",
    "for episode in range(EPISODES):\n",
    "    episode_reward = 0\n",
    "    if not episode % SHOW_EVERY:\n",
    "        render = True\n",
    "    else:\n",
    "        render = False\n",
    "    discrete_state = get_discrete_state(env.reset())\n",
    "    done = False\n",
    "\n",
    "    while not done:\n",
    "        \n",
    "        if np.random.random() > epsilon:\n",
    "            action = np.argmax(q_table[discrete_state])\n",
    "        else:\n",
    "            action = np.random.randint(0, env.action_space.n)\n",
    "        new_state, reward, done, _ = env.step(action)\n",
    "        episode_reward += reward\n",
    "        new_discrete_state = get_discrete_state(new_state)\n",
    "\n",
    "        if not done:\n",
    "            max_future_q = np.max(q_table[new_discrete_state]) # Use max instead of argmax. Want the max value instead of the index\n",
    "            current_q = q_table[discrete_state + (action, )]\n",
    "            new_q  = (1-LEARNING_RATE)*(current_q) + (LEARNING_RATE)*(reward + DISCOUNT * max_future_q)\n",
    "            q_table[discrete_state+(action,)] = new_q\n",
    "        elif new_state[0] >= env.goal_position:\n",
    "            q_table[discrete_state+(action,)] = 0\n",
    "            count_ += 1 # Goal counter\n",
    "            if count_ == 1:\n",
    "                first_ = episode\n",
    "\n",
    "        discrete_state = new_discrete_state\n",
    "    if END_EPSILON_DECAY >= episode >= START_EPSILON_DECAY:\n",
    "        epsilon -= epsilon_decay_value\n",
    "    \n",
    "    ep_rewards.append(episode_reward)\n",
    "    \n",
    "    if render:\n",
    "        average_reward = sum(ep_rewards[-SHOW_EVERY:])/len(ep_rewards[-SHOW_EVERY:])\n",
    "        aggr_ep_rewards['ep'].append(episode)\n",
    "        aggr_ep_rewards['avg'].append(average_reward)\n",
    "        aggr_ep_rewards['min'].append(min(ep_rewards[-SHOW_EVERY:]))\n",
    "        aggr_ep_rewards['max'].append(max(ep_rewards[-SHOW_EVERY:]))\n",
    "        \n",
    "        print (f\"Episode: {episode}, Avg: {average_reward}, Min: {min(ep_rewards[-SHOW_EVERY:])}, Max: {max(ep_rewards[-SHOW_EVERY:])}.\")\n",
    "    \n",
    "env.close()"
   ]
  },
  {
   "cell_type": "code",
   "execution_count": 5,
   "id": "05aed95a",
   "metadata": {},
   "outputs": [
    {
     "data": {
      "image/png": "[encoded data removed]",
      "text/plain": [
       "<Figure size 432x288 with 1 Axes>"
      ]
     },
     "metadata": {
      "needs_background": "light"
     },
     "output_type": "display_data"
    }
   ],
   "source": [
    "import matplotlib.pyplot as plt\n",
    "\n",
    "plt.plot(aggr_ep_rewards['ep'], aggr_ep_rewards['avg'], label = \"avg\")\n",
    "plt.plot(aggr_ep_rewards['ep'], aggr_ep_rewards['min'], label = \"min\")\n",
    "plt.plot(aggr_ep_rewards['ep'], aggr_ep_rewards['max'], label = \"max\")\n",
    "plt.legend(loc=4)\n",
    "plt.show()"
   ]
  },
  {
   "cell_type": "code",
   "execution_count": null,
   "id": "6715b7ba",
   "metadata": {},
   "outputs": [],
   "source": []
  }
 ],
 "metadata": {
  "kernelspec": {
   "display_name": "Python 3 (ipykernel)",
   "language": "python",
   "name": "python3"
  },
  "language_info": {
   "codemirror_mode": {
    "name": "ipython",
    "version": 3
   },
   "file_extension": ".py",
   "mimetype": "text/x-python",
   "name": "python",
   "nbconvert_exporter": "python",
   "pygments_lexer": "ipython3",
   "version": "3.9.12"
  }
 },
 "nbformat": 4,
 "nbformat_minor": 5
}
