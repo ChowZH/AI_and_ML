{
 "cells": [
  {
   "cell_type": "code",
   "execution_count": 1,
   "id": "4aa1e6fd",
   "metadata": {},
   "outputs": [],
   "source": [
    "from res.plot_lib import plot_data, plot_model, set_default"
   ]
  },
  {
   "cell_type": "code",
   "execution_count": 2,
   "id": "f497f2ef",
   "metadata": {},
   "outputs": [],
   "source": [
    "set_default()"
   ]
  },
  {
   "cell_type": "code",
   "execution_count": 3,
   "id": "b0eef64d",
   "metadata": {},
   "outputs": [],
   "source": [
    "import torch\n",
    "import torch.nn as nn\n",
    "import torch.nn.functional as F\n",
    "import torch.optim as optim\n",
    "from torchvision import datasets, transforms\n",
    "import matplotlib.pyplot as plt\n",
    "import numpy\n",
    "\n",
    "# function to count parameters\n",
    "def get_n_params(model):\n",
    "    np=0\n",
    "    for p in list(model.parameters()):\n",
    "        np += 1\n",
    "    return np"
   ]
  },
  {
   "cell_type": "code",
   "execution_count": 4,
   "id": "95c4b687",
   "metadata": {},
   "outputs": [
    {
     "data": {
      "text/plain": [
       "device(type='cuda')"
      ]
     },
     "execution_count": 4,
     "metadata": {},
     "output_type": "execute_result"
    }
   ],
   "source": [
    "device = torch.device(\"cuda\" if torch.cuda.is_available() else \"cpu\")\n",
    "device"
   ]
  },
  {
   "cell_type": "code",
   "execution_count": 5,
   "id": "6b1ba86b",
   "metadata": {},
   "outputs": [],
   "source": [
    "input_size = 28*28 # image of 28*28 pixels\n",
    "output_size = 10 # 10 classes, num 0-9\n",
    "\n",
    "train_loader = torch.utils.data.DataLoader(\n",
    "    datasets.MNIST('../data', train=True, download=True, transform=transforms.Compose([\n",
    "        transforms.ToTensor(),\n",
    "        transforms.Normalize((0.1307,),(0.3081,))\n",
    "    ])),\n",
    "    batch_size=64, shuffle=True\n",
    ")\n",
    "\n",
    "test_loader = torch.utils.data.DataLoader(\n",
    "    datasets.MNIST('../data', train=False, transform=transforms.Compose([\n",
    "        transforms.ToTensor(),\n",
    "        transforms.Normalize((0.1307,),(0.3081,))\n",
    "    ]), download=False),\n",
    "    batch_size=1000, shuffle=True\n",
    ")"
   ]
  },
  {
   "cell_type": "code",
   "execution_count": 6,
   "id": "2eb4850b",
   "metadata": {},
   "outputs": [
    {
     "data": {
      "image/png": "[encoded data removed]",
      "text/plain": [
       "<Figure size 1152x432 with 10 Axes>"
      ]
     },
     "metadata": {
      "needs_background": "dark"
     },
     "output_type": "display_data"
    }
   ],
   "source": [
    "# show images\n",
    "plt.figure(figsize=(16,6))\n",
    "for i in range(10):\n",
    "    plt.subplot(2,5,i+1)\n",
    "    image,_ = train_loader.dataset.__getitem__(i)\n",
    "    plt.imshow(image.squeeze().numpy())\n",
    "    plt.axis('off');"
   ]
  },
  {
   "cell_type": "code",
   "execution_count": 7,
   "id": "25e40cc6",
   "metadata": {},
   "outputs": [],
   "source": [
    "class FC2Layer(nn.Module):\n",
    "    def __init__ (self, input_size, n_hidden, output_size):\n",
    "        super().__init__()\n",
    "        self.input_size = input_size\n",
    "        self.network = nn.Sequential(\n",
    "            nn.Linear(input_size, n_hidden),\n",
    "            nn.ReLU(),\n",
    "            nn.Linear(n_hidden, n_hidden),\n",
    "            nn.ReLU(),\n",
    "            nn.Linear(n_hidden, output_size),\n",
    "            nn.LogSoftmax(dim=1)\n",
    "        )\n",
    "        \n",
    "    def forward(self, x):\n",
    "        x = x.view(-1, self.input_size)\n",
    "        return self.network(x)\n",
    "    \n",
    "class CNN(nn.Module):\n",
    "    def __init__(self, input_size, n_feature, output_size):\n",
    "        super().__init__()\n",
    "        self.n_feature = n_feature\n",
    "        self.conv1 = nn.Conv2d(in_channels = 1, out_channels=n_feature, kernel_size = 5)\n",
    "        self.conv2 = nn.Conv2d(n_feature, n_feature, kernel_size=5)\n",
    "        self.fc1 = nn.Linear(n_feature*4*4, 50)\n",
    "        self.fc2 = nn.Linear(50,10)\n",
    "        \n",
    "    def forward(self, x, verbose=False):\n",
    "        x = self.conv1(x)\n",
    "        x = F.relu(x)\n",
    "        x = F.max_pool2d(x, kernel_size=2)\n",
    "        x = self.conv2(x)\n",
    "        x = F.relu(x)\n",
    "        x = F.max_pool2d(x, kernel_size=2)\n",
    "        x = x.view(-1, self.n_feature*4*4)\n",
    "        x = self.fc1(x)\n",
    "        x = F.relu(x)\n",
    "        x = self.fc2(x)\n",
    "        x = F.log_softmax(x, dim=1)\n",
    "        return x"
   ]
  },
  {
   "cell_type": "code",
   "execution_count": 8,
   "id": "a8edd7c1",
   "metadata": {},
   "outputs": [],
   "source": [
    "## Running on GPU\n",
    "accuracy_list = []\n",
    "\n",
    "def train(epoch, model, perm=torch.arange(0,784).long()):\n",
    "    model.train()\n",
    "    for batch_idx, (data, target) in enumerate(train_loader):\n",
    "        # send to device\n",
    "        data, target = data.to(device), target.to(device)\n",
    "        \n",
    "        data = data.view(-1, 28*28)\n",
    "        data = data[:, perm]\n",
    "        data = data.view(-1,1,28,28)\n",
    "        \n",
    "        optimizer.zero_grad()\n",
    "        output = model(data)\n",
    "        loss = F.nll_loss(output, target)\n",
    "        loss.backward()\n",
    "        optimizer.step()\n",
    "        if batch_idx % 100 == 0:\n",
    "            print (f\"Train Epoch: {epoch} [{batch_idx*len(data)}/{len(train_loader.dataset)} ({100*batch_idx/len(train_loader)}%)]\")\n",
    "            print (f\"Loss: {loss.item():.6f}\")\n",
    "\n",
    "def test(model, perm = torch.arange(0,784).long()):\n",
    "    model.eval()\n",
    "    test_loss = 0\n",
    "    correct = 0\n",
    "    for data, target in test_loader:\n",
    "        data, target = data.to(device), target.to(device)\n",
    "        \n",
    "        data = data.view(-1,28*28)\n",
    "        data = data[:,perm]\n",
    "        data = data.view(-1,1,28,28)\n",
    "        output = model(data)\n",
    "        test_loss += F.nll_loss(output, target, reduction='sum').item()\n",
    "        pred = output.data.max(1, keepdim=True)[1]\n",
    "        correct += pred.eq(target.data.view_as(pred)).cpu().sum().item()\n",
    "        \n",
    "    test_loss /= len(test_loader.dataset)\n",
    "    accuracy = 100* correct/len(test_loader.dataset)\n",
    "    accuracy_list.append(accuracy)\n",
    "    print (f'\\nTest set: Average loss: {test_loss:.4f}, Accuracy: {correct}/{len(test_loader.dataset)} ({accuracy:.0f}%)\\n')"
   ]
  },
  {
   "cell_type": "code",
   "execution_count": 9,
   "id": "da14b044",
   "metadata": {},
   "outputs": [
    {
     "name": "stdout",
     "output_type": "stream",
     "text": [
      "Number of parameters: 6.\n",
      "Train Epoch: 0 [0/60000 (0.0%)]\n",
      "Loss: 2.352704\n",
      "Train Epoch: 0 [6400/60000 (10.660980810234541%)]\n",
      "Loss: 1.872741\n",
      "Train Epoch: 0 [12800/60000 (21.321961620469082%)]\n",
      "Loss: 0.965144\n",
      "Train Epoch: 0 [19200/60000 (31.982942430703623%)]\n",
      "Loss: 0.732330\n",
      "Train Epoch: 0 [25600/60000 (42.643923240938165%)]\n",
      "Loss: 0.570967\n",
      "Train Epoch: 0 [32000/60000 (53.304904051172706%)]\n",
      "Loss: 0.479185\n",
      "Train Epoch: 0 [38400/60000 (63.96588486140725%)]\n",
      "Loss: 0.354508\n",
      "Train Epoch: 0 [44800/60000 (74.6268656716418%)]\n",
      "Loss: 0.517757\n",
      "Train Epoch: 0 [51200/60000 (85.28784648187633%)]\n",
      "Loss: 0.349734\n",
      "Train Epoch: 0 [57600/60000 (95.94882729211088%)]\n",
      "Loss: 0.500617\n",
      "\n",
      "Test set: Average loss: 0.3800, Accuracy: 8907/10000 (89%)\n",
      "\n"
     ]
    }
   ],
   "source": [
    "## Training the FC network\n",
    "\n",
    "n_hidden = 8\n",
    "\n",
    "model_fnn = FC2Layer(input_size, n_hidden, output_size)\n",
    "model_fnn.to(device)\n",
    "optimizer = optim.SGD(model_fnn.parameters(), lr = 0.01, momentum = 0.5)\n",
    "print (f\"Number of parameters: {get_n_params(model_fnn)}.\")\n",
    "\n",
    "for epoch in range(0,1):\n",
    "    train(epoch,model_fnn)\n",
    "    test(model_fnn)"
   ]
  },
  {
   "cell_type": "code",
   "execution_count": 10,
   "id": "ecfac659",
   "metadata": {},
   "outputs": [
    {
     "name": "stdout",
     "output_type": "stream",
     "text": [
      "Number of parameters: 8\n",
      "Train Epoch: 0 [0/60000 (0.0%)]\n",
      "Loss: 2.341944\n",
      "Train Epoch: 0 [6400/60000 (10.660980810234541%)]\n",
      "Loss: 2.201964\n",
      "Train Epoch: 0 [12800/60000 (21.321961620469082%)]\n",
      "Loss: 0.612177\n",
      "Train Epoch: 0 [19200/60000 (31.982942430703623%)]\n",
      "Loss: 0.515302\n",
      "Train Epoch: 0 [25600/60000 (42.643923240938165%)]\n",
      "Loss: 0.311576\n",
      "Train Epoch: 0 [32000/60000 (53.304904051172706%)]\n",
      "Loss: 0.323876\n",
      "Train Epoch: 0 [38400/60000 (63.96588486140725%)]\n",
      "Loss: 0.161098\n",
      "Train Epoch: 0 [44800/60000 (74.6268656716418%)]\n",
      "Loss: 0.363872\n",
      "Train Epoch: 0 [51200/60000 (85.28784648187633%)]\n",
      "Loss: 0.171908\n",
      "Train Epoch: 0 [57600/60000 (95.94882729211088%)]\n",
      "Loss: 0.188219\n",
      "\n",
      "Test set: Average loss: 0.2080, Accuracy: 9353/10000 (94%)\n",
      "\n"
     ]
    }
   ],
   "source": [
    "## Training the ConvNet\n",
    "\n",
    "n_features = 6\n",
    "\n",
    "model_cnn = CNN(input_size, n_features, output_size)\n",
    "model_cnn.to(device)\n",
    "optimizer = optim.SGD(model_cnn.parameters(),lr = 0.01, momentum = 0.5)\n",
    "print (f\"Number of parameters: {get_n_params(model_cnn)}\")\n",
    "\n",
    "for epoch in range(0,1):\n",
    "    train (epoch, model_cnn)\n",
    "    test (model_cnn)"
   ]
  },
  {
   "cell_type": "code",
   "execution_count": 11,
   "id": "ed00b4ed",
   "metadata": {},
   "outputs": [
    {
     "data": {
      "image/png": "[encoded data removed]",
      "text/plain": [
       "<Figure size 1152x864 with 20 Axes>"
      ]
     },
     "metadata": {
      "needs_background": "dark"
     },
     "output_type": "display_data"
    }
   ],
   "source": [
    "# Changing the assumptions: inputs no-longer heirarchical\n",
    "\n",
    "perm = torch.randperm(784)\n",
    "plt.figure(figsize=(16, 12))\n",
    "for i in range(10):\n",
    "    image, _ = train_loader.dataset.__getitem__(i)\n",
    "    # permute pixels\n",
    "    image_perm = image.view(-1, 28*28).clone()\n",
    "    image_perm = image_perm[:, perm]\n",
    "    image_perm = image_perm.view(-1, 1, 28, 28)\n",
    "    plt.subplot(4, 5, i + 1)\n",
    "    plt.imshow(image.squeeze().numpy())\n",
    "    plt.axis('off')\n",
    "    plt.subplot(4, 5, i + 11)\n",
    "    plt.imshow(image_perm.squeeze().numpy())\n",
    "    plt.axis('off')"
   ]
  },
  {
   "cell_type": "code",
   "execution_count": 12,
   "id": "feb4424c",
   "metadata": {},
   "outputs": [
    {
     "name": "stdout",
     "output_type": "stream",
     "text": [
      "Number of parameters: 8\n",
      "Train Epoch: 0 [0/60000 (0.0%)]\n",
      "Loss: 2.286210\n",
      "Train Epoch: 0 [6400/60000 (10.660980810234541%)]\n",
      "Loss: 2.271537\n",
      "Train Epoch: 0 [12800/60000 (21.321961620469082%)]\n",
      "Loss: 2.098945\n",
      "Train Epoch: 0 [19200/60000 (31.982942430703623%)]\n",
      "Loss: 1.639340\n",
      "Train Epoch: 0 [25600/60000 (42.643923240938165%)]\n",
      "Loss: 1.338115\n",
      "Train Epoch: 0 [32000/60000 (53.304904051172706%)]\n",
      "Loss: 0.888225\n",
      "Train Epoch: 0 [38400/60000 (63.96588486140725%)]\n",
      "Loss: 0.995717\n",
      "Train Epoch: 0 [44800/60000 (74.6268656716418%)]\n",
      "Loss: 0.688380\n",
      "Train Epoch: 0 [51200/60000 (85.28784648187633%)]\n",
      "Loss: 0.741379\n",
      "Train Epoch: 0 [57600/60000 (95.94882729211088%)]\n",
      "Loss: 0.708130\n",
      "\n",
      "Test set: Average loss: 0.5671, Accuracy: 8212/10000 (82%)\n",
      "\n"
     ]
    }
   ],
   "source": [
    "# Training settings \n",
    "n_features = 6 # number of feature maps\n",
    "\n",
    "model_cnn = CNN(input_size, n_features, output_size)\n",
    "model_cnn.to(device)\n",
    "optimizer = optim.SGD(model_cnn.parameters(), lr=0.01, momentum=0.5)\n",
    "print('Number of parameters: {}'.format(get_n_params(model_cnn)))\n",
    "\n",
    "for epoch in range(0, 1):\n",
    "    train(epoch, model_cnn, perm)\n",
    "    test(model_cnn, perm)"
   ]
  },
  {
   "cell_type": "code",
   "execution_count": 13,
   "id": "9799730b",
   "metadata": {},
   "outputs": [
    {
     "name": "stdout",
     "output_type": "stream",
     "text": [
      "Number of parameters: 6\n",
      "Train Epoch: 0 [0/60000 (0.0%)]\n",
      "Loss: 2.305713\n",
      "Train Epoch: 0 [6400/60000 (10.660980810234541%)]\n",
      "Loss: 1.741908\n",
      "Train Epoch: 0 [12800/60000 (21.321961620469082%)]\n",
      "Loss: 1.004859\n",
      "Train Epoch: 0 [19200/60000 (31.982942430703623%)]\n",
      "Loss: 0.736023\n",
      "Train Epoch: 0 [25600/60000 (42.643923240938165%)]\n",
      "Loss: 0.954004\n",
      "Train Epoch: 0 [32000/60000 (53.304904051172706%)]\n",
      "Loss: 0.725235\n",
      "Train Epoch: 0 [38400/60000 (63.96588486140725%)]\n",
      "Loss: 0.606457\n",
      "Train Epoch: 0 [44800/60000 (74.6268656716418%)]\n",
      "Loss: 0.845800\n",
      "Train Epoch: 0 [51200/60000 (85.28784648187633%)]\n",
      "Loss: 0.440071\n",
      "Train Epoch: 0 [57600/60000 (95.94882729211088%)]\n",
      "Loss: 0.426122\n",
      "\n",
      "Test set: Average loss: 0.4224, Accuracy: 8788/10000 (88%)\n",
      "\n"
     ]
    }
   ],
   "source": [
    "n_hidden = 8    # number of hidden units\n",
    "\n",
    "model_fnn = FC2Layer(input_size, n_hidden, output_size)\n",
    "model_fnn.to(device)\n",
    "optimizer = optim.SGD(model_fnn.parameters(), lr=0.01, momentum=0.5)\n",
    "print('Number of parameters: {}'.format(get_n_params(model_fnn)))\n",
    "\n",
    "for epoch in range(0, 1):\n",
    "    train(epoch, model_fnn, perm)\n",
    "    test(model_fnn, perm)"
   ]
  },
  {
   "cell_type": "code",
   "execution_count": 16,
   "id": "e31f6ff9",
   "metadata": {},
   "outputs": [
    {
     "data": {
      "text/plain": [
       "Text(0.5, 1.0, 'Performance comparison')"
      ]
     },
     "execution_count": 16,
     "metadata": {},
     "output_type": "execute_result"
    },
    {
     "data": {
      "image/png": "[encoded data removed]",
      "text/plain": [
       "<Figure size 432x288 with 1 Axes>"
      ]
     },
     "metadata": {
      "needs_background": "dark"
     },
     "output_type": "display_data"
    }
   ],
   "source": [
    "plt.bar(('NN image', 'CNN image',\n",
    "         'CNN scrambled', 'NN scrambled'),\n",
    "        accuracy_list, width=0.4)\n",
    "plt.ylim((min(accuracy_list)-5, 96))\n",
    "plt.ylabel('Accuracy [%]')\n",
    "for tick in plt.gca().xaxis.get_major_ticks():\n",
    "    tick.label.set_fontsize(20)\n",
    "plt.title('Performance comparison')"
   ]
  },
  {
   "cell_type": "code",
   "execution_count": null,
   "id": "b6ff5ec6",
   "metadata": {},
   "outputs": [],
   "source": []
  }
 ],
 "metadata": {
  "kernelspec": {
   "display_name": "Python 3 (ipykernel)",
   "language": "python",
   "name": "python3"
  },
  "language_info": {
   "codemirror_mode": {
    "name": "ipython",
    "version": 3
   },
   "file_extension": ".py",
   "mimetype": "text/x-python",
   "name": "python",
   "nbconvert_exporter": "python",
   "pygments_lexer": "ipython3",
   "version": "3.9.12"
  }
 },
 "nbformat": 4,
 "nbformat_minor": 5
}
