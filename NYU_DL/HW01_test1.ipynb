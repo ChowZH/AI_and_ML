{
 "cells": [
  {
   "cell_type": "code",
   "execution_count": 4,
   "id": "206f6c0e",
   "metadata": {},
   "outputs": [
    {
     "ename": "TypeError",
     "evalue": "cannot unpack non-iterable NoneType object",
     "output_type": "error",
     "traceback": [
      "\u001b[1;31m---------------------------------------------------------------------------\u001b[0m",
      "\u001b[1;31mTypeError\u001b[0m                                 Traceback (most recent call last)",
      "Input \u001b[1;32mIn [4]\u001b[0m, in \u001b[0;36m<cell line: 23>\u001b[1;34m()\u001b[0m\n\u001b[0;32m     21\u001b[0m net\u001b[38;5;241m.\u001b[39mclear_grad_and_cache()\n\u001b[0;32m     22\u001b[0m y_hat \u001b[38;5;241m=\u001b[39m net\u001b[38;5;241m.\u001b[39mforward(x)\n\u001b[1;32m---> 23\u001b[0m J, dJdy_hat \u001b[38;5;241m=\u001b[39m mse_loss(y, y_hat)\n\u001b[0;32m     24\u001b[0m net\u001b[38;5;241m.\u001b[39mbackward(dJdy_hat)\n\u001b[0;32m     26\u001b[0m \u001b[38;5;66;03m#------------------------------------------------\u001b[39;00m\n\u001b[0;32m     27\u001b[0m \u001b[38;5;66;03m# compare the result with autograd\u001b[39;00m\n",
      "\u001b[1;31mTypeError\u001b[0m: cannot unpack non-iterable NoneType object"
     ]
    }
   ],
   "source": [
    "%run HW01.ipynb\n",
    "\n",
    "from collections import OrderedDict\n",
    "\n",
    "import torch\n",
    "import torch.nn as nn\n",
    "import torch.nn.functional as F\n",
    "# from mlp import MLP, mse_loss, bce_loss\n",
    "\n",
    "net = MLP(\n",
    "    linear_1_in_features=2,\n",
    "    linear_1_out_features=20,\n",
    "    f_function='relu',\n",
    "    linear_2_in_features=20,\n",
    "    linear_2_out_features=5,\n",
    "    g_function='identity'\n",
    ")\n",
    "x = torch.randn(10, 2)\n",
    "y = torch.randn(10, 5)\n",
    "\n",
    "net.clear_grad_and_cache()\n",
    "y_hat = net.forward(x)\n",
    "J, dJdy_hat = mse_loss(y, y_hat)\n",
    "net.backward(dJdy_hat)\n",
    "\n",
    "#------------------------------------------------\n",
    "# compare the result with autograd\n",
    "net_autograd = nn.Sequential(\n",
    "    OrderedDict([\n",
    "        ('linear1', nn.Linear(2, 20)),\n",
    "        ('relu', nn.ReLU()),\n",
    "        ('linear2', nn.Linear(20, 5)),\n",
    "    ])\n",
    ")\n",
    "net_autograd.linear1.weight.data = net.parameters['W1']\n",
    "net_autograd.linear1.bias.data = net.parameters['b1']\n",
    "net_autograd.linear2.weight.data = net.parameters['W2']\n",
    "net_autograd.linear2.bias.data = net.parameters['b2']\n",
    "\n",
    "y_hat_autograd = net_autograd(x)\n",
    "\n",
    "J_autograd = F.mse_loss(y_hat_autograd, y)\n",
    "\n",
    "net_autograd.zero_grad()\n",
    "J_autograd.backward()\n",
    "\n",
    "print((net_autograd.linear1.weight.grad.data - net.grads['dJdW1']).norm() < 1e-3)\n",
    "print((net_autograd.linear1.bias.grad.data - net.grads['dJdb1']).norm() < 1e-3)\n",
    "print((net_autograd.linear2.weight.grad.data - net.grads['dJdW2']).norm() < 1e-3)\n",
    "print((net_autograd.linear2.bias.grad.data - net.grads['dJdb2']).norm()< 1e-3)\n",
    "#------------------------------------------------"
   ]
  },
  {
   "cell_type": "code",
   "execution_count": null,
   "id": "f64e5215",
   "metadata": {},
   "outputs": [],
   "source": []
  }
 ],
 "metadata": {
  "kernelspec": {
   "display_name": "Python 3 (ipykernel)",
   "language": "python",
   "name": "python3"
  },
  "language_info": {
   "codemirror_mode": {
    "name": "ipython",
    "version": 3
   },
   "file_extension": ".py",
   "mimetype": "text/x-python",
   "name": "python",
   "nbconvert_exporter": "python",
   "pygments_lexer": "ipython3",
   "version": "3.9.12"
  }
 },
 "nbformat": 4,
 "nbformat_minor": 5
}
